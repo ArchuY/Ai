{
 "cells": [
  {
   "cell_type": "markdown",
   "id": "8cf2abc4",
   "metadata": {
    "id": "4d5b6b2c-c78d-4ed2-b5bc-1016fb6c5df7",
    "papermill": {
     "duration": 0.027374,
     "end_time": "2023-07-26T07:16:20.262995",
     "exception": false,
     "start_time": "2023-07-26T07:16:20.235621",
     "status": "completed"
    },
    "tags": []
   },
   "source": [
    "# Data Science Test\n",
    "\n",
    "**Exam duration:**\n",
    "24 hours  \n",
    "\n",
    "**Required output:**\n",
    "The uploaded solution must be an ipython notebook (a file of type `ipynb`). All code must be written in python. All text must be written in Markdown. \n",
    "\n",
    "You may use Colab, Jupyter lab, Jupyter notebook or any other program to complete the exam. \n",
    "\n",
    "Upload your solution to Github before the deadline. You will get the upload link at bottom of the test. \n",
    "\n",
    "#### Before submission\n",
    "\n",
    "Make sure you are submitting error free code!\n",
    "\n",
    "Click Run --> Restart Kernal and Run all cells.\n",
    "\n",
    "#### Honor code\n",
    "\n",
    "As a student of AI Adventures, I **Archana Yadav** pledge to:\n",
    "\n",
    "1. Uphold the values of academic integrity, honesty, and respect in all of my academic work.\n",
    "\n",
    "2. Not engage in any form of academic misconduct, including cheating, plagiarism, or using unauthorized resources during exams.\n",
    "\n",
    "3. Commit to not using ChatGPT or any other AI language model during exam hours, and to rely only on my own knowledge, skills, and resources.\n",
    "\n",
    "4. Follow all exam rules and instructions, and not bring any unauthorized materials, devices, or resources into the exam room.\n",
    "\n",
    "5. Report any incidents of academic misconduct that I witness or become aware of, and cooperate fully with any investigation into such incidents.\n",
    "\n",
    "6. Not ask mentors questions that relate directly to coding during exams, such as \"why does my code snippet not work as expected?\" or \"how do I implement...?\"\n",
    "\n",
    "7. If I am stuck with implementation during an exam, I am allowed to use Google as a resource.\n",
    "\n",
    "By signing this pledge, I commit to upholding the highest standards of academic integrity and to avoiding all forms of cheating or academic misconduct during my studies at AI Adventures. I understand that violating this pledge may result in disciplinary actions.\n"
   ]
  },
  {
   "cell_type": "markdown",
   "id": "520dd341",
   "metadata": {
    "id": "d9436835-161b-447c-997c-23a36b991bf1",
    "papermill": {
     "duration": 0.027906,
     "end_time": "2023-07-26T07:16:20.318129",
     "exception": false,
     "start_time": "2023-07-26T07:16:20.290223",
     "status": "completed"
    },
    "tags": []
   },
   "source": [
    "#### Answering the questions \n",
    "Most of the questions require you to implement something in Python but there might be some questions for which you do not need to write any code. \n",
    "\n",
    "For code questions (that is - almost all questions): you are required to show the **python** code you used to find the answer. An answer found using excel or other tools will not be accepted. The code should also be general, so that it would still work if the data were to change. \n",
    "\n",
    "The code output should only show the answer to the question with no extras. For example: if asked on 2018 data, show only 2018 data (and not 2015-2017 data in addition).\n",
    "\n",
    "We provide cells in which you can type your answer. Use can modify the to `Code` or `Markdown`. Use `Code` to write python code, and `Markdown` for explanations.  \n",
    "\n",
    "You are not required to use all the cells we provide, and you are also not required to use only the cells we provide. You may add or remove answer cell as you need. "
   ]
  },
  {
   "cell_type": "markdown",
   "id": "b027ce35",
   "metadata": {
    "id": "5db84584-ca28-4bd8-962e-0cd4febec6b9",
    "papermill": {
     "duration": 0.026799,
     "end_time": "2023-07-26T07:16:20.372197",
     "exception": false,
     "start_time": "2023-07-26T07:16:20.345398",
     "status": "completed"
    },
    "tags": []
   },
   "source": [
    "#### Libraries\n",
    "\n",
    "To answer the questions you may use:\n",
    "- any library you prefer (not necessarily the ones which were presented in the course)\n",
    "- all materials that we have provided you during the courses\n",
    "- the whole www (especially documentation of libraries and sites like stackoverflow may give you useful hints)\n",
    "\n",
    "In case something does not work as expected, check that you have the most recent version of the library.\n",
    "\n",
    "You can update your used libraries with a command like the following:"
   ]
  },
  {
   "cell_type": "code",
   "execution_count": 1,
   "id": "43375eb7",
   "metadata": {
    "execution": {
     "iopub.execute_input": "2023-07-26T07:16:20.429145Z",
     "iopub.status.busy": "2023-07-26T07:16:20.428442Z",
     "iopub.status.idle": "2023-07-26T07:16:20.432822Z",
     "shell.execute_reply": "2023-07-26T07:16:20.431994Z"
    },
    "id": "4c8766a7-dde1-42e6-b70c-dea0ebe26fee",
    "papermill": {
     "duration": 0.035036,
     "end_time": "2023-07-26T07:16:20.434995",
     "exception": false,
     "start_time": "2023-07-26T07:16:20.399959",
     "status": "completed"
    },
    "tags": []
   },
   "outputs": [],
   "source": [
    "# !pip install -U <library_name>\n",
    "# remove the '#' sign in case you want to update any of the libraries"
   ]
  },
  {
   "cell_type": "markdown",
   "id": "5a38962f",
   "metadata": {
    "id": "26de46dc-6734-44b6-bdfb-e44241180149",
    "papermill": {
     "duration": 0.026663,
     "end_time": "2023-07-26T07:16:20.488860",
     "exception": false,
     "start_time": "2023-07-26T07:16:20.462197",
     "status": "completed"
    },
    "tags": []
   },
   "source": [
    "# Good Luck!"
   ]
  },
  {
   "cell_type": "markdown",
   "id": "88e03154",
   "metadata": {
    "id": "4225ae74-929b-4032-8315-797a9a62ddf8",
    "papermill": {
     "duration": 0.027436,
     "end_time": "2023-07-26T07:16:20.543946",
     "exception": false,
     "start_time": "2023-07-26T07:16:20.516510",
     "status": "completed"
    },
    "tags": []
   },
   "source": [
    "---"
   ]
  },
  {
   "cell_type": "markdown",
   "id": "5a785c2d",
   "metadata": {
    "id": "ec685944-6a9c-40fc-9b94-80693afbb2bc",
    "jp-MarkdownHeadingCollapsed": true,
    "papermill": {
     "duration": 0.026744,
     "end_time": "2023-07-26T07:16:20.597931",
     "exception": false,
     "start_time": "2023-07-26T07:16:20.571187",
     "status": "completed"
    },
    "tags": []
   },
   "source": [
    "## The dataset\n",
    "\n",
    "Wildlife strikes with aircraft are increasing worldwide. Collecting and analyzing accurate data on wildlife strikes helps to better understand the scope and nature of the problem.\\\n",
    "In this exam, you will work with data on aircraft-wildlife collisions, courtesy of the [Federal Aviation Administration](https://wildlife.faa.gov/search)\\\n",
    "This dataset contains reports received from airlines, airports, pilots on aircraft collisions with wildlife.\\\n",
    "See the file: `about_the_dataset.xlsx` for an explanation on the columns in the dataset. \n"
   ]
  },
  {
   "cell_type": "markdown",
   "id": "bfbc16cc",
   "metadata": {
    "id": "f464ba11-8eb8-4c3b-80c6-db7dc3012a91",
    "jp-MarkdownHeadingCollapsed": true,
    "papermill": {
     "duration": 0.026614,
     "end_time": "2023-07-26T07:16:20.651492",
     "exception": false,
     "start_time": "2023-07-26T07:16:20.624878",
     "status": "completed"
    },
    "tags": []
   },
   "source": [
    "## Task 1 - Code of honor (mandatory, no points):"
   ]
  },
  {
   "cell_type": "markdown",
   "id": "5fde4cab",
   "metadata": {
    "id": "ee969b1f-79f8-4f25-8f74-71dad2de9c13",
    "papermill": {
     "duration": 0.026591,
     "end_time": "2023-07-26T07:16:20.705137",
     "exception": false,
     "start_time": "2023-07-26T07:16:20.678546",
     "status": "completed"
    },
    "tags": []
   },
   "source": [
    "Please copy the following sentence and add your full name:\n",
    "\n",
    "As a student of AI Adventures, I `Archana Yadav` pledge to:\n",
    "\n",
    "1. Uphold the values of academic integrity, honesty, and respect in all of my academic work.\n",
    "\n",
    "2. Not engage in any form of academic misconduct, including cheating, plagiarism, or using unauthorized resources during exams.\n",
    "\n",
    "3. Commit to not using ChatGPT or any other AI language model during exam hours, and to rely only on my own knowledge, skills, and resources.\n",
    "\n",
    "4. Follow all exam rules and instructions, and not bring any unauthorized materials, devices, or resources into the exam room.\n",
    "\n",
    "5. Report any incidents of academic misconduct that I witness or become aware of, and cooperate fully with any investigation into such incidents.\n",
    "\n",
    "6. Not ask mentors questions that relate directly to coding during exams, such as \"why does my code snippet not work as expected?\" or \"how do I implement...?\"\n",
    "\n",
    "7. If I am stuck with implementation during an exam, I am allowed to use Google as a resource.\n",
    "\n",
    "By signing this pledge, I commit to upholding the highest standards of academic integrity and to avoiding all forms of cheating or academic misconduct during my studies at AI Adventures. I understand that violating this pledge may result in disciplinary actions."
   ]
  },
  {
   "cell_type": "markdown",
   "id": "6daa4cd8",
   "metadata": {
    "id": "VGCzSEiIgw86",
    "papermill": {
     "duration": 0.026805,
     "end_time": "2023-07-26T07:16:20.758892",
     "exception": false,
     "start_time": "2023-07-26T07:16:20.732087",
     "status": "completed"
    },
    "tags": []
   },
   "source": [
    "-------------------------------------------------------------------------------------"
   ]
  },
  {
   "cell_type": "markdown",
   "id": "00c7354d",
   "metadata": {
    "id": "953aa328-510c-4f48-97ee-25d1c592ca3c",
    "jp-MarkdownHeadingCollapsed": true,
    "papermill": {
     "duration": 0.026623,
     "end_time": "2023-07-26T07:16:20.812652",
     "exception": false,
     "start_time": "2023-07-26T07:16:20.786029",
     "status": "completed"
    },
    "tags": []
   },
   "source": [
    "## Task 2 - Data Import"
   ]
  },
  {
   "cell_type": "code",
   "execution_count": 2,
   "id": "df2c1ac8",
   "metadata": {
    "execution": {
     "iopub.execute_input": "2023-07-26T07:16:20.869389Z",
     "iopub.status.busy": "2023-07-26T07:16:20.868680Z",
     "iopub.status.idle": "2023-07-26T07:16:57.494106Z",
     "shell.execute_reply": "2023-07-26T07:16:57.492789Z"
    },
    "id": "288wssmtkG_O",
    "papermill": {
     "duration": 36.657162,
     "end_time": "2023-07-26T07:16:57.496710",
     "exception": false,
     "start_time": "2023-07-26T07:16:20.839548",
     "status": "completed"
    },
    "tags": []
   },
   "outputs": [
    {
     "name": "stdout",
     "output_type": "stream",
     "text": [
      "Fetching https://media.githubusercontent.com/media/Ai-Adventures/Test_Datasets/main/strikes_from_2020.csv\n",
      "Fetching https://media.githubusercontent.com/media/Ai-Adventures/Test_Datasets/main/strikes_until_2020.csv\n"
     ]
    },
    {
     "name": "stderr",
     "output_type": "stream",
     "text": [
      "/tmp/ipykernel_20/2442340250.py:14: DtypeWarning: Columns (18,21,23) have mixed types. Specify dtype option on import or set low_memory=False.\n",
      "  df1 = pd.read_csv('strikes_until_2020.csv')\n"
     ]
    }
   ],
   "source": [
    "from urllib import request\n",
    "import pandas as pd\n",
    "module_urls = [\"https://media.githubusercontent.com/media/Ai-Adventures/Test_Datasets/main/strikes_from_2020.csv\",\"https://media.githubusercontent.com/media/Ai-Adventures/Test_Datasets/main/strikes_until_2020.csv\"]\n",
    "for url in module_urls:\n",
    "  print(f'Fetching {url}')\n",
    "  module_name = url.split('/')[-1]\n",
    "  #with open(\"file_1.txt\") as f1, open(\"file_2.txt\") as f2\n",
    "  with request.urlopen(url) as f, open(module_name,'w') as outf:\n",
    "    a = f.read()\n",
    "    outf.write(a.decode('utf-8'))\n",
    "\n",
    "\n",
    "df1 = pd.read_csv('strikes_from_2020.csv')\n",
    "df1 = pd.read_csv('strikes_until_2020.csv')  \n",
    "# this fills empty cells with empty strings"
   ]
  },
  {
   "cell_type": "markdown",
   "id": "6b980c06",
   "metadata": {
    "id": "98f76b7c-8c5c-4b8e-ac79-19423bf83b3a",
    "papermill": {
     "duration": 0.027038,
     "end_time": "2023-07-26T07:16:57.552253",
     "exception": false,
     "start_time": "2023-07-26T07:16:57.525215",
     "status": "completed"
    },
    "tags": []
   },
   "source": [
    "You will find two files:\\\n",
    "`strikes_until_2020.csv` - contains data on reported strikes up until 2020.\\\n",
    "`strikes_from_2020.csv` - contains data on reported strikes from the beginning of 2020 and onward. \n",
    "\n",
    "#### Task 2.1\n",
    "Place the files in the same directory with this python notebook. \n",
    "\n",
    "Read the files into dataframes. If you are unsure how to import a file\n",
    "using column names from a list, have a look at the documentation of the function that you use\n",
    "for the import. You may want to look into the original csv-file to find out how to configure the import.\\\n",
    "Note: you might encounter a `DtypeWarning` when reading the files. You can ignore this warning."
   ]
  },
  {
   "cell_type": "code",
   "execution_count": 3,
   "id": "90b5bf4a",
   "metadata": {
    "execution": {
     "iopub.execute_input": "2023-07-26T07:16:57.609391Z",
     "iopub.status.busy": "2023-07-26T07:16:57.609008Z",
     "iopub.status.idle": "2023-07-26T07:17:01.749878Z",
     "shell.execute_reply": "2023-07-26T07:17:01.748662Z"
    },
    "id": "990595c6-2bd8-4bc4-b909-268c5ac6f606",
    "papermill": {
     "duration": 4.172196,
     "end_time": "2023-07-26T07:17:01.752493",
     "exception": false,
     "start_time": "2023-07-26T07:16:57.580297",
     "status": "completed"
    },
    "tags": []
   },
   "outputs": [
    {
     "name": "stderr",
     "output_type": "stream",
     "text": [
      "/tmp/ipykernel_20/4273840381.py:2: DtypeWarning: Columns (18,21,23) have mixed types. Specify dtype option on import or set low_memory=False.\n",
      "  df_until = pd.read_csv('strikes_until_2020.csv')\n"
     ]
    }
   ],
   "source": [
    "df_from = pd.read_csv('strikes_from_2020.csv')\n",
    "df_until = pd.read_csv('strikes_until_2020.csv') "
   ]
  },
  {
   "cell_type": "markdown",
   "id": "216fe330",
   "metadata": {
    "id": "a0a2915c-5c87-4898-bc40-16cfddd21f51",
    "papermill": {
     "duration": 0.026788,
     "end_time": "2023-07-26T07:17:01.806715",
     "exception": false,
     "start_time": "2023-07-26T07:17:01.779927",
     "status": "completed"
    },
    "tags": []
   },
   "source": [
    "#### Task 2.2 \n",
    "How many rows and how many columns does each dataframe contain?"
   ]
  },
  {
   "cell_type": "code",
   "execution_count": 4,
   "id": "773450c7",
   "metadata": {
    "execution": {
     "iopub.execute_input": "2023-07-26T07:17:01.862835Z",
     "iopub.status.busy": "2023-07-26T07:17:01.862422Z",
     "iopub.status.idle": "2023-07-26T07:17:01.868197Z",
     "shell.execute_reply": "2023-07-26T07:17:01.867192Z"
    },
    "id": "80c9fd2c-ef4f-4d8e-a4cf-8bdf0682a6df",
    "papermill": {
     "duration": 0.036246,
     "end_time": "2023-07-26T07:17:01.870229",
     "exception": false,
     "start_time": "2023-07-26T07:17:01.833983",
     "status": "completed"
    },
    "tags": []
   },
   "outputs": [
    {
     "name": "stdout",
     "output_type": "stream",
     "text": [
      "strikes_from_2020.csv - rows : 31472 and columns : 102\n",
      "strikes_until_2020.csv - rows : 232408 and columns : 102\n"
     ]
    }
   ],
   "source": [
    "print(f'strikes_from_2020.csv - rows : {df_from.shape[0]} and columns : {df_from.shape[1]}')\n",
    "print(f'strikes_until_2020.csv - rows : {df_until.shape[0]} and columns : {df_until.shape[1]}')"
   ]
  },
  {
   "cell_type": "markdown",
   "id": "7fef82af",
   "metadata": {
    "id": "b49dde67-7cd5-4363-adfe-4e745ec15add",
    "papermill": {
     "duration": 0.027231,
     "end_time": "2023-07-26T07:17:01.925020",
     "exception": false,
     "start_time": "2023-07-26T07:17:01.897789",
     "status": "completed"
    },
    "tags": []
   },
   "source": [
    "#### Task 2.3 \n",
    "Present all of column names of one of the dataframes"
   ]
  },
  {
   "cell_type": "code",
   "execution_count": 5,
   "id": "6964b18b",
   "metadata": {
    "execution": {
     "iopub.execute_input": "2023-07-26T07:17:01.981063Z",
     "iopub.status.busy": "2023-07-26T07:17:01.980658Z",
     "iopub.status.idle": "2023-07-26T07:17:01.989578Z",
     "shell.execute_reply": "2023-07-26T07:17:01.988751Z"
    },
    "id": "b9cb7898-8c9e-4062-a07a-35320b25bfb5",
    "papermill": {
     "duration": 0.040174,
     "end_time": "2023-07-26T07:17:01.992528",
     "exception": false,
     "start_time": "2023-07-26T07:17:01.952354",
     "status": "completed"
    },
    "tags": []
   },
   "outputs": [
    {
     "name": "stdout",
     "output_type": "stream",
     "text": [
      "All columns of strikes_from_2020.csv are: \n",
      "\n"
     ]
    },
    {
     "data": {
      "text/plain": [
       "['Unnamed: 0',\n",
       " 'INDEX_NR',\n",
       " 'INCIDENT_DATE',\n",
       " 'INCIDENT_MONTH',\n",
       " 'INCIDENT_YEAR',\n",
       " 'TIME',\n",
       " 'TIME_OF_DAY',\n",
       " 'AIRPORT_ID',\n",
       " 'AIRPORT',\n",
       " 'LATITUDE',\n",
       " 'LONGITUDE',\n",
       " 'RUNWAY',\n",
       " 'STATE',\n",
       " 'FAAREGION',\n",
       " 'LOCATION',\n",
       " 'OPID',\n",
       " 'OPERATOR',\n",
       " 'REG',\n",
       " 'FLT',\n",
       " 'AIRCRAFT',\n",
       " 'AMA',\n",
       " 'AMO',\n",
       " 'EMA',\n",
       " 'EMO',\n",
       " 'AC_CLASS',\n",
       " 'AC_MASS',\n",
       " 'TYPE_ENG',\n",
       " 'NUM_ENGS',\n",
       " 'ENG_1_POS',\n",
       " 'ENG_2_POS',\n",
       " 'ENG_3_POS',\n",
       " 'ENG_4_POS',\n",
       " 'PHASE_OF_FLIGHT',\n",
       " 'HEIGHT',\n",
       " 'SPEED',\n",
       " 'DISTANCE',\n",
       " 'SKY',\n",
       " 'PRECIPITATION',\n",
       " 'AOS',\n",
       " 'COST_REPAIRS',\n",
       " 'COST_OTHER',\n",
       " 'COST_REPAIRS_INFL_ADJ',\n",
       " 'COST_OTHER_INFL_ADJ',\n",
       " 'INGESTED_OTHER',\n",
       " 'INDICATED_DAMAGE',\n",
       " 'DAMAGE_LEVEL',\n",
       " 'STR_RAD',\n",
       " 'DAM_RAD',\n",
       " 'STR_WINDSHLD',\n",
       " 'DAM_WINDSHLD',\n",
       " 'STR_NOSE',\n",
       " 'DAM_NOSE',\n",
       " 'STR_ENG1',\n",
       " 'DAM_ENG1',\n",
       " 'ING_ENG1',\n",
       " 'STR_ENG2',\n",
       " 'DAM_ENG2',\n",
       " 'ING_ENG2',\n",
       " 'STR_ENG3',\n",
       " 'DAM_ENG3',\n",
       " 'ING_ENG3',\n",
       " 'STR_ENG4',\n",
       " 'DAM_ENG4',\n",
       " 'ING_ENG4',\n",
       " 'STR_PROP',\n",
       " 'DAM_PROP',\n",
       " 'STR_WING_ROT',\n",
       " 'DAM_WING_ROT',\n",
       " 'STR_FUSE',\n",
       " 'DAM_FUSE',\n",
       " 'STR_LG',\n",
       " 'DAM_LG',\n",
       " 'STR_TAIL',\n",
       " 'DAM_TAIL',\n",
       " 'STR_LGHTS',\n",
       " 'DAM_LGHTS',\n",
       " 'STR_STR',\n",
       " 'STR_OTHER',\n",
       " 'DAM_OTHER',\n",
       " 'OTHER_SPECIFY',\n",
       " 'EFFECT',\n",
       " 'EFFECT_OTHER',\n",
       " 'BIRD_BAND_NUMBER',\n",
       " 'SPECIES_ID',\n",
       " 'SPECIES',\n",
       " 'REMARKS',\n",
       " 'REMAINS_COLLECTED',\n",
       " 'REMAINS_SENT',\n",
       " 'WARNED',\n",
       " 'NUM_SEEN',\n",
       " 'NUM_STRUCK',\n",
       " 'SIZE',\n",
       " 'ENROUTE_STATE',\n",
       " 'NR_INJURIES',\n",
       " 'NR_FATALITIES',\n",
       " 'COMMENTS',\n",
       " 'REPORTED_NAME',\n",
       " 'REPORTED_TITLE',\n",
       " 'SOURCE',\n",
       " 'PERSON',\n",
       " 'LUPDATE',\n",
       " 'TRANSFER']"
      ]
     },
     "execution_count": 5,
     "metadata": {},
     "output_type": "execute_result"
    }
   ],
   "source": [
    "print('All columns of strikes_from_2020.csv are: \\n')\n",
    "list(df_from.columns)"
   ]
  },
  {
   "cell_type": "markdown",
   "id": "25bfe432",
   "metadata": {
    "id": "e16e85fa-7c3c-4402-8c48-ea9fb09fa450",
    "jp-MarkdownHeadingCollapsed": true,
    "papermill": {
     "duration": 0.027861,
     "end_time": "2023-07-26T07:17:02.047970",
     "exception": false,
     "start_time": "2023-07-26T07:17:02.020109",
     "status": "completed"
    },
    "tags": []
   },
   "source": [
    "## Task 3 - Data Preprocessing "
   ]
  },
  {
   "cell_type": "markdown",
   "id": "0de54d36",
   "metadata": {
    "id": "6c27d5c2-e2c3-40ac-a5f4-605a80d176ff",
    "papermill": {
     "duration": 0.027333,
     "end_time": "2023-07-26T07:17:02.103252",
     "exception": false,
     "start_time": "2023-07-26T07:17:02.075919",
     "status": "completed"
    },
    "tags": []
   },
   "source": [
    "#### Task 3.1\n",
    "Combine the two dataframes: `strikes_until_2020` and `strikes_from_2020` into one dataframe named `all_strikes`. \\\n",
    "Present three rows of the dataframe."
   ]
  },
  {
   "cell_type": "code",
   "execution_count": 6,
   "id": "892b9423",
   "metadata": {
    "execution": {
     "iopub.execute_input": "2023-07-26T07:17:02.161076Z",
     "iopub.status.busy": "2023-07-26T07:17:02.160679Z",
     "iopub.status.idle": "2023-07-26T07:17:02.420986Z",
     "shell.execute_reply": "2023-07-26T07:17:02.419833Z"
    },
    "id": "37872430-f7d3-41fd-a033-4c60bd9bd241",
    "papermill": {
     "duration": 0.292752,
     "end_time": "2023-07-26T07:17:02.423577",
     "exception": false,
     "start_time": "2023-07-26T07:17:02.130825",
     "status": "completed"
    },
    "tags": []
   },
   "outputs": [
    {
     "name": "stderr",
     "output_type": "stream",
     "text": [
      "/tmp/ipykernel_20/3567185875.py:1: FutureWarning: The frame.append method is deprecated and will be removed from pandas in a future version. Use pandas.concat instead.\n",
      "  all_strikes = df_until.append(df_from,ignore_index=True)\n"
     ]
    }
   ],
   "source": [
    "all_strikes = df_until.append(df_from,ignore_index=True)"
   ]
  },
  {
   "cell_type": "code",
   "execution_count": 7,
   "id": "7a30e6d5",
   "metadata": {
    "execution": {
     "iopub.execute_input": "2023-07-26T07:17:02.481023Z",
     "iopub.status.busy": "2023-07-26T07:17:02.480619Z",
     "iopub.status.idle": "2023-07-26T07:17:02.510066Z",
     "shell.execute_reply": "2023-07-26T07:17:02.508939Z"
    },
    "papermill": {
     "duration": 0.061,
     "end_time": "2023-07-26T07:17:02.512406",
     "exception": false,
     "start_time": "2023-07-26T07:17:02.451406",
     "status": "completed"
    },
    "tags": []
   },
   "outputs": [
    {
     "data": {
      "text/html": [
       "<div>\n",
       "<style scoped>\n",
       "    .dataframe tbody tr th:only-of-type {\n",
       "        vertical-align: middle;\n",
       "    }\n",
       "\n",
       "    .dataframe tbody tr th {\n",
       "        vertical-align: top;\n",
       "    }\n",
       "\n",
       "    .dataframe thead th {\n",
       "        text-align: right;\n",
       "    }\n",
       "</style>\n",
       "<table border=\"1\" class=\"dataframe\">\n",
       "  <thead>\n",
       "    <tr style=\"text-align: right;\">\n",
       "      <th></th>\n",
       "      <th>Unnamed: 0</th>\n",
       "      <th>INDEX_NR</th>\n",
       "      <th>INCIDENT_DATE</th>\n",
       "      <th>INCIDENT_MONTH</th>\n",
       "      <th>INCIDENT_YEAR</th>\n",
       "      <th>TIME</th>\n",
       "      <th>TIME_OF_DAY</th>\n",
       "      <th>AIRPORT_ID</th>\n",
       "      <th>AIRPORT</th>\n",
       "      <th>LATITUDE</th>\n",
       "      <th>...</th>\n",
       "      <th>ENROUTE_STATE</th>\n",
       "      <th>NR_INJURIES</th>\n",
       "      <th>NR_FATALITIES</th>\n",
       "      <th>COMMENTS</th>\n",
       "      <th>REPORTED_NAME</th>\n",
       "      <th>REPORTED_TITLE</th>\n",
       "      <th>SOURCE</th>\n",
       "      <th>PERSON</th>\n",
       "      <th>LUPDATE</th>\n",
       "      <th>TRANSFER</th>\n",
       "    </tr>\n",
       "  </thead>\n",
       "  <tbody>\n",
       "    <tr>\n",
       "      <th>0</th>\n",
       "      <td>0</td>\n",
       "      <td>608247</td>\n",
       "      <td>06/05/1991 0:00</td>\n",
       "      <td>5</td>\n",
       "      <td>1991</td>\n",
       "      <td>NaN</td>\n",
       "      <td>Day</td>\n",
       "      <td>KSAT</td>\n",
       "      <td>SAN ANTONIO INTL</td>\n",
       "      <td>29.53369</td>\n",
       "      <td>...</td>\n",
       "      <td>NaN</td>\n",
       "      <td>NaN</td>\n",
       "      <td>NaN</td>\n",
       "      <td>SOURCE = FAA FROM 3830 /Legacy Record=100006/</td>\n",
       "      <td>REDACTED</td>\n",
       "      <td>REDACTED</td>\n",
       "      <td>Other</td>\n",
       "      <td>Pilot</td>\n",
       "      <td>21/11/1997 0:00</td>\n",
       "      <td>0</td>\n",
       "    </tr>\n",
       "    <tr>\n",
       "      <th>1</th>\n",
       "      <td>1</td>\n",
       "      <td>608248</td>\n",
       "      <td>05/11/1993 0:00</td>\n",
       "      <td>11</td>\n",
       "      <td>1993</td>\n",
       "      <td>NaN</td>\n",
       "      <td>Dawn</td>\n",
       "      <td>KMCI</td>\n",
       "      <td>KANSAS CITY INTL</td>\n",
       "      <td>39.29761</td>\n",
       "      <td>...</td>\n",
       "      <td>NaN</td>\n",
       "      <td>NaN</td>\n",
       "      <td>NaN</td>\n",
       "      <td>THIS MAY BE DUPL STRIKE FOR AIR MIDWEST, BUT T...</td>\n",
       "      <td>REDACTED</td>\n",
       "      <td>REDACTED</td>\n",
       "      <td>FAA Form 5200-7</td>\n",
       "      <td>NaN</td>\n",
       "      <td>13/05/1998 0:00</td>\n",
       "      <td>0</td>\n",
       "    </tr>\n",
       "    <tr>\n",
       "      <th>2</th>\n",
       "      <td>2</td>\n",
       "      <td>608249</td>\n",
       "      <td>02/07/1995 0:00</td>\n",
       "      <td>7</td>\n",
       "      <td>1995</td>\n",
       "      <td>NaN</td>\n",
       "      <td>NaN</td>\n",
       "      <td>KMCI</td>\n",
       "      <td>KANSAS CITY INTL</td>\n",
       "      <td>39.29761</td>\n",
       "      <td>...</td>\n",
       "      <td>NaN</td>\n",
       "      <td>NaN</td>\n",
       "      <td>NaN</td>\n",
       "      <td>/Legacy Record=100008/</td>\n",
       "      <td>REDACTED</td>\n",
       "      <td>REDACTED</td>\n",
       "      <td>Air Transport Report</td>\n",
       "      <td>Air Transport Operations</td>\n",
       "      <td>20/12/2007 0:00</td>\n",
       "      <td>0</td>\n",
       "    </tr>\n",
       "  </tbody>\n",
       "</table>\n",
       "<p>3 rows × 102 columns</p>\n",
       "</div>"
      ],
      "text/plain": [
       "   Unnamed: 0  INDEX_NR    INCIDENT_DATE  INCIDENT_MONTH  INCIDENT_YEAR TIME  \\\n",
       "0           0    608247  06/05/1991 0:00               5           1991  NaN   \n",
       "1           1    608248  05/11/1993 0:00              11           1993  NaN   \n",
       "2           2    608249  02/07/1995 0:00               7           1995  NaN   \n",
       "\n",
       "  TIME_OF_DAY AIRPORT_ID           AIRPORT  LATITUDE  ...  ENROUTE_STATE  \\\n",
       "0         Day       KSAT  SAN ANTONIO INTL  29.53369  ...            NaN   \n",
       "1        Dawn       KMCI  KANSAS CITY INTL  39.29761  ...            NaN   \n",
       "2         NaN       KMCI  KANSAS CITY INTL  39.29761  ...            NaN   \n",
       "\n",
       "  NR_INJURIES NR_FATALITIES  \\\n",
       "0         NaN           NaN   \n",
       "1         NaN           NaN   \n",
       "2         NaN           NaN   \n",
       "\n",
       "                                            COMMENTS REPORTED_NAME  \\\n",
       "0      SOURCE = FAA FROM 3830 /Legacy Record=100006/      REDACTED   \n",
       "1  THIS MAY BE DUPL STRIKE FOR AIR MIDWEST, BUT T...      REDACTED   \n",
       "2                             /Legacy Record=100008/      REDACTED   \n",
       "\n",
       "  REPORTED_TITLE                SOURCE                    PERSON  \\\n",
       "0       REDACTED                 Other                     Pilot   \n",
       "1       REDACTED       FAA Form 5200-7                       NaN   \n",
       "2       REDACTED  Air Transport Report  Air Transport Operations   \n",
       "\n",
       "           LUPDATE TRANSFER  \n",
       "0  21/11/1997 0:00        0  \n",
       "1  13/05/1998 0:00        0  \n",
       "2  20/12/2007 0:00        0  \n",
       "\n",
       "[3 rows x 102 columns]"
      ]
     },
     "execution_count": 7,
     "metadata": {},
     "output_type": "execute_result"
    }
   ],
   "source": [
    "all_strikes.head(3)"
   ]
  },
  {
   "cell_type": "markdown",
   "id": "4414eee9",
   "metadata": {
    "id": "3d11c4c3-6b3e-4d53-958d-7dff924ab477",
    "papermill": {
     "duration": 0.028335,
     "end_time": "2023-07-26T07:17:02.568790",
     "exception": false,
     "start_time": "2023-07-26T07:17:02.540455",
     "status": "completed"
    },
    "tags": []
   },
   "source": [
    "#### Task 3.2 \n",
    "\n",
    "Remove from the dataframe  columns that contain more than 180,000 missing values. How many columns are left?\\\n",
    "Note: in this question, as in the next ones, make sure to assign back to `all_strikes`"
   ]
  },
  {
   "cell_type": "code",
   "execution_count": 8,
   "id": "ce7075ad",
   "metadata": {
    "execution": {
     "iopub.execute_input": "2023-07-26T07:17:02.627542Z",
     "iopub.status.busy": "2023-07-26T07:17:02.627176Z",
     "iopub.status.idle": "2023-07-26T07:17:04.376829Z",
     "shell.execute_reply": "2023-07-26T07:17:04.375848Z"
    },
    "id": "ccac999c-a984-4b33-820e-85994202fbe7",
    "papermill": {
     "duration": 1.781605,
     "end_time": "2023-07-26T07:17:04.379332",
     "exception": false,
     "start_time": "2023-07-26T07:17:02.597727",
     "status": "completed"
    },
    "tags": []
   },
   "outputs": [
    {
     "data": {
      "text/plain": [
       "Index(['LOCATION', 'ENG_3_POS', 'ENG_4_POS', 'AOS', 'COST_REPAIRS',\n",
       "       'COST_OTHER', 'COST_REPAIRS_INFL_ADJ', 'COST_OTHER_INFL_ADJ',\n",
       "       'OTHER_SPECIFY', 'EFFECT_OTHER', 'BIRD_BAND_NUMBER', 'ENROUTE_STATE',\n",
       "       'NR_INJURIES', 'NR_FATALITIES'],\n",
       "      dtype='object')"
      ]
     },
     "execution_count": 8,
     "metadata": {},
     "output_type": "execute_result"
    }
   ],
   "source": [
    "more_na =all_strikes.columns[all_strikes.isna().sum()>180000]\n",
    "more_na"
   ]
  },
  {
   "cell_type": "code",
   "execution_count": 9,
   "id": "68ca80d4",
   "metadata": {
    "execution": {
     "iopub.execute_input": "2023-07-26T07:17:04.437711Z",
     "iopub.status.busy": "2023-07-26T07:17:04.437338Z",
     "iopub.status.idle": "2023-07-26T07:17:04.576141Z",
     "shell.execute_reply": "2023-07-26T07:17:04.575003Z"
    },
    "papermill": {
     "duration": 0.170661,
     "end_time": "2023-07-26T07:17:04.578506",
     "exception": false,
     "start_time": "2023-07-26T07:17:04.407845",
     "status": "completed"
    },
    "tags": []
   },
   "outputs": [
    {
     "name": "stdout",
     "output_type": "stream",
     "text": [
      "The total number of columns remain after dropping the columns having > 180,000 Null values : 88\n"
     ]
    }
   ],
   "source": [
    "df = all_strikes.drop(more_na,axis=1)\n",
    "print(f'The total number of columns remain after dropping the columns having > 180,000 Null values : {len(df.columns)}')"
   ]
  },
  {
   "cell_type": "markdown",
   "id": "d3920ef8",
   "metadata": {
    "id": "c19c4ce1-c7a0-4e92-b6aa-7f92f962acca",
    "papermill": {
     "duration": 0.029056,
     "end_time": "2023-07-26T07:17:04.637497",
     "exception": false,
     "start_time": "2023-07-26T07:17:04.608441",
     "status": "completed"
    },
    "tags": []
   },
   "source": [
    "#### Task 3.3 \n",
    "Remove columns that contain the same values in ALL rows.\\\n",
    "Print the names of the columns you removed."
   ]
  },
  {
   "cell_type": "code",
   "execution_count": 10,
   "id": "05e682c2",
   "metadata": {
    "execution": {
     "iopub.execute_input": "2023-07-26T07:17:04.695961Z",
     "iopub.status.busy": "2023-07-26T07:17:04.695584Z",
     "iopub.status.idle": "2023-07-26T07:17:05.709598Z",
     "shell.execute_reply": "2023-07-26T07:17:05.708563Z"
    },
    "papermill": {
     "duration": 1.045741,
     "end_time": "2023-07-26T07:17:05.711913",
     "exception": false,
     "start_time": "2023-07-26T07:17:04.666172",
     "status": "completed"
    },
    "tags": []
   },
   "outputs": [
    {
     "name": "stdout",
     "output_type": "stream",
     "text": [
      "number of columns having same values in all rows : 4\n",
      "columns : Index(['STR_STR', 'REPORTED_NAME', 'REPORTED_TITLE', 'TRANSFER'], dtype='object')\n"
     ]
    }
   ],
   "source": [
    "same_value = df.apply(lambda x: x.nunique()==1) \n",
    "\n",
    "print(f'number of columns having same values in all rows : {same_value.sum()}')\n",
    "print(f'columns : {df.columns[same_value]}')   \n",
    "\n",
    "df.drop(df.columns[same_value],axis=1,inplace=True)"
   ]
  },
  {
   "cell_type": "markdown",
   "id": "103f18fa",
   "metadata": {
    "papermill": {
     "duration": 0.028263,
     "end_time": "2023-07-26T07:17:05.769589",
     "exception": false,
     "start_time": "2023-07-26T07:17:05.741326",
     "status": "completed"
    },
    "tags": []
   },
   "source": [
    "##### There is 4 columns that contain the same values in all rows that are:\n",
    "\n",
    "##### 'STR_STR', 'REPORTED_NAME', 'REPORTED_TITLE', 'TRANSFER'"
   ]
  },
  {
   "cell_type": "code",
   "execution_count": 11,
   "id": "4b5d286c",
   "metadata": {
    "execution": {
     "iopub.execute_input": "2023-07-26T07:17:05.830046Z",
     "iopub.status.busy": "2023-07-26T07:17:05.829326Z",
     "iopub.status.idle": "2023-07-26T07:17:05.856243Z",
     "shell.execute_reply": "2023-07-26T07:17:05.855015Z"
    },
    "papermill": {
     "duration": 0.060326,
     "end_time": "2023-07-26T07:17:05.858590",
     "exception": false,
     "start_time": "2023-07-26T07:17:05.798264",
     "status": "completed"
    },
    "tags": []
   },
   "outputs": [
    {
     "data": {
      "text/html": [
       "<div>\n",
       "<style scoped>\n",
       "    .dataframe tbody tr th:only-of-type {\n",
       "        vertical-align: middle;\n",
       "    }\n",
       "\n",
       "    .dataframe tbody tr th {\n",
       "        vertical-align: top;\n",
       "    }\n",
       "\n",
       "    .dataframe thead th {\n",
       "        text-align: right;\n",
       "    }\n",
       "</style>\n",
       "<table border=\"1\" class=\"dataframe\">\n",
       "  <thead>\n",
       "    <tr style=\"text-align: right;\">\n",
       "      <th></th>\n",
       "      <th>Unnamed: 0</th>\n",
       "      <th>INDEX_NR</th>\n",
       "      <th>INCIDENT_DATE</th>\n",
       "      <th>INCIDENT_MONTH</th>\n",
       "      <th>INCIDENT_YEAR</th>\n",
       "      <th>TIME</th>\n",
       "      <th>TIME_OF_DAY</th>\n",
       "      <th>AIRPORT_ID</th>\n",
       "      <th>AIRPORT</th>\n",
       "      <th>LATITUDE</th>\n",
       "      <th>...</th>\n",
       "      <th>REMAINS_COLLECTED</th>\n",
       "      <th>REMAINS_SENT</th>\n",
       "      <th>WARNED</th>\n",
       "      <th>NUM_SEEN</th>\n",
       "      <th>NUM_STRUCK</th>\n",
       "      <th>SIZE</th>\n",
       "      <th>COMMENTS</th>\n",
       "      <th>SOURCE</th>\n",
       "      <th>PERSON</th>\n",
       "      <th>LUPDATE</th>\n",
       "    </tr>\n",
       "  </thead>\n",
       "  <tbody>\n",
       "    <tr>\n",
       "      <th>0</th>\n",
       "      <td>0</td>\n",
       "      <td>608247</td>\n",
       "      <td>06/05/1991 0:00</td>\n",
       "      <td>5</td>\n",
       "      <td>1991</td>\n",
       "      <td>NaN</td>\n",
       "      <td>Day</td>\n",
       "      <td>KSAT</td>\n",
       "      <td>SAN ANTONIO INTL</td>\n",
       "      <td>29.53369</td>\n",
       "      <td>...</td>\n",
       "      <td>0</td>\n",
       "      <td>0</td>\n",
       "      <td>No</td>\n",
       "      <td>1</td>\n",
       "      <td>1</td>\n",
       "      <td>Medium</td>\n",
       "      <td>SOURCE = FAA FROM 3830 /Legacy Record=100006/</td>\n",
       "      <td>Other</td>\n",
       "      <td>Pilot</td>\n",
       "      <td>21/11/1997 0:00</td>\n",
       "    </tr>\n",
       "  </tbody>\n",
       "</table>\n",
       "<p>1 rows × 84 columns</p>\n",
       "</div>"
      ],
      "text/plain": [
       "   Unnamed: 0  INDEX_NR    INCIDENT_DATE  INCIDENT_MONTH  INCIDENT_YEAR TIME  \\\n",
       "0           0    608247  06/05/1991 0:00               5           1991  NaN   \n",
       "\n",
       "  TIME_OF_DAY AIRPORT_ID           AIRPORT  LATITUDE  ...  REMAINS_COLLECTED  \\\n",
       "0         Day       KSAT  SAN ANTONIO INTL  29.53369  ...                  0   \n",
       "\n",
       "  REMAINS_SENT WARNED NUM_SEEN NUM_STRUCK    SIZE  \\\n",
       "0            0     No        1          1  Medium   \n",
       "\n",
       "                                        COMMENTS SOURCE PERSON  \\\n",
       "0  SOURCE = FAA FROM 3830 /Legacy Record=100006/  Other  Pilot   \n",
       "\n",
       "           LUPDATE  \n",
       "0  21/11/1997 0:00  \n",
       "\n",
       "[1 rows x 84 columns]"
      ]
     },
     "execution_count": 11,
     "metadata": {},
     "output_type": "execute_result"
    }
   ],
   "source": [
    "df.head(1)"
   ]
  },
  {
   "cell_type": "code",
   "execution_count": 12,
   "id": "4c188216",
   "metadata": {
    "execution": {
     "iopub.execute_input": "2023-07-26T07:17:05.943915Z",
     "iopub.status.busy": "2023-07-26T07:17:05.943205Z",
     "iopub.status.idle": "2023-07-26T07:17:07.936906Z",
     "shell.execute_reply": "2023-07-26T07:17:07.935725Z"
    },
    "papermill": {
     "duration": 2.040716,
     "end_time": "2023-07-26T07:17:07.939140",
     "exception": false,
     "start_time": "2023-07-26T07:17:05.898424",
     "status": "completed"
    },
    "tags": []
   },
   "outputs": [
    {
     "data": {
      "text/plain": [
       "68"
      ]
     },
     "execution_count": 12,
     "metadata": {},
     "output_type": "execute_result"
    }
   ],
   "source": [
    "df1 =df.copy()\n",
    "df1.drop(['TIME','Unnamed: 0','INDEX_NR'],axis=1,inplace=True)\n",
    "df1.duplicated().sum()"
   ]
  },
  {
   "cell_type": "code",
   "execution_count": 13,
   "id": "04547b40",
   "metadata": {
    "execution": {
     "iopub.execute_input": "2023-07-26T07:17:08.001328Z",
     "iopub.status.busy": "2023-07-26T07:17:08.000910Z",
     "iopub.status.idle": "2023-07-26T07:17:09.416901Z",
     "shell.execute_reply": "2023-07-26T07:17:09.415667Z"
    },
    "papermill": {
     "duration": 1.450384,
     "end_time": "2023-07-26T07:17:09.419549",
     "exception": false,
     "start_time": "2023-07-26T07:17:07.969165",
     "status": "completed"
    },
    "tags": []
   },
   "outputs": [],
   "source": [
    "df1.drop_duplicates(inplace=True)\n"
   ]
  },
  {
   "cell_type": "markdown",
   "id": "b328fb8a",
   "metadata": {
    "papermill": {
     "duration": 0.028279,
     "end_time": "2023-07-26T07:17:09.477272",
     "exception": false,
     "start_time": "2023-07-26T07:17:09.448993",
     "status": "completed"
    },
    "tags": []
   },
   "source": [
    "## Fill na (PERSON)"
   ]
  },
  {
   "cell_type": "code",
   "execution_count": 14,
   "id": "a1f7faa5",
   "metadata": {
    "execution": {
     "iopub.execute_input": "2023-07-26T07:17:09.537917Z",
     "iopub.status.busy": "2023-07-26T07:17:09.537075Z",
     "iopub.status.idle": "2023-07-26T07:17:09.541778Z",
     "shell.execute_reply": "2023-07-26T07:17:09.540972Z"
    },
    "papermill": {
     "duration": 0.038061,
     "end_time": "2023-07-26T07:17:09.543997",
     "exception": false,
     "start_time": "2023-07-26T07:17:09.505936",
     "status": "completed"
    },
    "tags": []
   },
   "outputs": [],
   "source": [
    "# df1[['SOURCE','PERSON']].isna().sum()"
   ]
  },
  {
   "cell_type": "code",
   "execution_count": 15,
   "id": "cc2cad39",
   "metadata": {
    "execution": {
     "iopub.execute_input": "2023-07-26T07:17:09.604038Z",
     "iopub.status.busy": "2023-07-26T07:17:09.603261Z",
     "iopub.status.idle": "2023-07-26T07:17:09.607926Z",
     "shell.execute_reply": "2023-07-26T07:17:09.607030Z"
    },
    "papermill": {
     "duration": 0.03715,
     "end_time": "2023-07-26T07:17:09.609896",
     "exception": false,
     "start_time": "2023-07-26T07:17:09.572746",
     "status": "completed"
    },
    "tags": []
   },
   "outputs": [],
   "source": [
    "# grp_person= df1[df1['PERSON'].notna()].groupby('SOURCE').agg({'PERSON': pd.Series.mode}).reset_index()\n",
    "# grp_person"
   ]
  },
  {
   "cell_type": "code",
   "execution_count": 16,
   "id": "07dbddac",
   "metadata": {
    "execution": {
     "iopub.execute_input": "2023-07-26T07:17:09.669838Z",
     "iopub.status.busy": "2023-07-26T07:17:09.669092Z",
     "iopub.status.idle": "2023-07-26T07:17:09.673408Z",
     "shell.execute_reply": "2023-07-26T07:17:09.672694Z"
    },
    "papermill": {
     "duration": 0.03608,
     "end_time": "2023-07-26T07:17:09.675205",
     "exception": false,
     "start_time": "2023-07-26T07:17:09.639125",
     "status": "completed"
    },
    "tags": []
   },
   "outputs": [],
   "source": [
    "# def fillna_person(x):\n",
    "#     return grp_person.loc[x==grp_person['SOURCE'],'PERSON'].values[0]\n",
    "\n",
    "# df1.loc[df1['PERSON'].isna(),'PERSON']=df1.loc[df1['PERSON'].isna(),'SOURCE'].apply(fillna_person)"
   ]
  },
  {
   "cell_type": "code",
   "execution_count": 17,
   "id": "30e780f7",
   "metadata": {
    "execution": {
     "iopub.execute_input": "2023-07-26T07:17:09.735407Z",
     "iopub.status.busy": "2023-07-26T07:17:09.734713Z",
     "iopub.status.idle": "2023-07-26T07:17:09.738619Z",
     "shell.execute_reply": "2023-07-26T07:17:09.737884Z"
    },
    "papermill": {
     "duration": 0.036494,
     "end_time": "2023-07-26T07:17:09.740680",
     "exception": false,
     "start_time": "2023-07-26T07:17:09.704186",
     "status": "completed"
    },
    "tags": []
   },
   "outputs": [],
   "source": [
    "# df1['PERSON'].unique()"
   ]
  },
  {
   "cell_type": "code",
   "execution_count": 18,
   "id": "2204fb6c",
   "metadata": {
    "execution": {
     "iopub.execute_input": "2023-07-26T07:17:09.799861Z",
     "iopub.status.busy": "2023-07-26T07:17:09.799445Z",
     "iopub.status.idle": "2023-07-26T07:17:09.804009Z",
     "shell.execute_reply": "2023-07-26T07:17:09.802837Z"
    },
    "papermill": {
     "duration": 0.03648,
     "end_time": "2023-07-26T07:17:09.805958",
     "exception": false,
     "start_time": "2023-07-26T07:17:09.769478",
     "status": "completed"
    },
    "tags": []
   },
   "outputs": [],
   "source": [
    "# df1['PERSON'].isna().sum()"
   ]
  },
  {
   "cell_type": "markdown",
   "id": "180119ca",
   "metadata": {
    "papermill": {
     "duration": 0.028475,
     "end_time": "2023-07-26T07:17:09.863201",
     "exception": false,
     "start_time": "2023-07-26T07:17:09.834726",
     "status": "completed"
    },
    "tags": []
   },
   "source": [
    "## FILL NA (NUM_SEEN)"
   ]
  },
  {
   "cell_type": "code",
   "execution_count": 19,
   "id": "b981eb24",
   "metadata": {
    "execution": {
     "iopub.execute_input": "2023-07-26T07:17:09.922325Z",
     "iopub.status.busy": "2023-07-26T07:17:09.921913Z",
     "iopub.status.idle": "2023-07-26T07:17:09.926218Z",
     "shell.execute_reply": "2023-07-26T07:17:09.925281Z"
    },
    "papermill": {
     "duration": 0.036211,
     "end_time": "2023-07-26T07:17:09.928172",
     "exception": false,
     "start_time": "2023-07-26T07:17:09.891961",
     "status": "completed"
    },
    "tags": []
   },
   "outputs": [],
   "source": [
    "# df1[['NUM_SEEN','NUM_STRUCK']].isna().sum()"
   ]
  },
  {
   "cell_type": "code",
   "execution_count": 20,
   "id": "bac47227",
   "metadata": {
    "execution": {
     "iopub.execute_input": "2023-07-26T07:17:09.987290Z",
     "iopub.status.busy": "2023-07-26T07:17:09.986884Z",
     "iopub.status.idle": "2023-07-26T07:17:09.991147Z",
     "shell.execute_reply": "2023-07-26T07:17:09.990198Z"
    },
    "papermill": {
     "duration": 0.036028,
     "end_time": "2023-07-26T07:17:09.992986",
     "exception": false,
     "start_time": "2023-07-26T07:17:09.956958",
     "status": "completed"
    },
    "tags": []
   },
   "outputs": [],
   "source": [
    "# grp_seen = df1.groupby('NUM_STRUCK').agg({'NUM_SEEN':pd.Series.mode}).reset_index()"
   ]
  },
  {
   "cell_type": "code",
   "execution_count": 21,
   "id": "e8ac3d5d",
   "metadata": {
    "execution": {
     "iopub.execute_input": "2023-07-26T07:17:10.053284Z",
     "iopub.status.busy": "2023-07-26T07:17:10.052136Z",
     "iopub.status.idle": "2023-07-26T07:17:10.056297Z",
     "shell.execute_reply": "2023-07-26T07:17:10.055575Z"
    },
    "papermill": {
     "duration": 0.036061,
     "end_time": "2023-07-26T07:17:10.058164",
     "exception": false,
     "start_time": "2023-07-26T07:17:10.022103",
     "status": "completed"
    },
    "tags": []
   },
   "outputs": [],
   "source": [
    "# def fillna_seen(x):\n",
    "#     return grp_seen.loc[x==grp_seen['NUM_STRUCK'],'NUM_SEEN'].values\n",
    "\n",
    "# df1.loc[df1['NUM_SEEN'].isna(),'NUM_SEEN']=df1.loc[df1['NUM_SEEN'].isna(),'NUM_STRUCK'].apply(fillna_seen)"
   ]
  },
  {
   "cell_type": "code",
   "execution_count": 22,
   "id": "a8873634",
   "metadata": {
    "execution": {
     "iopub.execute_input": "2023-07-26T07:17:10.117383Z",
     "iopub.status.busy": "2023-07-26T07:17:10.116637Z",
     "iopub.status.idle": "2023-07-26T07:17:10.120710Z",
     "shell.execute_reply": "2023-07-26T07:17:10.119960Z"
    },
    "papermill": {
     "duration": 0.035729,
     "end_time": "2023-07-26T07:17:10.122684",
     "exception": false,
     "start_time": "2023-07-26T07:17:10.086955",
     "status": "completed"
    },
    "tags": []
   },
   "outputs": [],
   "source": [
    "# df1 = df1.explode('NUM_SEEN')"
   ]
  },
  {
   "cell_type": "code",
   "execution_count": 23,
   "id": "47731a53",
   "metadata": {
    "execution": {
     "iopub.execute_input": "2023-07-26T07:17:10.182352Z",
     "iopub.status.busy": "2023-07-26T07:17:10.181650Z",
     "iopub.status.idle": "2023-07-26T07:17:10.185506Z",
     "shell.execute_reply": "2023-07-26T07:17:10.184814Z"
    },
    "papermill": {
     "duration": 0.035825,
     "end_time": "2023-07-26T07:17:10.187337",
     "exception": false,
     "start_time": "2023-07-26T07:17:10.151512",
     "status": "completed"
    },
    "tags": []
   },
   "outputs": [],
   "source": [
    "# df1['NUM_SEEN'].isna().sum()"
   ]
  },
  {
   "cell_type": "markdown",
   "id": "2abbeadc",
   "metadata": {
    "papermill": {
     "duration": 0.028166,
     "end_time": "2023-07-26T07:17:10.244220",
     "exception": false,
     "start_time": "2023-07-26T07:17:10.216054",
     "status": "completed"
    },
    "tags": []
   },
   "source": [
    "## FILL NA (NUM_STRUCK)"
   ]
  },
  {
   "cell_type": "code",
   "execution_count": 24,
   "id": "26424ab2",
   "metadata": {
    "execution": {
     "iopub.execute_input": "2023-07-26T07:17:10.303465Z",
     "iopub.status.busy": "2023-07-26T07:17:10.303066Z",
     "iopub.status.idle": "2023-07-26T07:17:10.307246Z",
     "shell.execute_reply": "2023-07-26T07:17:10.306496Z"
    },
    "papermill": {
     "duration": 0.035667,
     "end_time": "2023-07-26T07:17:10.308983",
     "exception": false,
     "start_time": "2023-07-26T07:17:10.273316",
     "status": "completed"
    },
    "tags": []
   },
   "outputs": [],
   "source": [
    "# grp_strk = df1.groupby('NUM_SEEN').agg({'NUM_STRUCK':pd.Series.mode}).reset_index()"
   ]
  },
  {
   "cell_type": "code",
   "execution_count": 25,
   "id": "9a6cafb3",
   "metadata": {
    "execution": {
     "iopub.execute_input": "2023-07-26T07:17:10.367980Z",
     "iopub.status.busy": "2023-07-26T07:17:10.367599Z",
     "iopub.status.idle": "2023-07-26T07:17:10.371812Z",
     "shell.execute_reply": "2023-07-26T07:17:10.370831Z"
    },
    "papermill": {
     "duration": 0.03618,
     "end_time": "2023-07-26T07:17:10.373864",
     "exception": false,
     "start_time": "2023-07-26T07:17:10.337684",
     "status": "completed"
    },
    "tags": []
   },
   "outputs": [],
   "source": [
    "# def fillna_struck(x):\n",
    "#     return grp_strk.loc[x==grp_strk['NUM_SEEN'],'NUM_STRUCK'].values\n",
    "\n",
    "# df1.loc[df1['NUM_STRUCK'].isna(),'NUM_STRUCK']=df1.loc[df1['NUM_STRUCK'].isna(),'NUM_SEEN'].apply(fillna_struck)"
   ]
  },
  {
   "cell_type": "code",
   "execution_count": 26,
   "id": "e283c4e8",
   "metadata": {
    "execution": {
     "iopub.execute_input": "2023-07-26T07:17:10.432951Z",
     "iopub.status.busy": "2023-07-26T07:17:10.432527Z",
     "iopub.status.idle": "2023-07-26T07:17:10.437154Z",
     "shell.execute_reply": "2023-07-26T07:17:10.436131Z"
    },
    "papermill": {
     "duration": 0.036476,
     "end_time": "2023-07-26T07:17:10.439372",
     "exception": false,
     "start_time": "2023-07-26T07:17:10.402896",
     "status": "completed"
    },
    "tags": []
   },
   "outputs": [],
   "source": [
    "# df1 = df1.explode('NUM_STRUCK')"
   ]
  },
  {
   "cell_type": "code",
   "execution_count": 27,
   "id": "c58fd788",
   "metadata": {
    "execution": {
     "iopub.execute_input": "2023-07-26T07:17:10.499811Z",
     "iopub.status.busy": "2023-07-26T07:17:10.498721Z",
     "iopub.status.idle": "2023-07-26T07:17:10.503434Z",
     "shell.execute_reply": "2023-07-26T07:17:10.502358Z"
    },
    "papermill": {
     "duration": 0.037356,
     "end_time": "2023-07-26T07:17:10.505482",
     "exception": false,
     "start_time": "2023-07-26T07:17:10.468126",
     "status": "completed"
    },
    "tags": []
   },
   "outputs": [],
   "source": [
    "# df1.NUM_STRUCK.isna().sum()"
   ]
  },
  {
   "cell_type": "code",
   "execution_count": 28,
   "id": "596cbd26",
   "metadata": {
    "execution": {
     "iopub.execute_input": "2023-07-26T07:17:10.564960Z",
     "iopub.status.busy": "2023-07-26T07:17:10.564311Z",
     "iopub.status.idle": "2023-07-26T07:17:10.568684Z",
     "shell.execute_reply": "2023-07-26T07:17:10.567714Z"
    },
    "papermill": {
     "duration": 0.036392,
     "end_time": "2023-07-26T07:17:10.571008",
     "exception": false,
     "start_time": "2023-07-26T07:17:10.534616",
     "status": "completed"
    },
    "tags": []
   },
   "outputs": [],
   "source": [
    "# df1.isna().sum()[0:55]"
   ]
  },
  {
   "cell_type": "markdown",
   "id": "6f5eb8c8",
   "metadata": {
    "papermill": {
     "duration": 0.029008,
     "end_time": "2023-07-26T07:17:10.628672",
     "exception": false,
     "start_time": "2023-07-26T07:17:10.599664",
     "status": "completed"
    },
    "tags": []
   },
   "source": [
    "## FILL NA ('PHASE_OF_FLIGHT','HEIGHT','SPEED')"
   ]
  },
  {
   "cell_type": "code",
   "execution_count": 29,
   "id": "bb5273ef",
   "metadata": {
    "execution": {
     "iopub.execute_input": "2023-07-26T07:17:10.688337Z",
     "iopub.status.busy": "2023-07-26T07:17:10.687558Z",
     "iopub.status.idle": "2023-07-26T07:17:10.691987Z",
     "shell.execute_reply": "2023-07-26T07:17:10.691274Z"
    },
    "papermill": {
     "duration": 0.036457,
     "end_time": "2023-07-26T07:17:10.693993",
     "exception": false,
     "start_time": "2023-07-26T07:17:10.657536",
     "status": "completed"
    },
    "tags": []
   },
   "outputs": [],
   "source": [
    "# df1.loc[:,['PHASE_OF_FLIGHT','HEIGHT','SPEED' ]]"
   ]
  },
  {
   "cell_type": "code",
   "execution_count": 30,
   "id": "0990a2ee",
   "metadata": {
    "execution": {
     "iopub.execute_input": "2023-07-26T07:17:10.753299Z",
     "iopub.status.busy": "2023-07-26T07:17:10.752332Z",
     "iopub.status.idle": "2023-07-26T07:17:10.757005Z",
     "shell.execute_reply": "2023-07-26T07:17:10.756288Z"
    },
    "papermill": {
     "duration": 0.036623,
     "end_time": "2023-07-26T07:17:10.759010",
     "exception": false,
     "start_time": "2023-07-26T07:17:10.722387",
     "status": "completed"
    },
    "tags": []
   },
   "outputs": [],
   "source": [
    "# grp_flight = df1.groupby(['HEIGHT','SPEED']).agg({'PHASE_OF_FLIGHT':pd.Series.mode}).reset_index()\n",
    "# grp_flight"
   ]
  },
  {
   "cell_type": "code",
   "execution_count": 31,
   "id": "9837b545",
   "metadata": {
    "execution": {
     "iopub.execute_input": "2023-07-26T07:17:10.818550Z",
     "iopub.status.busy": "2023-07-26T07:17:10.817793Z",
     "iopub.status.idle": "2023-07-26T07:17:10.822344Z",
     "shell.execute_reply": "2023-07-26T07:17:10.821604Z"
    },
    "papermill": {
     "duration": 0.036818,
     "end_time": "2023-07-26T07:17:10.824392",
     "exception": false,
     "start_time": "2023-07-26T07:17:10.787574",
     "status": "completed"
    },
    "tags": []
   },
   "outputs": [],
   "source": [
    "# def fillna_phaseflight(x):\n",
    "#     return grp_flight.loc[(x[0]==grp_flight['HEIGHT']) & (x[1]==grp_flight['SPEED']),'PHASE_OF_FLIGHT'].values\n",
    "\n",
    "# df1.loc[df1['PHASE_OF_FLIGHT'].isna(),'PHASE_OF_FLIGHT']=df1.loc[df1['PHASE_OF_FLIGHT'].isna(),['HEIGHT','SPEED']].apply(fillna_phaseflight,axis=1)"
   ]
  },
  {
   "cell_type": "code",
   "execution_count": 32,
   "id": "e90a2bb7",
   "metadata": {
    "execution": {
     "iopub.execute_input": "2023-07-26T07:17:10.883808Z",
     "iopub.status.busy": "2023-07-26T07:17:10.883401Z",
     "iopub.status.idle": "2023-07-26T07:17:10.887895Z",
     "shell.execute_reply": "2023-07-26T07:17:10.886871Z"
    },
    "papermill": {
     "duration": 0.037029,
     "end_time": "2023-07-26T07:17:10.890086",
     "exception": false,
     "start_time": "2023-07-26T07:17:10.853057",
     "status": "completed"
    },
    "tags": []
   },
   "outputs": [],
   "source": [
    "# df1 =df1.explode('PHASE_OF_FLIGHT')\n",
    "# df1 =df1.explode('PHASE_OF_FLIGHT')"
   ]
  },
  {
   "cell_type": "code",
   "execution_count": 33,
   "id": "a85d6d44",
   "metadata": {
    "execution": {
     "iopub.execute_input": "2023-07-26T07:17:10.949625Z",
     "iopub.status.busy": "2023-07-26T07:17:10.948576Z",
     "iopub.status.idle": "2023-07-26T07:17:10.953159Z",
     "shell.execute_reply": "2023-07-26T07:17:10.952442Z"
    },
    "papermill": {
     "duration": 0.036475,
     "end_time": "2023-07-26T07:17:10.955144",
     "exception": false,
     "start_time": "2023-07-26T07:17:10.918669",
     "status": "completed"
    },
    "tags": []
   },
   "outputs": [],
   "source": [
    "# df1['PHASE_OF_FLIGHT'].isna().sum()"
   ]
  },
  {
   "cell_type": "markdown",
   "id": "b6a4eda4",
   "metadata": {
    "papermill": {
     "duration": 0.028175,
     "end_time": "2023-07-26T07:17:11.011997",
     "exception": false,
     "start_time": "2023-07-26T07:17:10.983822",
     "status": "completed"
    },
    "tags": []
   },
   "source": [
    "heigh speed"
   ]
  },
  {
   "cell_type": "code",
   "execution_count": 34,
   "id": "3520913d",
   "metadata": {
    "execution": {
     "iopub.execute_input": "2023-07-26T07:17:11.074359Z",
     "iopub.status.busy": "2023-07-26T07:17:11.073570Z",
     "iopub.status.idle": "2023-07-26T07:17:11.077951Z",
     "shell.execute_reply": "2023-07-26T07:17:11.077254Z"
    },
    "papermill": {
     "duration": 0.036659,
     "end_time": "2023-07-26T07:17:11.080017",
     "exception": false,
     "start_time": "2023-07-26T07:17:11.043358",
     "status": "completed"
    },
    "tags": []
   },
   "outputs": [],
   "source": [
    "# grp_hs = df1.groupby('PHASE_OF_FLIGHT').agg({'HEIGHT':'mean','SPEED':'mean'}).reset_index()\n",
    "# grp_hs"
   ]
  },
  {
   "cell_type": "code",
   "execution_count": 35,
   "id": "2b31eb71",
   "metadata": {
    "execution": {
     "iopub.execute_input": "2023-07-26T07:17:11.143065Z",
     "iopub.status.busy": "2023-07-26T07:17:11.142051Z",
     "iopub.status.idle": "2023-07-26T07:17:11.147641Z",
     "shell.execute_reply": "2023-07-26T07:17:11.146303Z"
    },
    "papermill": {
     "duration": 0.040679,
     "end_time": "2023-07-26T07:17:11.150794",
     "exception": false,
     "start_time": "2023-07-26T07:17:11.110115",
     "status": "completed"
    },
    "tags": []
   },
   "outputs": [],
   "source": [
    "# df1.loc[df1['PHASE_OF_FLIGHT']=='Unknown',['PHASE_OF_FLIGHT','HEIGHT','SPEED']]"
   ]
  },
  {
   "cell_type": "code",
   "execution_count": 36,
   "id": "a8e8bcb1",
   "metadata": {
    "execution": {
     "iopub.execute_input": "2023-07-26T07:17:11.219287Z",
     "iopub.status.busy": "2023-07-26T07:17:11.218414Z",
     "iopub.status.idle": "2023-07-26T07:17:11.222529Z",
     "shell.execute_reply": "2023-07-26T07:17:11.221690Z"
    },
    "papermill": {
     "duration": 0.039112,
     "end_time": "2023-07-26T07:17:11.224345",
     "exception": false,
     "start_time": "2023-07-26T07:17:11.185233",
     "status": "completed"
    },
    "tags": []
   },
   "outputs": [],
   "source": [
    "# def fillna_height(x):\n",
    "#     return grp_hs.loc[x==grp_hs['PHASE_OF_FLIGHT'],'HEIGHT'].values\n",
    "\n",
    "# df1['HEIGHT']= df1['PHASE_OF_FLIGHT'].apply(fillna_height)"
   ]
  },
  {
   "cell_type": "code",
   "execution_count": 37,
   "id": "9890a79c",
   "metadata": {
    "execution": {
     "iopub.execute_input": "2023-07-26T07:17:11.285315Z",
     "iopub.status.busy": "2023-07-26T07:17:11.284654Z",
     "iopub.status.idle": "2023-07-26T07:17:11.288956Z",
     "shell.execute_reply": "2023-07-26T07:17:11.287862Z"
    },
    "papermill": {
     "duration": 0.037954,
     "end_time": "2023-07-26T07:17:11.291152",
     "exception": false,
     "start_time": "2023-07-26T07:17:11.253198",
     "status": "completed"
    },
    "tags": []
   },
   "outputs": [],
   "source": [
    "# df1= df1.explode('HEIGHT')"
   ]
  },
  {
   "cell_type": "code",
   "execution_count": 38,
   "id": "aedd412b",
   "metadata": {
    "execution": {
     "iopub.execute_input": "2023-07-26T07:17:11.350511Z",
     "iopub.status.busy": "2023-07-26T07:17:11.350095Z",
     "iopub.status.idle": "2023-07-26T07:17:11.354271Z",
     "shell.execute_reply": "2023-07-26T07:17:11.353499Z"
    },
    "papermill": {
     "duration": 0.036122,
     "end_time": "2023-07-26T07:17:11.356070",
     "exception": false,
     "start_time": "2023-07-26T07:17:11.319948",
     "status": "completed"
    },
    "tags": []
   },
   "outputs": [],
   "source": [
    "# def fillna_speed(x):\n",
    "#     return grp_hs.loc[x==grp_hs['PHASE_OF_FLIGHT'],'SPEED'].values\n",
    "\n",
    "# df1['SPEED']= df1['PHASE_OF_FLIGHT'].apply(fillna_speed)"
   ]
  },
  {
   "cell_type": "code",
   "execution_count": 39,
   "id": "ea5de375",
   "metadata": {
    "execution": {
     "iopub.execute_input": "2023-07-26T07:17:11.416097Z",
     "iopub.status.busy": "2023-07-26T07:17:11.414999Z",
     "iopub.status.idle": "2023-07-26T07:17:11.420039Z",
     "shell.execute_reply": "2023-07-26T07:17:11.418837Z"
    },
    "papermill": {
     "duration": 0.03712,
     "end_time": "2023-07-26T07:17:11.422105",
     "exception": false,
     "start_time": "2023-07-26T07:17:11.384985",
     "status": "completed"
    },
    "tags": []
   },
   "outputs": [],
   "source": [
    "# df1 = df1.explode('SPEED')"
   ]
  },
  {
   "cell_type": "code",
   "execution_count": 40,
   "id": "857e62ca",
   "metadata": {
    "execution": {
     "iopub.execute_input": "2023-07-26T07:17:11.481465Z",
     "iopub.status.busy": "2023-07-26T07:17:11.481044Z",
     "iopub.status.idle": "2023-07-26T07:17:11.485502Z",
     "shell.execute_reply": "2023-07-26T07:17:11.484565Z"
    },
    "papermill": {
     "duration": 0.036495,
     "end_time": "2023-07-26T07:17:11.487501",
     "exception": false,
     "start_time": "2023-07-26T07:17:11.451006",
     "status": "completed"
    },
    "tags": []
   },
   "outputs": [],
   "source": [
    "# df1[['PHASE_OF_FLIGHT','HEIGHT','SPEED']].isna().sum()"
   ]
  },
  {
   "cell_type": "code",
   "execution_count": 41,
   "id": "e2f93af6",
   "metadata": {
    "execution": {
     "iopub.execute_input": "2023-07-26T07:17:11.546779Z",
     "iopub.status.busy": "2023-07-26T07:17:11.546390Z",
     "iopub.status.idle": "2023-07-26T07:17:11.551148Z",
     "shell.execute_reply": "2023-07-26T07:17:11.550004Z"
    },
    "papermill": {
     "duration": 0.03707,
     "end_time": "2023-07-26T07:17:11.553240",
     "exception": false,
     "start_time": "2023-07-26T07:17:11.516170",
     "status": "completed"
    },
    "tags": []
   },
   "outputs": [],
   "source": [
    "# df1[['HEIGHT','SPEED']] = df1[['HEIGHT','SPEED']].astype('float')"
   ]
  },
  {
   "cell_type": "code",
   "execution_count": 42,
   "id": "04ef498e",
   "metadata": {
    "execution": {
     "iopub.execute_input": "2023-07-26T07:17:11.613040Z",
     "iopub.status.busy": "2023-07-26T07:17:11.612257Z",
     "iopub.status.idle": "2023-07-26T07:17:11.671421Z",
     "shell.execute_reply": "2023-07-26T07:17:11.670257Z"
    },
    "papermill": {
     "duration": 0.091912,
     "end_time": "2023-07-26T07:17:11.674061",
     "exception": false,
     "start_time": "2023-07-26T07:17:11.582149",
     "status": "completed"
    },
    "tags": []
   },
   "outputs": [],
   "source": [
    "new_df = df1[['INCIDENT_DATE', 'INCIDENT_MONTH', 'INCIDENT_YEAR', 'TIME_OF_DAY',\n",
    "       'AIRPORT','AIRCRAFT', 'PHASE_OF_FLIGHT', 'HEIGHT', 'SPEED',\n",
    "       'STR_RAD', 'DAM_RAD','STR_WINDSHLD', 'DAM_WINDSHLD', 'STR_NOSE', 'DAM_NOSE', 'STR_ENG1',\n",
    "       'DAM_ENG1', 'ING_ENG1', 'STR_ENG2', 'DAM_ENG2', 'ING_ENG2', 'STR_ENG3',\n",
    "       'DAM_ENG3', 'ING_ENG3', 'STR_ENG4', 'DAM_ENG4', 'ING_ENG4', 'STR_PROP',\n",
    "       'DAM_PROP', 'STR_WING_ROT', 'DAM_WING_ROT', 'STR_FUSE', 'DAM_FUSE',\n",
    "       'STR_LG', 'DAM_LG', 'STR_TAIL', 'DAM_TAIL', 'STR_LGHTS', 'DAM_LGHTS',\n",
    "       'STR_OTHER', 'DAM_OTHER', 'SPECIES','REMAINS_COLLECTED', 'REMAINS_SENT', 'WARNED', \n",
    "            'NUM_SEEN', 'NUM_STRUCK', 'SOURCE', 'PERSON', 'LUPDATE']]"
   ]
  },
  {
   "cell_type": "code",
   "execution_count": 43,
   "id": "fed64d46",
   "metadata": {
    "execution": {
     "iopub.execute_input": "2023-07-26T07:17:11.733883Z",
     "iopub.status.busy": "2023-07-26T07:17:11.732859Z",
     "iopub.status.idle": "2023-07-26T07:17:12.198638Z",
     "shell.execute_reply": "2023-07-26T07:17:12.197464Z"
    },
    "papermill": {
     "duration": 0.49816,
     "end_time": "2023-07-26T07:17:12.201055",
     "exception": false,
     "start_time": "2023-07-26T07:17:11.702895",
     "status": "completed"
    },
    "tags": []
   },
   "outputs": [
    {
     "data": {
      "text/plain": [
       "INCIDENT_DATE             0\n",
       "INCIDENT_MONTH            0\n",
       "INCIDENT_YEAR             0\n",
       "TIME_OF_DAY          109160\n",
       "AIRPORT                   0\n",
       "AIRCRAFT                  0\n",
       "PHASE_OF_FLIGHT       99654\n",
       "HEIGHT               125204\n",
       "SPEED                174866\n",
       "STR_RAD                   0\n",
       "DAM_RAD                   0\n",
       "STR_WINDSHLD              0\n",
       "DAM_WINDSHLD              0\n",
       "STR_NOSE                  0\n",
       "DAM_NOSE                  0\n",
       "STR_ENG1                  0\n",
       "DAM_ENG1                  0\n",
       "ING_ENG1                  0\n",
       "STR_ENG2                  0\n",
       "DAM_ENG2                  0\n",
       "ING_ENG2                  0\n",
       "STR_ENG3                  0\n",
       "DAM_ENG3                  0\n",
       "ING_ENG3                  0\n",
       "STR_ENG4                  0\n",
       "DAM_ENG4                  0\n",
       "ING_ENG4                  0\n",
       "STR_PROP                  0\n",
       "DAM_PROP                  0\n",
       "STR_WING_ROT              0\n",
       "DAM_WING_ROT              0\n",
       "STR_FUSE                  0\n",
       "DAM_FUSE                  0\n",
       "STR_LG                    0\n",
       "DAM_LG                    0\n",
       "STR_TAIL                  0\n",
       "DAM_TAIL                  0\n",
       "STR_LGHTS                 0\n",
       "DAM_LGHTS                 0\n",
       "STR_OTHER                 0\n",
       "DAM_OTHER                 0\n",
       "SPECIES                   1\n",
       "REMAINS_COLLECTED         0\n",
       "REMAINS_SENT              0\n",
       "WARNED                    0\n",
       "NUM_SEEN             176069\n",
       "NUM_STRUCK              617\n",
       "SOURCE                    0\n",
       "PERSON                21162\n",
       "LUPDATE                   0\n",
       "dtype: int64"
      ]
     },
     "execution_count": 43,
     "metadata": {},
     "output_type": "execute_result"
    }
   ],
   "source": [
    "new_df.isna().sum()"
   ]
  },
  {
   "cell_type": "code",
   "execution_count": 44,
   "id": "1681e9a0",
   "metadata": {
    "execution": {
     "iopub.execute_input": "2023-07-26T07:17:12.260582Z",
     "iopub.status.busy": "2023-07-26T07:17:12.259954Z",
     "iopub.status.idle": "2023-07-26T07:17:12.263627Z",
     "shell.execute_reply": "2023-07-26T07:17:12.262853Z"
    },
    "papermill": {
     "duration": 0.035856,
     "end_time": "2023-07-26T07:17:12.265690",
     "exception": false,
     "start_time": "2023-07-26T07:17:12.229834",
     "status": "completed"
    },
    "tags": []
   },
   "outputs": [],
   "source": [
    "# df1.shape"
   ]
  },
  {
   "cell_type": "code",
   "execution_count": 45,
   "id": "dff28e34",
   "metadata": {
    "execution": {
     "iopub.execute_input": "2023-07-26T07:17:12.326496Z",
     "iopub.status.busy": "2023-07-26T07:17:12.326108Z",
     "iopub.status.idle": "2023-07-26T07:17:12.330429Z",
     "shell.execute_reply": "2023-07-26T07:17:12.329363Z"
    },
    "papermill": {
     "duration": 0.036751,
     "end_time": "2023-07-26T07:17:12.332780",
     "exception": false,
     "start_time": "2023-07-26T07:17:12.296029",
     "status": "completed"
    },
    "tags": []
   },
   "outputs": [],
   "source": [
    "# new_df.dropna(inplace=True)"
   ]
  },
  {
   "cell_type": "code",
   "execution_count": 46,
   "id": "76beda73",
   "metadata": {
    "execution": {
     "iopub.execute_input": "2023-07-26T07:17:12.394134Z",
     "iopub.status.busy": "2023-07-26T07:17:12.393068Z",
     "iopub.status.idle": "2023-07-26T07:17:12.847468Z",
     "shell.execute_reply": "2023-07-26T07:17:12.846437Z"
    },
    "papermill": {
     "duration": 0.487553,
     "end_time": "2023-07-26T07:17:12.849736",
     "exception": false,
     "start_time": "2023-07-26T07:17:12.362183",
     "status": "completed"
    },
    "tags": []
   },
   "outputs": [
    {
     "data": {
      "text/plain": [
       "2499"
      ]
     },
     "execution_count": 46,
     "metadata": {},
     "output_type": "execute_result"
    }
   ],
   "source": [
    "new_df.duplicated().sum()"
   ]
  },
  {
   "cell_type": "code",
   "execution_count": 47,
   "id": "88afd433",
   "metadata": {
    "execution": {
     "iopub.execute_input": "2023-07-26T07:17:12.910479Z",
     "iopub.status.busy": "2023-07-26T07:17:12.909789Z",
     "iopub.status.idle": "2023-07-26T07:17:13.408424Z",
     "shell.execute_reply": "2023-07-26T07:17:13.407000Z"
    },
    "papermill": {
     "duration": 0.531715,
     "end_time": "2023-07-26T07:17:13.411163",
     "exception": false,
     "start_time": "2023-07-26T07:17:12.879448",
     "status": "completed"
    },
    "tags": []
   },
   "outputs": [
    {
     "name": "stderr",
     "output_type": "stream",
     "text": [
      "/tmp/ipykernel_20/2373844780.py:1: SettingWithCopyWarning: \n",
      "A value is trying to be set on a copy of a slice from a DataFrame\n",
      "\n",
      "See the caveats in the documentation: https://pandas.pydata.org/pandas-docs/stable/user_guide/indexing.html#returning-a-view-versus-a-copy\n",
      "  new_df.drop_duplicates(inplace=True)\n"
     ]
    }
   ],
   "source": [
    "new_df.drop_duplicates(inplace=True)"
   ]
  },
  {
   "cell_type": "code",
   "execution_count": 48,
   "id": "54993efd",
   "metadata": {
    "execution": {
     "iopub.execute_input": "2023-07-26T07:17:13.471371Z",
     "iopub.status.busy": "2023-07-26T07:17:13.471015Z",
     "iopub.status.idle": "2023-07-26T07:17:13.476853Z",
     "shell.execute_reply": "2023-07-26T07:17:13.476104Z"
    },
    "papermill": {
     "duration": 0.038251,
     "end_time": "2023-07-26T07:17:13.478602",
     "exception": false,
     "start_time": "2023-07-26T07:17:13.440351",
     "status": "completed"
    },
    "tags": []
   },
   "outputs": [
    {
     "data": {
      "text/plain": [
       "(261313, 50)"
      ]
     },
     "execution_count": 48,
     "metadata": {},
     "output_type": "execute_result"
    }
   ],
   "source": [
    "new_df.shape"
   ]
  },
  {
   "cell_type": "markdown",
   "id": "9ffb21b2",
   "metadata": {
    "id": "18f3576f-23ac-42c2-a614-d345ebb6bec3",
    "papermill": {
     "duration": 0.028664,
     "end_time": "2023-07-26T07:17:13.536584",
     "exception": false,
     "start_time": "2023-07-26T07:17:13.507920",
     "status": "completed"
    },
    "tags": []
   },
   "source": [
    "#### Task 3.4\n",
    "\n",
    "Set the datatype of the date column to be of type datetime.\\\n",
    "This may prove to be a little tricky. You can use: `all_strikes['INCIDENT_DATE'].str[:-5]` to help."
   ]
  },
  {
   "cell_type": "code",
   "execution_count": 49,
   "id": "c6496845",
   "metadata": {
    "execution": {
     "iopub.execute_input": "2023-07-26T07:17:13.597136Z",
     "iopub.status.busy": "2023-07-26T07:17:13.596013Z",
     "iopub.status.idle": "2023-07-26T07:17:16.582066Z",
     "shell.execute_reply": "2023-07-26T07:17:16.580974Z"
    },
    "id": "a8c4e432-37e2-473b-ba13-7678a0b8f54e",
    "papermill": {
     "duration": 3.018936,
     "end_time": "2023-07-26T07:17:16.584509",
     "exception": false,
     "start_time": "2023-07-26T07:17:13.565573",
     "status": "completed"
    },
    "tags": []
   },
   "outputs": [
    {
     "name": "stderr",
     "output_type": "stream",
     "text": [
      "/tmp/ipykernel_20/2485583436.py:1: UserWarning: Parsing dates in DD/MM/YYYY format when dayfirst=False (the default) was specified. This may lead to inconsistently parsed dates! Specify a format to ensure consistent parsing.\n",
      "  new_df['INCIDENT_DATE']=pd.to_datetime(new_df['INCIDENT_DATE'].str[:-5])\n",
      "/tmp/ipykernel_20/2485583436.py:1: SettingWithCopyWarning: \n",
      "A value is trying to be set on a copy of a slice from a DataFrame.\n",
      "Try using .loc[row_indexer,col_indexer] = value instead\n",
      "\n",
      "See the caveats in the documentation: https://pandas.pydata.org/pandas-docs/stable/user_guide/indexing.html#returning-a-view-versus-a-copy\n",
      "  new_df['INCIDENT_DATE']=pd.to_datetime(new_df['INCIDENT_DATE'].str[:-5])\n"
     ]
    }
   ],
   "source": [
    "new_df['INCIDENT_DATE']=pd.to_datetime(new_df['INCIDENT_DATE'].str[:-5])"
   ]
  },
  {
   "cell_type": "code",
   "execution_count": 50,
   "id": "bd2cd27a",
   "metadata": {
    "execution": {
     "iopub.execute_input": "2023-07-26T07:17:16.646675Z",
     "iopub.status.busy": "2023-07-26T07:17:16.645851Z",
     "iopub.status.idle": "2023-07-26T07:17:16.652021Z",
     "shell.execute_reply": "2023-07-26T07:17:16.651003Z"
    },
    "papermill": {
     "duration": 0.039888,
     "end_time": "2023-07-26T07:17:16.654495",
     "exception": false,
     "start_time": "2023-07-26T07:17:16.614607",
     "status": "completed"
    },
    "tags": []
   },
   "outputs": [
    {
     "data": {
      "text/plain": [
       "dtype('<M8[ns]')"
      ]
     },
     "execution_count": 50,
     "metadata": {},
     "output_type": "execute_result"
    }
   ],
   "source": [
    "new_df['INCIDENT_DATE'].dtypes"
   ]
  },
  {
   "cell_type": "markdown",
   "id": "b29a6200",
   "metadata": {
    "id": "51eba7a0-00c1-48d8-9518-bcb300ea2bfb",
    "papermill": {
     "duration": 0.029062,
     "end_time": "2023-07-26T07:17:16.713194",
     "exception": false,
     "start_time": "2023-07-26T07:17:16.684132",
     "status": "completed"
    },
    "tags": []
   },
   "source": [
    "#### Task 3.5 \n",
    "\n",
    "The `NUM_STRUCK` column should report the number of birds that struck the aircraft.\\\n",
    "Print all the unique values in this column (for example, if this column contains only `11` and `22` then print: 11, 22)"
   ]
  },
  {
   "cell_type": "code",
   "execution_count": 51,
   "id": "d8241a03",
   "metadata": {
    "execution": {
     "iopub.execute_input": "2023-07-26T07:17:16.774378Z",
     "iopub.status.busy": "2023-07-26T07:17:16.773729Z",
     "iopub.status.idle": "2023-07-26T07:17:16.790273Z",
     "shell.execute_reply": "2023-07-26T07:17:16.789041Z"
    },
    "papermill": {
     "duration": 0.049633,
     "end_time": "2023-07-26T07:17:16.792383",
     "exception": false,
     "start_time": "2023-07-26T07:17:16.742750",
     "status": "completed"
    },
    "tags": []
   },
   "outputs": [
    {
     "data": {
      "text/plain": [
       "'1, 11-100, 02-Oct, nan, More than 100'"
      ]
     },
     "execution_count": 51,
     "metadata": {},
     "output_type": "execute_result"
    }
   ],
   "source": [
    "', '.join(map(str, new_df['NUM_STRUCK'].unique()))"
   ]
  },
  {
   "cell_type": "markdown",
   "id": "cab2e431",
   "metadata": {
    "id": "a54533fe-15b8-40d4-bfdd-afa7d7505b14",
    "papermill": {
     "duration": 0.029214,
     "end_time": "2023-07-26T07:17:16.851204",
     "exception": false,
     "start_time": "2023-07-26T07:17:16.821990",
     "status": "completed"
    },
    "tags": []
   },
   "source": [
    "#### Task 3.6 \n",
    "\n",
    "For the `NUM_STRUCK` column, replace the value: `02-Oct` with the value: `2-10`\\\n",
    "Then, reprint all unique values in this column."
   ]
  },
  {
   "cell_type": "code",
   "execution_count": 52,
   "id": "9e80400f",
   "metadata": {
    "execution": {
     "iopub.execute_input": "2023-07-26T07:17:16.912091Z",
     "iopub.status.busy": "2023-07-26T07:17:16.911458Z",
     "iopub.status.idle": "2023-07-26T07:17:16.925364Z",
     "shell.execute_reply": "2023-07-26T07:17:16.924279Z"
    },
    "id": "8736c5ed-c384-4905-a9c4-ab9eac3e05e6",
    "papermill": {
     "duration": 0.046874,
     "end_time": "2023-07-26T07:17:16.927529",
     "exception": false,
     "start_time": "2023-07-26T07:17:16.880655",
     "status": "completed"
    },
    "tags": []
   },
   "outputs": [
    {
     "name": "stderr",
     "output_type": "stream",
     "text": [
      "/tmp/ipykernel_20/944152573.py:1: SettingWithCopyWarning: \n",
      "A value is trying to be set on a copy of a slice from a DataFrame\n",
      "\n",
      "See the caveats in the documentation: https://pandas.pydata.org/pandas-docs/stable/user_guide/indexing.html#returning-a-view-versus-a-copy\n",
      "  new_df['NUM_STRUCK'].replace('02-Oct','2-10',inplace=True)\n"
     ]
    }
   ],
   "source": [
    "new_df['NUM_STRUCK'].replace('02-Oct','2-10',inplace=True)"
   ]
  },
  {
   "cell_type": "code",
   "execution_count": 53,
   "id": "35cadb42",
   "metadata": {
    "execution": {
     "iopub.execute_input": "2023-07-26T07:17:16.988818Z",
     "iopub.status.busy": "2023-07-26T07:17:16.988230Z",
     "iopub.status.idle": "2023-07-26T07:17:17.002516Z",
     "shell.execute_reply": "2023-07-26T07:17:17.001481Z"
    },
    "papermill": {
     "duration": 0.047259,
     "end_time": "2023-07-26T07:17:17.004433",
     "exception": false,
     "start_time": "2023-07-26T07:17:16.957174",
     "status": "completed"
    },
    "tags": []
   },
   "outputs": [
    {
     "data": {
      "text/plain": [
       "array(['1', '11-100', '2-10', nan, 'More than 100'], dtype=object)"
      ]
     },
     "execution_count": 53,
     "metadata": {},
     "output_type": "execute_result"
    }
   ],
   "source": [
    "new_df['NUM_STRUCK'].unique()"
   ]
  },
  {
   "cell_type": "markdown",
   "id": "1c9c44cc",
   "metadata": {
    "id": "b23120b1-a62a-4ad3-bf60-6d462fcd420d",
    "papermill": {
     "duration": 0.029522,
     "end_time": "2023-07-26T07:17:17.064149",
     "exception": false,
     "start_time": "2023-07-26T07:17:17.034627",
     "status": "completed"
    },
    "tags": []
   },
   "source": [
    "#### Task 3.7\n",
    "\n",
    "There are columns that specify if a certain part of the aircraft was struck. Their values are either `0` or `1`.\\\n",
    "For example, `STR_WINDSHLD`=1 means that the aircraft was struck on its windshield.\\\n",
    "All columns indicating a strike begin with `STR_`.\n",
    "\n",
    "You need to add a column that accumlates the number of strikes for each aircraft (each row in the dataframe).\\\n",
    "Name the new column: `total_struck`\\\n",
    "Print the mean number of strikes using this function: `all_strikes[\"STR_total\"].mean()`"
   ]
  },
  {
   "cell_type": "code",
   "execution_count": 54,
   "id": "00553f5f",
   "metadata": {
    "execution": {
     "iopub.execute_input": "2023-07-26T07:17:17.125539Z",
     "iopub.status.busy": "2023-07-26T07:17:17.125154Z",
     "iopub.status.idle": "2023-07-26T07:17:17.130490Z",
     "shell.execute_reply": "2023-07-26T07:17:17.129255Z"
    },
    "id": "17e9da31-ea90-4ed2-8672-29c3e3459cb6",
    "papermill": {
     "duration": 0.038761,
     "end_time": "2023-07-26T07:17:17.132631",
     "exception": false,
     "start_time": "2023-07-26T07:17:17.093870",
     "status": "completed"
    },
    "tags": []
   },
   "outputs": [],
   "source": [
    "str_columns_list = new_df.columns[new_df.columns.str.startswith('STR_')]"
   ]
  },
  {
   "cell_type": "code",
   "execution_count": 55,
   "id": "358dc18c",
   "metadata": {
    "execution": {
     "iopub.execute_input": "2023-07-26T07:17:17.196092Z",
     "iopub.status.busy": "2023-07-26T07:17:17.195685Z",
     "iopub.status.idle": "2023-07-26T07:17:17.211058Z",
     "shell.execute_reply": "2023-07-26T07:17:17.210306Z"
    },
    "papermill": {
     "duration": 0.049426,
     "end_time": "2023-07-26T07:17:17.212894",
     "exception": false,
     "start_time": "2023-07-26T07:17:17.163468",
     "status": "completed"
    },
    "tags": []
   },
   "outputs": [
    {
     "data": {
      "text/plain": [
       "STR_RAD         int64\n",
       "STR_WINDSHLD    int64\n",
       "STR_NOSE        int64\n",
       "STR_ENG1        int64\n",
       "STR_ENG2        int64\n",
       "STR_ENG3        int64\n",
       "STR_ENG4        int64\n",
       "STR_PROP        int64\n",
       "STR_WING_ROT    int64\n",
       "STR_FUSE        int64\n",
       "STR_LG          int64\n",
       "STR_TAIL        int64\n",
       "STR_LGHTS       int64\n",
       "STR_OTHER       int64\n",
       "dtype: object"
      ]
     },
     "execution_count": 55,
     "metadata": {},
     "output_type": "execute_result"
    }
   ],
   "source": [
    "new_df[str_columns_list].dtypes"
   ]
  },
  {
   "cell_type": "code",
   "execution_count": 56,
   "id": "7e144a93",
   "metadata": {
    "execution": {
     "iopub.execute_input": "2023-07-26T07:17:17.274925Z",
     "iopub.status.busy": "2023-07-26T07:17:17.274258Z",
     "iopub.status.idle": "2023-07-26T07:17:17.291438Z",
     "shell.execute_reply": "2023-07-26T07:17:17.290400Z"
    },
    "papermill": {
     "duration": 0.050969,
     "end_time": "2023-07-26T07:17:17.293913",
     "exception": false,
     "start_time": "2023-07-26T07:17:17.242944",
     "status": "completed"
    },
    "tags": []
   },
   "outputs": [
    {
     "name": "stderr",
     "output_type": "stream",
     "text": [
      "/tmp/ipykernel_20/3763851272.py:1: SettingWithCopyWarning: \n",
      "A value is trying to be set on a copy of a slice from a DataFrame.\n",
      "Try using .loc[row_indexer,col_indexer] = value instead\n",
      "\n",
      "See the caveats in the documentation: https://pandas.pydata.org/pandas-docs/stable/user_guide/indexing.html#returning-a-view-versus-a-copy\n",
      "  new_df[\"STR_total\"]=new_df[str_columns_list].sum(axis=1)\n"
     ]
    }
   ],
   "source": [
    "new_df[\"STR_total\"]=new_df[str_columns_list].sum(axis=1)"
   ]
  },
  {
   "cell_type": "code",
   "execution_count": 57,
   "id": "ce94f1c9",
   "metadata": {
    "execution": {
     "iopub.execute_input": "2023-07-26T07:17:17.362658Z",
     "iopub.status.busy": "2023-07-26T07:17:17.362006Z",
     "iopub.status.idle": "2023-07-26T07:17:17.374191Z",
     "shell.execute_reply": "2023-07-26T07:17:17.373118Z"
    },
    "papermill": {
     "duration": 0.046835,
     "end_time": "2023-07-26T07:17:17.376462",
     "exception": false,
     "start_time": "2023-07-26T07:17:17.329627",
     "status": "completed"
    },
    "tags": []
   },
   "outputs": [
    {
     "data": {
      "text/plain": [
       "1     155031\n",
       "0      79089\n",
       "2      20315\n",
       "3       4414\n",
       "4       1424\n",
       "5        558\n",
       "6        249\n",
       "7        108\n",
       "8         67\n",
       "9         39\n",
       "10        17\n",
       "11         2\n",
       "Name: STR_total, dtype: int64"
      ]
     },
     "execution_count": 57,
     "metadata": {},
     "output_type": "execute_result"
    }
   ],
   "source": [
    "new_df[\"STR_total\"].value_counts()"
   ]
  },
  {
   "cell_type": "code",
   "execution_count": 58,
   "id": "54dd5d38",
   "metadata": {
    "execution": {
     "iopub.execute_input": "2023-07-26T07:17:17.438632Z",
     "iopub.status.busy": "2023-07-26T07:17:17.437917Z",
     "iopub.status.idle": "2023-07-26T07:17:17.445036Z",
     "shell.execute_reply": "2023-07-26T07:17:17.444051Z"
    },
    "papermill": {
     "duration": 0.040054,
     "end_time": "2023-07-26T07:17:17.446942",
     "exception": false,
     "start_time": "2023-07-26T07:17:17.406888",
     "status": "completed"
    },
    "tags": []
   },
   "outputs": [
    {
     "data": {
      "text/plain": [
       "0.84"
      ]
     },
     "execution_count": 58,
     "metadata": {},
     "output_type": "execute_result"
    }
   ],
   "source": [
    "round(new_df[\"STR_total\"].mean(),2)"
   ]
  },
  {
   "cell_type": "markdown",
   "id": "e33320ce",
   "metadata": {
    "id": "cffe36d7-3278-424e-9927-24c34edd6588",
    "papermill": {
     "duration": 0.031628,
     "end_time": "2023-07-26T07:17:17.509734",
     "exception": false,
     "start_time": "2023-07-26T07:17:17.478106",
     "status": "completed"
    },
    "tags": []
   },
   "source": [
    "#### Task 3.8\n",
    "\n",
    "Now, find all columns that indicate a certain part of the aircraft was damaged (hint: these columns begin with `DAM_`).\\\n",
    "Add a column named: `total_damaged` that indicates the total damaged parts of an aircraft.\\\n",
    "Print the mean damage."
   ]
  },
  {
   "cell_type": "code",
   "execution_count": 59,
   "id": "75b4039b",
   "metadata": {
    "execution": {
     "iopub.execute_input": "2023-07-26T07:17:17.572878Z",
     "iopub.status.busy": "2023-07-26T07:17:17.572179Z",
     "iopub.status.idle": "2023-07-26T07:17:17.576725Z",
     "shell.execute_reply": "2023-07-26T07:17:17.576025Z"
    },
    "id": "2c74eaf6-72f5-42bc-9214-9d1ab39fcdf4",
    "papermill": {
     "duration": 0.038381,
     "end_time": "2023-07-26T07:17:17.578597",
     "exception": false,
     "start_time": "2023-07-26T07:17:17.540216",
     "status": "completed"
    },
    "tags": []
   },
   "outputs": [],
   "source": [
    "Dam_columns_list = new_df.columns[new_df.columns.str.startswith('DAM_')]"
   ]
  },
  {
   "cell_type": "code",
   "execution_count": 60,
   "id": "eaa7939b",
   "metadata": {
    "execution": {
     "iopub.execute_input": "2023-07-26T07:17:17.641073Z",
     "iopub.status.busy": "2023-07-26T07:17:17.640421Z",
     "iopub.status.idle": "2023-07-26T07:17:17.708656Z",
     "shell.execute_reply": "2023-07-26T07:17:17.707593Z"
    },
    "papermill": {
     "duration": 0.102069,
     "end_time": "2023-07-26T07:17:17.710892",
     "exception": false,
     "start_time": "2023-07-26T07:17:17.608823",
     "status": "completed"
    },
    "tags": []
   },
   "outputs": [
    {
     "data": {
      "text/plain": [
       "DAM_RAD         int64\n",
       "DAM_WINDSHLD    int64\n",
       "DAM_NOSE        int64\n",
       "DAM_ENG1        int64\n",
       "DAM_ENG2        int64\n",
       "DAM_ENG3        int64\n",
       "DAM_ENG4        int64\n",
       "DAM_PROP        int64\n",
       "DAM_WING_ROT    int64\n",
       "DAM_FUSE        int64\n",
       "DAM_LG          int64\n",
       "DAM_TAIL        int64\n",
       "DAM_LGHTS       int64\n",
       "DAM_OTHER       int64\n",
       "dtype: object"
      ]
     },
     "execution_count": 60,
     "metadata": {},
     "output_type": "execute_result"
    }
   ],
   "source": [
    "new_df[Dam_columns_list].dtypes"
   ]
  },
  {
   "cell_type": "code",
   "execution_count": 61,
   "id": "da27f4db",
   "metadata": {
    "execution": {
     "iopub.execute_input": "2023-07-26T07:17:17.774712Z",
     "iopub.status.busy": "2023-07-26T07:17:17.773495Z",
     "iopub.status.idle": "2023-07-26T07:17:17.791379Z",
     "shell.execute_reply": "2023-07-26T07:17:17.790562Z"
    },
    "papermill": {
     "duration": 0.051821,
     "end_time": "2023-07-26T07:17:17.793803",
     "exception": false,
     "start_time": "2023-07-26T07:17:17.741982",
     "status": "completed"
    },
    "tags": []
   },
   "outputs": [
    {
     "name": "stderr",
     "output_type": "stream",
     "text": [
      "/tmp/ipykernel_20/3380550627.py:1: SettingWithCopyWarning: \n",
      "A value is trying to be set on a copy of a slice from a DataFrame.\n",
      "Try using .loc[row_indexer,col_indexer] = value instead\n",
      "\n",
      "See the caveats in the documentation: https://pandas.pydata.org/pandas-docs/stable/user_guide/indexing.html#returning-a-view-versus-a-copy\n",
      "  new_df['total_damaged']=new_df[Dam_columns_list].sum(axis=1)\n"
     ]
    }
   ],
   "source": [
    "new_df['total_damaged']=new_df[Dam_columns_list].sum(axis=1)"
   ]
  },
  {
   "cell_type": "code",
   "execution_count": 62,
   "id": "c642fe98",
   "metadata": {
    "execution": {
     "iopub.execute_input": "2023-07-26T07:17:17.857448Z",
     "iopub.status.busy": "2023-07-26T07:17:17.856430Z",
     "iopub.status.idle": "2023-07-26T07:17:17.864267Z",
     "shell.execute_reply": "2023-07-26T07:17:17.863493Z"
    },
    "papermill": {
     "duration": 0.041211,
     "end_time": "2023-07-26T07:17:17.866093",
     "exception": false,
     "start_time": "2023-07-26T07:17:17.824882",
     "status": "completed"
    },
    "tags": []
   },
   "outputs": [
    {
     "data": {
      "text/plain": [
       "0.09"
      ]
     },
     "execution_count": 62,
     "metadata": {},
     "output_type": "execute_result"
    }
   ],
   "source": [
    "round(new_df['total_damaged'].mean(),2)"
   ]
  },
  {
   "cell_type": "markdown",
   "id": "5bfc163f",
   "metadata": {
    "id": "6f995f4a-0664-423c-afc2-728fc107f3a3",
    "papermill": {
     "duration": 0.03035,
     "end_time": "2023-07-26T07:17:17.927350",
     "exception": false,
     "start_time": "2023-07-26T07:17:17.897000",
     "status": "completed"
    },
    "tags": []
   },
   "source": [
    "## CHECKPOINT (not obligatory)"
   ]
  },
  {
   "cell_type": "markdown",
   "id": "aa048740",
   "metadata": {
    "id": "9ac0ae28-e637-4a68-9072-3580596a4d6b",
    "papermill": {
     "duration": 0.030569,
     "end_time": "2023-07-26T07:17:17.988806",
     "exception": false,
     "start_time": "2023-07-26T07:17:17.958237",
     "status": "completed"
    },
    "tags": []
   },
   "source": [
    "If you are not sure that you performed the previous tasks correctly, you can now import the pickle: `strikes_checkpoint` and continue your work with it.\\\n",
    "Note: the file is compressed with zip, you need to unzip it first."
   ]
  },
  {
   "cell_type": "code",
   "execution_count": 63,
   "id": "618e24cf",
   "metadata": {
    "execution": {
     "iopub.execute_input": "2023-07-26T07:17:18.052036Z",
     "iopub.status.busy": "2023-07-26T07:17:18.051626Z",
     "iopub.status.idle": "2023-07-26T07:17:18.055810Z",
     "shell.execute_reply": "2023-07-26T07:17:18.054819Z"
    },
    "id": "574252ae-92a5-4a05-a604-2d68b1e4b48b",
    "papermill": {
     "duration": 0.038508,
     "end_time": "2023-07-26T07:17:18.057836",
     "exception": false,
     "start_time": "2023-07-26T07:17:18.019328",
     "status": "completed"
    },
    "tags": []
   },
   "outputs": [],
   "source": [
    "# import pandas as pd\n",
    "# all_strikes = pd.read_pickle('strikes_checkpoint')"
   ]
  },
  {
   "cell_type": "markdown",
   "id": "51048544",
   "metadata": {
    "id": "6547402c-d520-4607-9762-746dfaeed6ba",
    "jp-MarkdownHeadingCollapsed": true,
    "papermill": {
     "duration": 0.030411,
     "end_time": "2023-07-26T07:17:18.119219",
     "exception": false,
     "start_time": "2023-07-26T07:17:18.088808",
     "status": "completed"
    },
    "tags": []
   },
   "source": [
    "## Task 4 - Filtering"
   ]
  },
  {
   "cell_type": "markdown",
   "id": "7fc62bf2",
   "metadata": {
    "id": "ab5c2fb2-ff16-4873-8094-3ccf4d8c10d8",
    "papermill": {
     "duration": 0.030424,
     "end_time": "2023-07-26T07:17:18.180316",
     "exception": false,
     "start_time": "2023-07-26T07:17:18.149892",
     "status": "completed"
    },
    "tags": []
   },
   "source": [
    "#### Task 4.1\n",
    "\n",
    "Create a dataframe that contains only data from aircraft of type `A-320` from `INCIDENT_DATE` 1.1.2022 and onward.\\\n",
    "How many rows does your dataframe contain?"
   ]
  },
  {
   "cell_type": "code",
   "execution_count": 64,
   "id": "58d7e78a",
   "metadata": {
    "execution": {
     "iopub.execute_input": "2023-07-26T07:17:18.243186Z",
     "iopub.status.busy": "2023-07-26T07:17:18.242361Z",
     "iopub.status.idle": "2023-07-26T07:17:18.327771Z",
     "shell.execute_reply": "2023-07-26T07:17:18.326461Z"
    },
    "id": "da7ae370-7113-4d3f-9972-b40646ff9e93",
    "papermill": {
     "duration": 0.119535,
     "end_time": "2023-07-26T07:17:18.330197",
     "exception": false,
     "start_time": "2023-07-26T07:17:18.210662",
     "status": "completed"
    },
    "tags": []
   },
   "outputs": [
    {
     "name": "stdout",
     "output_type": "stream",
     "text": [
      "1057 rows\n"
     ]
    }
   ],
   "source": [
    "air_df = new_df[(new_df['AIRCRAFT']=='A-320') & (new_df['INCIDENT_DATE']>='2022-1-1')]\n",
    "print(f'{len(air_df)} rows')"
   ]
  },
  {
   "cell_type": "markdown",
   "id": "22ae4a02",
   "metadata": {
    "id": "77908614-cdce-4b8d-aefb-4750bfe1ec06",
    "papermill": {
     "duration": 0.030284,
     "end_time": "2023-07-26T07:17:18.392216",
     "exception": false,
     "start_time": "2023-07-26T07:17:18.361932",
     "status": "completed"
    },
    "tags": []
   },
   "source": [
    "#### Task 4.2 \n",
    "\n",
    "Create a dataframe the contains only data where the number `DMG_total`  (the total damage) is 5 or more.\\\n",
    "Print the number of rows in the dataframe."
   ]
  },
  {
   "cell_type": "code",
   "execution_count": 65,
   "id": "6edc773f",
   "metadata": {
    "execution": {
     "iopub.execute_input": "2023-07-26T07:17:18.456343Z",
     "iopub.status.busy": "2023-07-26T07:17:18.455675Z",
     "iopub.status.idle": "2023-07-26T07:17:18.462592Z",
     "shell.execute_reply": "2023-07-26T07:17:18.461465Z"
    },
    "id": "cb695607-35c2-4aa5-addc-824eb1258c9f",
    "papermill": {
     "duration": 0.040776,
     "end_time": "2023-07-26T07:17:18.464581",
     "exception": false,
     "start_time": "2023-07-26T07:17:18.423805",
     "status": "completed"
    },
    "tags": []
   },
   "outputs": [
    {
     "name": "stdout",
     "output_type": "stream",
     "text": [
      "137 rows\n"
     ]
    }
   ],
   "source": [
    "dmg_df =new_df[new_df['total_damaged']>=5]\n",
    "print(f'{len(dmg_df)} rows')"
   ]
  },
  {
   "cell_type": "markdown",
   "id": "cce02742",
   "metadata": {
    "id": "8cecf66b-ca2e-4e0b-8d34-b1ece642dd3d",
    "jp-MarkdownHeadingCollapsed": true,
    "papermill": {
     "duration": 0.031219,
     "end_time": "2023-07-26T07:17:18.526379",
     "exception": false,
     "start_time": "2023-07-26T07:17:18.495160",
     "status": "completed"
    },
    "tags": []
   },
   "source": [
    "## Task 5 - Data Analysis"
   ]
  },
  {
   "cell_type": "markdown",
   "id": "24e65d53",
   "metadata": {
    "id": "a2fc8525-124c-4cd7-8c0a-18bb6d90bfb7",
    "papermill": {
     "duration": 0.030421,
     "end_time": "2023-07-26T07:17:18.587479",
     "exception": false,
     "start_time": "2023-07-26T07:17:18.557058",
     "status": "completed"
    },
    "tags": []
   },
   "source": [
    "#### Task 5.1\n",
    "\n",
    "\n"
   ]
  },
  {
   "cell_type": "markdown",
   "id": "16c73f64",
   "metadata": {
    "id": "2476aacf-7e7a-4dc6-813e-d56dfe37cfea",
    "papermill": {
     "duration": 0.031386,
     "end_time": "2023-07-26T07:17:18.650335",
     "exception": false,
     "start_time": "2023-07-26T07:17:18.618949",
     "status": "completed"
    },
    "tags": []
   },
   "source": [
    "Each reported incident is a row in the dataframe.\\\n",
    "Which airports (column `AIRPORT`) reported the most incidents?\\\n",
    "Present the names of the 10 airports who reported the most incidents.\\\n",
    "Note: You will see that the most common airport is `UNKNOWN`. Omit it and look at the 10 airports with a known name (for example: `MEMPHIS INTL` is one of these 10 airports)"
   ]
  },
  {
   "cell_type": "code",
   "execution_count": 66,
   "id": "1962ce36",
   "metadata": {
    "execution": {
     "iopub.execute_input": "2023-07-26T07:17:18.713952Z",
     "iopub.status.busy": "2023-07-26T07:17:18.713228Z",
     "iopub.status.idle": "2023-07-26T07:17:18.744963Z",
     "shell.execute_reply": "2023-07-26T07:17:18.743897Z"
    },
    "papermill": {
     "duration": 0.066231,
     "end_time": "2023-07-26T07:17:18.747021",
     "exception": false,
     "start_time": "2023-07-26T07:17:18.680790",
     "status": "completed"
    },
    "tags": []
   },
   "outputs": [
    {
     "data": {
      "text/plain": [
       "DENVER INTL AIRPORT                       8064\n",
       "DALLAS/FORT WORTH INTL ARPT               6924\n",
       "CHICAGO O'HARE INTL ARPT                  5715\n",
       "JOHN F KENNEDY INTL                       5530\n",
       "MEMPHIS INTL                              4364\n",
       "SALT LAKE CITY INTL                       3400\n",
       "SACRAMENTO INTL                           3386\n",
       "ORLANDO INTL                              3290\n",
       "DETROIT METRO WAYNE COUNTY ARPT           3161\n",
       "HARTSFIELD - JACKSON ATLANTA INTL ARPT    3098\n",
       "Name: AIRPORT, dtype: int64"
      ]
     },
     "execution_count": 66,
     "metadata": {},
     "output_type": "execute_result"
    }
   ],
   "source": [
    "most_inci_airport = new_df.AIRPORT.value_counts()[1:11]\n",
    "most_inci_airport"
   ]
  },
  {
   "cell_type": "markdown",
   "id": "a39aa92c",
   "metadata": {
    "id": "096d7068-d7d2-4aa1-9d22-9ca4945f071b",
    "papermill": {
     "duration": 0.030312,
     "end_time": "2023-07-26T07:17:18.808755",
     "exception": false,
     "start_time": "2023-07-26T07:17:18.778443",
     "status": "completed"
    },
    "tags": []
   },
   "source": [
    "#### Task 5.2 \n",
    "Create a dataframe that contains only the 10 airports that reported the most incidents.\\\n",
    "Print the percentage of incidents (out of the total amount of incidents) reported by these 10 airports"
   ]
  },
  {
   "cell_type": "code",
   "execution_count": 67,
   "id": "0d663c38",
   "metadata": {
    "execution": {
     "iopub.execute_input": "2023-07-26T07:17:18.872533Z",
     "iopub.status.busy": "2023-07-26T07:17:18.871571Z",
     "iopub.status.idle": "2023-07-26T07:17:18.901488Z",
     "shell.execute_reply": "2023-07-26T07:17:18.899970Z"
    },
    "id": "5df6db40-0705-4696-97f3-54ce83b2ce03",
    "papermill": {
     "duration": 0.064213,
     "end_time": "2023-07-26T07:17:18.903675",
     "exception": false,
     "start_time": "2023-07-26T07:17:18.839462",
     "status": "completed"
    },
    "tags": []
   },
   "outputs": [
    {
     "name": "stdout",
     "output_type": "stream",
     "text": [
      "17.96 %\n"
     ]
    }
   ],
   "source": [
    "print(round((most_inci_airport.sum()/new_df['AIRPORT'].value_counts().sum())*100,2),'%')"
   ]
  },
  {
   "cell_type": "markdown",
   "id": "66239dca",
   "metadata": {
    "id": "e54b0508-2d14-48d0-9d28-b74aa9c9f7d2",
    "papermill": {
     "duration": 0.030583,
     "end_time": "2023-07-26T07:17:18.965382",
     "exception": false,
     "start_time": "2023-07-26T07:17:18.934799",
     "status": "completed"
    },
    "tags": []
   },
   "source": [
    "#### Task 5.3\n",
    "\n",
    "When do most incidents occur?\n",
    "Create a table that displays the average number of strikes (as indicated by the column `STR_total`) and the average damage (column `DMG_total`) at different times during the day (`TIME_OF_DAY`)"
   ]
  },
  {
   "cell_type": "code",
   "execution_count": 68,
   "id": "d1f4ad1d",
   "metadata": {
    "execution": {
     "iopub.execute_input": "2023-07-26T07:17:19.028326Z",
     "iopub.status.busy": "2023-07-26T07:17:19.027907Z",
     "iopub.status.idle": "2023-07-26T07:17:19.087342Z",
     "shell.execute_reply": "2023-07-26T07:17:19.086027Z"
    },
    "papermill": {
     "duration": 0.093372,
     "end_time": "2023-07-26T07:17:19.089568",
     "exception": false,
     "start_time": "2023-07-26T07:17:18.996196",
     "status": "completed"
    },
    "tags": []
   },
   "outputs": [
    {
     "data": {
      "text/html": [
       "<div>\n",
       "<style scoped>\n",
       "    .dataframe tbody tr th:only-of-type {\n",
       "        vertical-align: middle;\n",
       "    }\n",
       "\n",
       "    .dataframe tbody tr th {\n",
       "        vertical-align: top;\n",
       "    }\n",
       "\n",
       "    .dataframe thead th {\n",
       "        text-align: right;\n",
       "    }\n",
       "</style>\n",
       "<table border=\"1\" class=\"dataframe\">\n",
       "  <thead>\n",
       "    <tr style=\"text-align: right;\">\n",
       "      <th></th>\n",
       "      <th>STR_total</th>\n",
       "      <th>total_damaged</th>\n",
       "    </tr>\n",
       "    <tr>\n",
       "      <th>TIME_OF_DAY</th>\n",
       "      <th></th>\n",
       "      <th></th>\n",
       "    </tr>\n",
       "  </thead>\n",
       "  <tbody>\n",
       "    <tr>\n",
       "      <th>Dusk</th>\n",
       "      <td>1.262967</td>\n",
       "      <td>0.162127</td>\n",
       "    </tr>\n",
       "    <tr>\n",
       "      <th>Night</th>\n",
       "      <td>1.180473</td>\n",
       "      <td>0.143194</td>\n",
       "    </tr>\n",
       "    <tr>\n",
       "      <th>Dawn</th>\n",
       "      <td>1.166998</td>\n",
       "      <td>0.111332</td>\n",
       "    </tr>\n",
       "    <tr>\n",
       "      <th>Day</th>\n",
       "      <td>1.126809</td>\n",
       "      <td>0.110253</td>\n",
       "    </tr>\n",
       "  </tbody>\n",
       "</table>\n",
       "</div>"
      ],
      "text/plain": [
       "             STR_total  total_damaged\n",
       "TIME_OF_DAY                          \n",
       "Dusk          1.262967       0.162127\n",
       "Night         1.180473       0.143194\n",
       "Dawn          1.166998       0.111332\n",
       "Day           1.126809       0.110253"
      ]
     },
     "execution_count": 68,
     "metadata": {},
     "output_type": "execute_result"
    }
   ],
   "source": [
    "new_df.groupby('TIME_OF_DAY').agg({'STR_total':'mean','total_damaged':'mean'}).sort_values(by = ['STR_total','total_damaged'], ascending = False)"
   ]
  },
  {
   "cell_type": "markdown",
   "id": "dd4cece0",
   "metadata": {
    "id": "0c5e2d10-789b-4584-afdc-091dcdc3a0ca",
    "papermill": {
     "duration": 0.03092,
     "end_time": "2023-07-26T07:17:19.151897",
     "exception": false,
     "start_time": "2023-07-26T07:17:19.120977",
     "status": "completed"
    },
    "tags": []
   },
   "source": [
    "#### Task 5.4\n",
    "\n",
    "Do warnings help?\\\n",
    "Create a table showing the total number of strikes (`STR_total`) when a warning was issued or not issued (column `WARNED`).\\\n",
    "Omit rows where it is unknown whether or not a warning was issued. "
   ]
  },
  {
   "cell_type": "code",
   "execution_count": 69,
   "id": "d7747000",
   "metadata": {
    "execution": {
     "iopub.execute_input": "2023-07-26T07:17:19.217130Z",
     "iopub.status.busy": "2023-07-26T07:17:19.216394Z",
     "iopub.status.idle": "2023-07-26T07:17:19.291754Z",
     "shell.execute_reply": "2023-07-26T07:17:19.290548Z"
    },
    "id": "9f606f2b-7653-4dab-bfd3-fa8f500037ee",
    "papermill": {
     "duration": 0.110719,
     "end_time": "2023-07-26T07:17:19.294125",
     "exception": false,
     "start_time": "2023-07-26T07:17:19.183406",
     "status": "completed"
    },
    "tags": []
   },
   "outputs": [
    {
     "data": {
      "text/html": [
       "<div>\n",
       "<style scoped>\n",
       "    .dataframe tbody tr th:only-of-type {\n",
       "        vertical-align: middle;\n",
       "    }\n",
       "\n",
       "    .dataframe tbody tr th {\n",
       "        vertical-align: top;\n",
       "    }\n",
       "\n",
       "    .dataframe thead th {\n",
       "        text-align: right;\n",
       "    }\n",
       "</style>\n",
       "<table border=\"1\" class=\"dataframe\">\n",
       "  <thead>\n",
       "    <tr style=\"text-align: right;\">\n",
       "      <th></th>\n",
       "      <th>STR_total</th>\n",
       "    </tr>\n",
       "    <tr>\n",
       "      <th>WARNED</th>\n",
       "      <th></th>\n",
       "    </tr>\n",
       "  </thead>\n",
       "  <tbody>\n",
       "    <tr>\n",
       "      <th>No</th>\n",
       "      <td>71203</td>\n",
       "    </tr>\n",
       "    <tr>\n",
       "      <th>Yes</th>\n",
       "      <td>55181</td>\n",
       "    </tr>\n",
       "  </tbody>\n",
       "</table>\n",
       "</div>"
      ],
      "text/plain": [
       "        STR_total\n",
       "WARNED           \n",
       "No          71203\n",
       "Yes         55181"
      ]
     },
     "execution_count": 69,
     "metadata": {},
     "output_type": "execute_result"
    }
   ],
   "source": [
    "grp_sw = new_df.loc[new_df['WARNED']!='Unknown',['WARNED','STR_total']].groupby('WARNED').agg({'STR_total':'sum'})\n",
    "grp_sw"
   ]
  },
  {
   "cell_type": "markdown",
   "id": "64fcc1ef",
   "metadata": {
    "id": "19434c9a-6498-40b1-aa71-14056a2254d7",
    "papermill": {
     "duration": 0.030775,
     "end_time": "2023-07-26T07:17:19.357151",
     "exception": false,
     "start_time": "2023-07-26T07:17:19.326376",
     "status": "completed"
    },
    "tags": []
   },
   "source": [
    "#### Task 5.5 \n",
    "Who reports the incidents most often? Use the column `PERSON` to find out. "
   ]
  },
  {
   "cell_type": "code",
   "execution_count": 70,
   "id": "07017c76",
   "metadata": {
    "execution": {
     "iopub.execute_input": "2023-07-26T07:17:19.422567Z",
     "iopub.status.busy": "2023-07-26T07:17:19.421526Z",
     "iopub.status.idle": "2023-07-26T07:17:19.451006Z",
     "shell.execute_reply": "2023-07-26T07:17:19.449853Z"
    },
    "id": "d144a155-12a1-4388-823a-8ed6a9462a5f",
    "papermill": {
     "duration": 0.064855,
     "end_time": "2023-07-26T07:17:19.453236",
     "exception": false,
     "start_time": "2023-07-26T07:17:19.388381",
     "status": "completed"
    },
    "tags": []
   },
   "outputs": [
    {
     "data": {
      "text/plain": [
       "Carcass Found               68432\n",
       "Airport Operations          58069\n",
       "Pilot                       48001\n",
       "Air Transport Operations    32437\n",
       "Tower                       27263\n",
       "Other                        5954\n",
       "Name: PERSON, dtype: int64"
      ]
     },
     "execution_count": 70,
     "metadata": {},
     "output_type": "execute_result"
    }
   ],
   "source": [
    "new_df['PERSON'].value_counts()"
   ]
  },
  {
   "cell_type": "markdown",
   "id": "7f64c967",
   "metadata": {
    "id": "07b08342-d6ad-4424-af6d-7ac34b1d1b02",
    "papermill": {
     "duration": 0.031219,
     "end_time": "2023-07-26T07:17:19.516214",
     "exception": false,
     "start_time": "2023-07-26T07:17:19.484995",
     "status": "completed"
    },
    "tags": []
   },
   "source": [
    "#### Task 5.6 \n",
    "\n",
    "Who reports the incidents most often **when there is damage to the aircraft**?\n",
    "\n",
    "Create a table that displays the reporting person (`PERSON`) and the total damage (`DMG_total`) and total strikes (`STR_total`)"
   ]
  },
  {
   "cell_type": "code",
   "execution_count": 71,
   "id": "a8011244",
   "metadata": {
    "execution": {
     "iopub.execute_input": "2023-07-26T07:17:19.581956Z",
     "iopub.status.busy": "2023-07-26T07:17:19.581168Z",
     "iopub.status.idle": "2023-07-26T07:17:19.614127Z",
     "shell.execute_reply": "2023-07-26T07:17:19.612979Z"
    },
    "id": "e072883c-1774-4d13-9281-86d590c55121",
    "papermill": {
     "duration": 0.06907,
     "end_time": "2023-07-26T07:17:19.616431",
     "exception": false,
     "start_time": "2023-07-26T07:17:19.547361",
     "status": "completed"
    },
    "tags": []
   },
   "outputs": [
    {
     "data": {
      "text/html": [
       "<div>\n",
       "<style scoped>\n",
       "    .dataframe tbody tr th:only-of-type {\n",
       "        vertical-align: middle;\n",
       "    }\n",
       "\n",
       "    .dataframe tbody tr th {\n",
       "        vertical-align: top;\n",
       "    }\n",
       "\n",
       "    .dataframe thead th {\n",
       "        text-align: right;\n",
       "    }\n",
       "</style>\n",
       "<table border=\"1\" class=\"dataframe\">\n",
       "  <thead>\n",
       "    <tr style=\"text-align: right;\">\n",
       "      <th></th>\n",
       "      <th>Report_Count</th>\n",
       "      <th>total_damaged</th>\n",
       "      <th>STR_total</th>\n",
       "    </tr>\n",
       "    <tr>\n",
       "      <th>PERSON</th>\n",
       "      <th></th>\n",
       "      <th></th>\n",
       "      <th></th>\n",
       "    </tr>\n",
       "  </thead>\n",
       "  <tbody>\n",
       "    <tr>\n",
       "      <th>Pilot</th>\n",
       "      <td>5767</td>\n",
       "      <td>7297</td>\n",
       "      <td>9501</td>\n",
       "    </tr>\n",
       "    <tr>\n",
       "      <th>Airport Operations</th>\n",
       "      <td>3683</td>\n",
       "      <td>4354</td>\n",
       "      <td>5643</td>\n",
       "    </tr>\n",
       "    <tr>\n",
       "      <th>Air Transport Operations</th>\n",
       "      <td>3246</td>\n",
       "      <td>3701</td>\n",
       "      <td>4556</td>\n",
       "    </tr>\n",
       "    <tr>\n",
       "      <th>Tower</th>\n",
       "      <td>2053</td>\n",
       "      <td>2490</td>\n",
       "      <td>3057</td>\n",
       "    </tr>\n",
       "    <tr>\n",
       "      <th>Other</th>\n",
       "      <td>1367</td>\n",
       "      <td>1808</td>\n",
       "      <td>1822</td>\n",
       "    </tr>\n",
       "  </tbody>\n",
       "</table>\n",
       "</div>"
      ],
      "text/plain": [
       "                          Report_Count  total_damaged  STR_total\n",
       "PERSON                                                          \n",
       "Pilot                             5767           7297       9501\n",
       "Airport Operations                3683           4354       5643\n",
       "Air Transport Operations          3246           3701       4556\n",
       "Tower                             2053           2490       3057\n",
       "Other                             1367           1808       1822"
      ]
     },
     "execution_count": 71,
     "metadata": {},
     "output_type": "execute_result"
    }
   ],
   "source": [
    "new_df[new_df['total_damaged']>0].groupby('PERSON').agg({'PERSON':'count',\n",
    "    'total_damaged':'sum','STR_total':'sum'}).rename(columns={'PERSON':'Report_Count'}).sort_values(by='Report_Count',ascending= False)"
   ]
  },
  {
   "cell_type": "markdown",
   "id": "9600a929",
   "metadata": {
    "id": "7c6c3411-5fd3-426a-bd5a-08151e17cf75",
    "jp-MarkdownHeadingCollapsed": true,
    "papermill": {
     "duration": 0.031536,
     "end_time": "2023-07-26T07:17:19.679984",
     "exception": false,
     "start_time": "2023-07-26T07:17:19.648448",
     "status": "completed"
    },
    "tags": []
   },
   "source": [
    "## Task 6 - Data Visualization"
   ]
  },
  {
   "cell_type": "markdown",
   "id": "6de3be28",
   "metadata": {
    "id": "25e38b11-2d62-4809-91a5-1d780573e73a",
    "papermill": {
     "duration": 0.031463,
     "end_time": "2023-07-26T07:17:19.742732",
     "exception": false,
     "start_time": "2023-07-26T07:17:19.711269",
     "status": "completed"
    },
    "tags": []
   },
   "source": [
    "#### Task 6.1\n",
    "\n",
    "Present **one** histogram plot that contains **two** distributions: the `SPEED` when there was and wasn't a warning (column `WARNED`)\\\n",
    "Note:\n",
    "* Remove outliers: that is, remove the two rows where the speed is higher than 1000 mph. \n",
    "* Do not display incidents with an Unknown warning.\n",
    "* Do not use more than 20 bins (see [histplot documentation](https://seaborn.pydata.org/generated/seaborn.histplot.html) )"
   ]
  },
  {
   "cell_type": "code",
   "execution_count": 72,
   "id": "5fedc1a6",
   "metadata": {
    "execution": {
     "iopub.execute_input": "2023-07-26T07:17:19.807544Z",
     "iopub.status.busy": "2023-07-26T07:17:19.806929Z",
     "iopub.status.idle": "2023-07-26T07:17:21.177538Z",
     "shell.execute_reply": "2023-07-26T07:17:21.176447Z"
    },
    "papermill": {
     "duration": 1.406239,
     "end_time": "2023-07-26T07:17:21.180556",
     "exception": false,
     "start_time": "2023-07-26T07:17:19.774317",
     "status": "completed"
    },
    "tags": []
   },
   "outputs": [
    {
     "name": "stderr",
     "output_type": "stream",
     "text": [
      "/opt/conda/lib/python3.10/site-packages/scipy/__init__.py:146: UserWarning: A NumPy version >=1.16.5 and <1.23.0 is required for this version of SciPy (detected version 1.23.5\n",
      "  warnings.warn(f\"A NumPy version >={np_minversion} and <{np_maxversion}\"\n"
     ]
    }
   ],
   "source": [
    "import matplotlib.pyplot as plt\n",
    "import seaborn as sns"
   ]
  },
  {
   "cell_type": "code",
   "execution_count": 73,
   "id": "7a6f1a4b",
   "metadata": {
    "execution": {
     "iopub.execute_input": "2023-07-26T07:17:21.247132Z",
     "iopub.status.busy": "2023-07-26T07:17:21.246740Z",
     "iopub.status.idle": "2023-07-26T07:17:22.456384Z",
     "shell.execute_reply": "2023-07-26T07:17:22.455302Z"
    },
    "id": "1793a93a-2d56-4bd5-9d2a-4707bba2b391",
    "papermill": {
     "duration": 1.245058,
     "end_time": "2023-07-26T07:17:22.458888",
     "exception": false,
     "start_time": "2023-07-26T07:17:21.213830",
     "status": "completed"
    },
    "tags": []
   },
   "outputs": [
    {
     "data": {
      "text/plain": [
       "<Axes: xlabel='SPEED', ylabel='Count'>"
      ]
     },
     "execution_count": 73,
     "metadata": {},
     "output_type": "execute_result"
    },
    {
     "data": {
      "image/png": "[encoded data removed]",
      "text/plain": [
       "<Figure size 640x480 with 1 Axes>"
      ]
     },
     "metadata": {},
     "output_type": "display_data"
    }
   ],
   "source": [
    "sns.histplot(data=new_df[new_df['WARNED']!='Unknown'],x='SPEED',hue = 'WARNED',kde=True,bins=20)"
   ]
  },
  {
   "cell_type": "markdown",
   "id": "074521a2",
   "metadata": {
    "id": "3e7c13f3-d99e-4e9f-b210-ba5032a3ddb4",
    "papermill": {
     "duration": 0.032601,
     "end_time": "2023-07-26T07:17:22.525969",
     "exception": false,
     "start_time": "2023-07-26T07:17:22.493368",
     "status": "completed"
    },
    "tags": []
   },
   "source": [
    "#### Task 6.2 \n",
    "\n",
    "Present a figure that compares the `DMG_Total` in 2017-2022 (`INCIDENT_YEAR`), for different warnings (`WARNED`) types."
   ]
  },
  {
   "cell_type": "code",
   "execution_count": 74,
   "id": "3a6efbbd",
   "metadata": {
    "execution": {
     "iopub.execute_input": "2023-07-26T07:17:22.593618Z",
     "iopub.status.busy": "2023-07-26T07:17:22.592900Z",
     "iopub.status.idle": "2023-07-26T07:17:24.277100Z",
     "shell.execute_reply": "2023-07-26T07:17:24.276007Z"
    },
    "id": "3bf279c7-e1b6-4fbf-b90d-ea109cfa12e3",
    "papermill": {
     "duration": 1.720784,
     "end_time": "2023-07-26T07:17:24.279708",
     "exception": false,
     "start_time": "2023-07-26T07:17:22.558924",
     "status": "completed"
    },
    "tags": []
   },
   "outputs": [
    {
     "data": {
      "text/plain": [
       "<Axes: xlabel='WARNED', ylabel='total_damaged'>"
      ]
     },
     "execution_count": 74,
     "metadata": {},
     "output_type": "execute_result"
    },
    {
     "data": {
      "image/png": "[encoded data removed]",
      "text/plain": [
       "<Figure size 640x480 with 1 Axes>"
      ]
     },
     "metadata": {},
     "output_type": "display_data"
    }
   ],
   "source": [
    "year_df = new_df.loc[new_df['INCIDENT_YEAR'].between(2017,2022),['INCIDENT_YEAR','WARNED','total_damaged']]\n",
    "sns.barplot(data=year_df,y='total_damaged',hue='INCIDENT_YEAR', x='WARNED')"
   ]
  },
  {
   "cell_type": "code",
   "execution_count": 75,
   "id": "d66432e2",
   "metadata": {
    "execution": {
     "iopub.execute_input": "2023-07-26T07:17:24.348755Z",
     "iopub.status.busy": "2023-07-26T07:17:24.348102Z",
     "iopub.status.idle": "2023-07-26T07:17:25.209410Z",
     "shell.execute_reply": "2023-07-26T07:17:25.208347Z"
    },
    "papermill": {
     "duration": 0.899076,
     "end_time": "2023-07-26T07:17:25.211707",
     "exception": false,
     "start_time": "2023-07-26T07:17:24.312631",
     "status": "completed"
    },
    "tags": []
   },
   "outputs": [
    {
     "data": {
      "text/plain": [
       "<Axes: xlabel='WARNED', ylabel='total_damaged'>"
      ]
     },
     "execution_count": 75,
     "metadata": {},
     "output_type": "execute_result"
    },
    {
     "data": {
      "image/png": "[encoded data removed]",
      "text/plain": [
       "<Figure size 640x480 with 1 Axes>"
      ]
     },
     "metadata": {},
     "output_type": "display_data"
    }
   ],
   "source": [
    "year_df = new_df.loc[(new_df['INCIDENT_YEAR'].between(2017,2022)) & (new_df['WARNED']!='Unknown'),['INCIDENT_YEAR','WARNED','total_damaged']]\n",
    "sns.barplot(data=year_df,y='total_damaged',hue='INCIDENT_YEAR', x='WARNED')"
   ]
  },
  {
   "cell_type": "markdown",
   "id": "a8d19837",
   "metadata": {
    "id": "2b945aa5-71b6-4fb0-a129-e8449907f1c4",
    "papermill": {
     "duration": 0.033022,
     "end_time": "2023-07-26T07:17:25.278606",
     "exception": false,
     "start_time": "2023-07-26T07:17:25.245584",
     "status": "completed"
    },
    "tags": []
   },
   "source": [
    "#### Task 6.3 \n",
    "\n",
    "Create a figure that compares and displays **how many** strikes (`STR_total`) occurred in different phases of the flight (`PHASE_OF_FLIGHT`). The figure should only present cases where there are 8 or more total strikes (`STR_total`). Make sure the categories on the x-axis are readable. "
   ]
  },
  {
   "cell_type": "code",
   "execution_count": 76,
   "id": "4872270c",
   "metadata": {
    "execution": {
     "iopub.execute_input": "2023-07-26T07:17:25.349138Z",
     "iopub.status.busy": "2023-07-26T07:17:25.348703Z",
     "iopub.status.idle": "2023-07-26T07:17:25.683109Z",
     "shell.execute_reply": "2023-07-26T07:17:25.682028Z"
    },
    "id": "afc19b6b-924c-41ff-ac5e-fe8b7a189911",
    "papermill": {
     "duration": 0.372734,
     "end_time": "2023-07-26T07:17:25.685250",
     "exception": false,
     "start_time": "2023-07-26T07:17:25.312516",
     "status": "completed"
    },
    "tags": []
   },
   "outputs": [
    {
     "data": {
      "text/plain": [
       "<Axes: xlabel='STR_total', ylabel='count'>"
      ]
     },
     "execution_count": 76,
     "metadata": {},
     "output_type": "execute_result"
    },
    {
     "data": {
      "image/png": "[encoded data removed]",
      "text/plain": [
       "<Figure size 640x480 with 1 Axes>"
      ]
     },
     "metadata": {},
     "output_type": "display_data"
    }
   ],
   "source": [
    "sns.countplot(data= new_df[new_df['STR_total']>=8],x='STR_total',hue='PHASE_OF_FLIGHT')"
   ]
  },
  {
   "cell_type": "markdown",
   "id": "be4bc35f",
   "metadata": {
    "id": "3565e33c-e625-4e5a-be96-04abb9da135a",
    "papermill": {
     "duration": 0.033551,
     "end_time": "2023-07-26T07:17:25.752610",
     "exception": false,
     "start_time": "2023-07-26T07:17:25.719059",
     "status": "completed"
    },
    "tags": []
   },
   "source": [
    "#### Task 6.4 \n",
    "\n",
    "Create a figure that displays the correlation between the `HEIGHT` and the total strikes (`STR_total`)"
   ]
  },
  {
   "cell_type": "code",
   "execution_count": 77,
   "id": "5337e2a3",
   "metadata": {
    "execution": {
     "iopub.execute_input": "2023-07-26T07:17:25.822505Z",
     "iopub.status.busy": "2023-07-26T07:17:25.821894Z",
     "iopub.status.idle": "2023-07-26T07:17:26.049943Z",
     "shell.execute_reply": "2023-07-26T07:17:26.048833Z"
    },
    "id": "28e10b9e-7e96-4186-84d7-907d919522b8",
    "papermill": {
     "duration": 0.26583,
     "end_time": "2023-07-26T07:17:26.052308",
     "exception": false,
     "start_time": "2023-07-26T07:17:25.786478",
     "status": "completed"
    },
    "tags": []
   },
   "outputs": [
    {
     "data": {
      "text/plain": [
       "<Axes: >"
      ]
     },
     "execution_count": 77,
     "metadata": {},
     "output_type": "execute_result"
    },
    {
     "data": {
      "image/png": "[encoded data removed]",
      "text/plain": [
       "<Figure size 640x480 with 2 Axes>"
      ]
     },
     "metadata": {},
     "output_type": "display_data"
    }
   ],
   "source": [
    "sns.heatmap(new_df[['HEIGHT','STR_total']].corr(),annot=True)"
   ]
  },
  {
   "cell_type": "markdown",
   "id": "3dbacd2e",
   "metadata": {
    "id": "06df5cc8-eb15-4260-b170-690eb8ba24f9",
    "papermill": {
     "duration": 0.034021,
     "end_time": "2023-07-26T07:17:26.120862",
     "exception": false,
     "start_time": "2023-07-26T07:17:26.086841",
     "status": "completed"
    },
    "tags": []
   },
   "source": [
    "#### Task 6.5 \n",
    "\n",
    "Create a figure that shows the **median** speed in different times of the day (`SPEED`, `TIME_OF_DAY`).\n",
    "Do not show cases where the speed is higher than 500 mph. "
   ]
  },
  {
   "cell_type": "code",
   "execution_count": 78,
   "id": "1ad66026",
   "metadata": {
    "execution": {
     "iopub.execute_input": "2023-07-26T07:17:26.191839Z",
     "iopub.status.busy": "2023-07-26T07:17:26.191450Z",
     "iopub.status.idle": "2023-07-26T07:17:26.248080Z",
     "shell.execute_reply": "2023-07-26T07:17:26.247043Z"
    },
    "papermill": {
     "duration": 0.094802,
     "end_time": "2023-07-26T07:17:26.250315",
     "exception": false,
     "start_time": "2023-07-26T07:17:26.155513",
     "status": "completed"
    },
    "tags": []
   },
   "outputs": [
    {
     "data": {
      "text/html": [
       "<div>\n",
       "<style scoped>\n",
       "    .dataframe tbody tr th:only-of-type {\n",
       "        vertical-align: middle;\n",
       "    }\n",
       "\n",
       "    .dataframe tbody tr th {\n",
       "        vertical-align: top;\n",
       "    }\n",
       "\n",
       "    .dataframe thead th {\n",
       "        text-align: right;\n",
       "    }\n",
       "</style>\n",
       "<table border=\"1\" class=\"dataframe\">\n",
       "  <thead>\n",
       "    <tr style=\"text-align: right;\">\n",
       "      <th></th>\n",
       "      <th>TIME_OF_DAY</th>\n",
       "      <th>SPEED</th>\n",
       "    </tr>\n",
       "  </thead>\n",
       "  <tbody>\n",
       "    <tr>\n",
       "      <th>0</th>\n",
       "      <td>Dawn</td>\n",
       "      <td>135.0</td>\n",
       "    </tr>\n",
       "    <tr>\n",
       "      <th>1</th>\n",
       "      <td>Day</td>\n",
       "      <td>130.0</td>\n",
       "    </tr>\n",
       "    <tr>\n",
       "      <th>2</th>\n",
       "      <td>Dusk</td>\n",
       "      <td>130.0</td>\n",
       "    </tr>\n",
       "    <tr>\n",
       "      <th>3</th>\n",
       "      <td>Night</td>\n",
       "      <td>150.0</td>\n",
       "    </tr>\n",
       "  </tbody>\n",
       "</table>\n",
       "</div>"
      ],
      "text/plain": [
       "  TIME_OF_DAY  SPEED\n",
       "0        Dawn  135.0\n",
       "1         Day  130.0\n",
       "2        Dusk  130.0\n",
       "3       Night  150.0"
      ]
     },
     "execution_count": 78,
     "metadata": {},
     "output_type": "execute_result"
    }
   ],
   "source": [
    "v = new_df[new_df['SPEED']<=500].groupby('TIME_OF_DAY').agg({'SPEED':'median'}).reset_index()\n",
    "v"
   ]
  },
  {
   "cell_type": "code",
   "execution_count": 79,
   "id": "206789ba",
   "metadata": {
    "execution": {
     "iopub.execute_input": "2023-07-26T07:17:26.321914Z",
     "iopub.status.busy": "2023-07-26T07:17:26.321499Z",
     "iopub.status.idle": "2023-07-26T07:17:27.176277Z",
     "shell.execute_reply": "2023-07-26T07:17:27.175199Z"
    },
    "papermill": {
     "duration": 0.893012,
     "end_time": "2023-07-26T07:17:27.178398",
     "exception": false,
     "start_time": "2023-07-26T07:17:26.285386",
     "status": "completed"
    },
    "tags": []
   },
   "outputs": [
    {
     "data": {
      "text/plain": [
       "[<matplotlib.lines.Line2D at 0x79fd160bfac0>,\n",
       " <matplotlib.lines.Line2D at 0x79fd070b6020>,\n",
       " <matplotlib.lines.Line2D at 0x79fd070b5bd0>,\n",
       " <matplotlib.lines.Line2D at 0x79fd070a3eb0>]"
      ]
     },
     "execution_count": 79,
     "metadata": {},
     "output_type": "execute_result"
    },
    {
     "data": {
      "image/png": "[encoded data removed]",
      "text/plain": [
       "<Figure size 640x480 with 1 Axes>"
      ]
     },
     "metadata": {},
     "output_type": "display_data"
    }
   ],
   "source": [
    "sns.kdeplot(data=new_df[new_df['SPEED']<=500], x= \"SPEED\", hue='TIME_OF_DAY',bw_adjust=5 )\n",
    "[plt.axvline(n, linewidth=1, color='b') for n in v['SPEED']]"
   ]
  },
  {
   "cell_type": "markdown",
   "id": "d4416ea3",
   "metadata": {
    "id": "8dfcecb1-060d-409c-8ed5-de4931a78a4f",
    "jp-MarkdownHeadingCollapsed": true,
    "papermill": {
     "duration": 0.03512,
     "end_time": "2023-07-26T07:17:27.249662",
     "exception": false,
     "start_time": "2023-07-26T07:17:27.214542",
     "status": "completed"
    },
    "tags": []
   },
   "source": [
    "## Task 7 - Statistics "
   ]
  },
  {
   "cell_type": "markdown",
   "id": "5243ddce",
   "metadata": {
    "id": "afae7c76-5b0f-4279-8583-bde3318d06f3",
    "papermill": {
     "duration": 0.03731,
     "end_time": "2023-07-26T07:17:27.322547",
     "exception": false,
     "start_time": "2023-07-26T07:17:27.285237",
     "status": "completed"
    },
    "tags": []
   },
   "source": [
    "#### Task 7.1 (2 points):\n",
    "\n",
    "Which type of t-test should be used to determine if there is a statistical difference between the number of strikes (`STR_total`) when there was\\wasn't a warning (`WARNED=Yes\\No`)"
   ]
  },
  {
   "cell_type": "code",
   "execution_count": 80,
   "id": "c5a8c0c0",
   "metadata": {
    "execution": {
     "iopub.execute_input": "2023-07-26T07:17:27.398490Z",
     "iopub.status.busy": "2023-07-26T07:17:27.398091Z",
     "iopub.status.idle": "2023-07-26T07:17:27.448048Z",
     "shell.execute_reply": "2023-07-26T07:17:27.446851Z"
    },
    "id": "64b0c75c-c57f-4acf-a889-2a5b0c17e242",
    "papermill": {
     "duration": 0.089929,
     "end_time": "2023-07-26T07:17:27.450491",
     "exception": false,
     "start_time": "2023-07-26T07:17:27.360562",
     "status": "completed"
    },
    "tags": []
   },
   "outputs": [
    {
     "name": "stdout",
     "output_type": "stream",
     "text": [
      "1.160898744030463 1.2075468498261681 47533 58965 0.5070993521344571 0.6053192058175727\n"
     ]
    }
   ],
   "source": [
    "grp_yes = pd.Series(new_df.loc[new_df['WARNED']=='Yes','STR_total'])\n",
    "grp_no = pd.Series(new_df.loc[new_df['WARNED']=='No','STR_total'])\n",
    "\n",
    "grp_yes_m = grp_yes.mean()\n",
    "grp_no_m = grp_no.mean()\n",
    "grp_yes_size = grp_yes.shape[0]\n",
    "grp_no_size = grp_no.shape[0]\n",
    "grp_yes_var = grp_yes.var()\n",
    "grp_no_var = grp_no.var()\n",
    "\n",
    "print(grp_yes_m,grp_no_m,grp_yes_size,grp_no_size, grp_yes_var, grp_no_var)"
   ]
  },
  {
   "cell_type": "code",
   "execution_count": 81,
   "id": "4d91ab03",
   "metadata": {
    "execution": {
     "iopub.execute_input": "2023-07-26T07:17:27.523104Z",
     "iopub.status.busy": "2023-07-26T07:17:27.522461Z",
     "iopub.status.idle": "2023-07-26T07:17:28.494389Z",
     "shell.execute_reply": "2023-07-26T07:17:28.493286Z"
    },
    "papermill": {
     "duration": 1.011181,
     "end_time": "2023-07-26T07:17:28.496919",
     "exception": false,
     "start_time": "2023-07-26T07:17:27.485738",
     "status": "completed"
    },
    "tags": []
   },
   "outputs": [
    {
     "data": {
      "text/plain": [
       "<Axes: xlabel='STR_total', ylabel='Density'>"
      ]
     },
     "execution_count": 81,
     "metadata": {},
     "output_type": "execute_result"
    },
    {
     "data": {
      "image/png": "[encoded data removed]",
      "text/plain": [
       "<Figure size 640x480 with 1 Axes>"
      ]
     },
     "metadata": {},
     "output_type": "display_data"
    }
   ],
   "source": [
    "sns.kdeplot(data = new_df[new_df['WARNED']!='Unknown'],x='STR_total',hue='WARNED',bw_adjust=6)"
   ]
  },
  {
   "cell_type": "markdown",
   "id": "28abe49a",
   "metadata": {
    "papermill": {
     "duration": 0.037029,
     "end_time": "2023-07-26T07:17:28.570714",
     "exception": false,
     "start_time": "2023-07-26T07:17:28.533685",
     "status": "completed"
    },
    "tags": []
   },
   "source": [
    "##### Bell shape plot with right skewed"
   ]
  },
  {
   "cell_type": "markdown",
   "id": "f9ad8722",
   "metadata": {
    "id": "76722161-872a-4bcb-8fe2-1bbe431b0463",
    "papermill": {
     "duration": 0.036635,
     "end_time": "2023-07-26T07:17:28.643494",
     "exception": false,
     "start_time": "2023-07-26T07:17:28.606859",
     "status": "completed"
    },
    "tags": []
   },
   "source": [
    "#### Task 7.2 \n",
    "\n",
    "Apply the test you suggested in the previous task."
   ]
  },
  {
   "cell_type": "code",
   "execution_count": 82,
   "id": "7d372353",
   "metadata": {
    "execution": {
     "iopub.execute_input": "2023-07-26T07:17:28.719407Z",
     "iopub.status.busy": "2023-07-26T07:17:28.719029Z",
     "iopub.status.idle": "2023-07-26T07:17:28.725183Z",
     "shell.execute_reply": "2023-07-26T07:17:28.724086Z"
    },
    "papermill": {
     "duration": 0.045872,
     "end_time": "2023-07-26T07:17:28.727299",
     "exception": false,
     "start_time": "2023-07-26T07:17:28.681427",
     "status": "completed"
    },
    "tags": []
   },
   "outputs": [
    {
     "data": {
      "text/plain": [
       "(261313, 52)"
      ]
     },
     "execution_count": 82,
     "metadata": {},
     "output_type": "execute_result"
    }
   ],
   "source": [
    "new_df.shape"
   ]
  },
  {
   "cell_type": "code",
   "execution_count": 83,
   "id": "297d9ea6",
   "metadata": {
    "execution": {
     "iopub.execute_input": "2023-07-26T07:17:28.803025Z",
     "iopub.status.busy": "2023-07-26T07:17:28.802114Z",
     "iopub.status.idle": "2023-07-26T07:17:28.809226Z",
     "shell.execute_reply": "2023-07-26T07:17:28.808425Z"
    },
    "papermill": {
     "duration": 0.04666,
     "end_time": "2023-07-26T07:17:28.811021",
     "exception": false,
     "start_time": "2023-07-26T07:17:28.764361",
     "status": "completed"
    },
    "tags": []
   },
   "outputs": [
    {
     "data": {
      "text/plain": [
       "0.08308046035252274"
      ]
     },
     "execution_count": 83,
     "metadata": {},
     "output_type": "execute_result"
    }
   ],
   "source": [
    "import numpy as np\n",
    "mean_diff = np.abs(grp_yes_m - grp_no_m)\n",
    "\n",
    "sp= ((grp_yes_size-1)*(grp_yes_var)) + ((grp_no_size-1)*(grp_no_var))\n",
    "\n",
    "sp_1 = sp/(grp_yes_size+grp_no_size-2)\n",
    "t_test = mean_diff/sp_1\n",
    "t_test  ## Next step is to ref t test table"
   ]
  },
  {
   "cell_type": "code",
   "execution_count": 84,
   "id": "1f0a464b",
   "metadata": {
    "execution": {
     "iopub.execute_input": "2023-07-26T07:17:28.886573Z",
     "iopub.status.busy": "2023-07-26T07:17:28.885500Z",
     "iopub.status.idle": "2023-07-26T07:17:28.894673Z",
     "shell.execute_reply": "2023-07-26T07:17:28.893862Z"
    },
    "id": "23885df7-c857-4edc-b450-4f075b7b9250",
    "papermill": {
     "duration": 0.048499,
     "end_time": "2023-07-26T07:17:28.896501",
     "exception": false,
     "start_time": "2023-07-26T07:17:28.848002",
     "status": "completed"
    },
    "tags": []
   },
   "outputs": [
    {
     "data": {
      "text/plain": [
       "Ttest_indResult(statistic=-10.195460591487135, pvalue=2.1328377179879587e-24)"
      ]
     },
     "execution_count": 84,
     "metadata": {},
     "output_type": "execute_result"
    }
   ],
   "source": [
    "from scipy.stats import ttest_ind,ttest_1samp\n",
    "res = ttest_ind(grp_yes,grp_no,equal_var=False)\n",
    "res"
   ]
  },
  {
   "cell_type": "markdown",
   "id": "083cb635",
   "metadata": {
    "id": "c9788afb-1045-4360-b193-3a884c0885d5",
    "papermill": {
     "duration": 0.03613,
     "end_time": "2023-07-26T07:17:28.969706",
     "exception": false,
     "start_time": "2023-07-26T07:17:28.933576",
     "status": "completed"
    },
    "tags": []
   },
   "source": [
    "#### Task 7.3  \n",
    "\n",
    "What do the results tell us?\n",
    "Briefly interpret the results."
   ]
  },
  {
   "cell_type": "markdown",
   "id": "4e2b3b33",
   "metadata": {
    "papermill": {
     "duration": 0.036527,
     "end_time": "2023-07-26T07:17:29.043987",
     "exception": false,
     "start_time": "2023-07-26T07:17:29.007460",
     "status": "completed"
    },
    "tags": []
   },
   "source": [
    "#### statistic=-10.195460591487135, pvalue=2.1328377179879587e-24\n",
    "\n",
    "#### As you can see statistic value is less than pvalue so here we can conclude \n",
    "\n",
    "#### H0!=HA (Reject Null Hypothsis (H0))"
   ]
  },
  {
   "cell_type": "markdown",
   "id": "b5d75708",
   "metadata": {
    "id": "1393aaa3-391c-4655-809f-5429400ea5b2",
    "papermill": {
     "duration": 0.036701,
     "end_time": "2023-07-26T07:17:29.117343",
     "exception": false,
     "start_time": "2023-07-26T07:17:29.080642",
     "status": "completed"
    },
    "tags": []
   },
   "source": [
    "#### Task 7.4 \n",
    "\n",
    "Which type of test should be used to determine whether the proportion of total damage (`DMG_total`) out of all the total strikes (`STR_total`), is constant in all `INCIDENT_YEAR`? "
   ]
  },
  {
   "cell_type": "code",
   "execution_count": 85,
   "id": "df82a197",
   "metadata": {
    "execution": {
     "iopub.execute_input": "2023-07-26T07:17:29.192882Z",
     "iopub.status.busy": "2023-07-26T07:17:29.191741Z",
     "iopub.status.idle": "2023-07-26T07:17:29.217507Z",
     "shell.execute_reply": "2023-07-26T07:17:29.216037Z"
    },
    "id": "3ac39157-d52f-4f23-95ed-6dd80f6e773a",
    "papermill": {
     "duration": 0.065978,
     "end_time": "2023-07-26T07:17:29.219668",
     "exception": false,
     "start_time": "2023-07-26T07:17:29.153690",
     "status": "completed"
    },
    "tags": []
   },
   "outputs": [
    {
     "data": {
      "text/html": [
       "<div>\n",
       "<style scoped>\n",
       "    .dataframe tbody tr th:only-of-type {\n",
       "        vertical-align: middle;\n",
       "    }\n",
       "\n",
       "    .dataframe tbody tr th {\n",
       "        vertical-align: top;\n",
       "    }\n",
       "\n",
       "    .dataframe thead th {\n",
       "        text-align: right;\n",
       "    }\n",
       "</style>\n",
       "<table border=\"1\" class=\"dataframe\">\n",
       "  <thead>\n",
       "    <tr style=\"text-align: right;\">\n",
       "      <th></th>\n",
       "      <th>INCIDENT_YEAR</th>\n",
       "      <th>STR_total</th>\n",
       "      <th>total_damaged</th>\n",
       "      <th>proportion_dmg</th>\n",
       "    </tr>\n",
       "  </thead>\n",
       "  <tbody>\n",
       "    <tr>\n",
       "      <th>0</th>\n",
       "      <td>1990</td>\n",
       "      <td>1186</td>\n",
       "      <td>434</td>\n",
       "      <td>0.365936</td>\n",
       "    </tr>\n",
       "    <tr>\n",
       "      <th>1</th>\n",
       "      <td>1991</td>\n",
       "      <td>1762</td>\n",
       "      <td>462</td>\n",
       "      <td>0.262202</td>\n",
       "    </tr>\n",
       "    <tr>\n",
       "      <th>2</th>\n",
       "      <td>1992</td>\n",
       "      <td>2050</td>\n",
       "      <td>451</td>\n",
       "      <td>0.220000</td>\n",
       "    </tr>\n",
       "    <tr>\n",
       "      <th>3</th>\n",
       "      <td>1993</td>\n",
       "      <td>2098</td>\n",
       "      <td>482</td>\n",
       "      <td>0.229743</td>\n",
       "    </tr>\n",
       "    <tr>\n",
       "      <th>4</th>\n",
       "      <td>1994</td>\n",
       "      <td>2386</td>\n",
       "      <td>600</td>\n",
       "      <td>0.251467</td>\n",
       "    </tr>\n",
       "    <tr>\n",
       "      <th>5</th>\n",
       "      <td>1995</td>\n",
       "      <td>2592</td>\n",
       "      <td>604</td>\n",
       "      <td>0.233025</td>\n",
       "    </tr>\n",
       "    <tr>\n",
       "      <th>6</th>\n",
       "      <td>1996</td>\n",
       "      <td>2532</td>\n",
       "      <td>599</td>\n",
       "      <td>0.236572</td>\n",
       "    </tr>\n",
       "    <tr>\n",
       "      <th>7</th>\n",
       "      <td>1997</td>\n",
       "      <td>3267</td>\n",
       "      <td>731</td>\n",
       "      <td>0.223753</td>\n",
       "    </tr>\n",
       "    <tr>\n",
       "      <th>8</th>\n",
       "      <td>1998</td>\n",
       "      <td>3356</td>\n",
       "      <td>762</td>\n",
       "      <td>0.227056</td>\n",
       "    </tr>\n",
       "    <tr>\n",
       "      <th>9</th>\n",
       "      <td>1999</td>\n",
       "      <td>4890</td>\n",
       "      <td>882</td>\n",
       "      <td>0.180368</td>\n",
       "    </tr>\n",
       "    <tr>\n",
       "      <th>10</th>\n",
       "      <td>2000</td>\n",
       "      <td>5656</td>\n",
       "      <td>931</td>\n",
       "      <td>0.164604</td>\n",
       "    </tr>\n",
       "    <tr>\n",
       "      <th>11</th>\n",
       "      <td>2001</td>\n",
       "      <td>5392</td>\n",
       "      <td>805</td>\n",
       "      <td>0.149295</td>\n",
       "    </tr>\n",
       "    <tr>\n",
       "      <th>12</th>\n",
       "      <td>2002</td>\n",
       "      <td>5722</td>\n",
       "      <td>817</td>\n",
       "      <td>0.142782</td>\n",
       "    </tr>\n",
       "    <tr>\n",
       "      <th>13</th>\n",
       "      <td>2003</td>\n",
       "      <td>5998</td>\n",
       "      <td>822</td>\n",
       "      <td>0.137046</td>\n",
       "    </tr>\n",
       "    <tr>\n",
       "      <th>14</th>\n",
       "      <td>2004</td>\n",
       "      <td>6583</td>\n",
       "      <td>791</td>\n",
       "      <td>0.120158</td>\n",
       "    </tr>\n",
       "    <tr>\n",
       "      <th>15</th>\n",
       "      <td>2005</td>\n",
       "      <td>6929</td>\n",
       "      <td>772</td>\n",
       "      <td>0.111416</td>\n",
       "    </tr>\n",
       "    <tr>\n",
       "      <th>16</th>\n",
       "      <td>2006</td>\n",
       "      <td>6764</td>\n",
       "      <td>733</td>\n",
       "      <td>0.108368</td>\n",
       "    </tr>\n",
       "    <tr>\n",
       "      <th>17</th>\n",
       "      <td>2007</td>\n",
       "      <td>6882</td>\n",
       "      <td>731</td>\n",
       "      <td>0.106219</td>\n",
       "    </tr>\n",
       "    <tr>\n",
       "      <th>18</th>\n",
       "      <td>2008</td>\n",
       "      <td>6414</td>\n",
       "      <td>672</td>\n",
       "      <td>0.104771</td>\n",
       "    </tr>\n",
       "    <tr>\n",
       "      <th>19</th>\n",
       "      <td>2009</td>\n",
       "      <td>8652</td>\n",
       "      <td>775</td>\n",
       "      <td>0.089575</td>\n",
       "    </tr>\n",
       "    <tr>\n",
       "      <th>20</th>\n",
       "      <td>2010</td>\n",
       "      <td>8371</td>\n",
       "      <td>755</td>\n",
       "      <td>0.090192</td>\n",
       "    </tr>\n",
       "    <tr>\n",
       "      <th>21</th>\n",
       "      <td>2011</td>\n",
       "      <td>8497</td>\n",
       "      <td>678</td>\n",
       "      <td>0.079793</td>\n",
       "    </tr>\n",
       "    <tr>\n",
       "      <th>22</th>\n",
       "      <td>2012</td>\n",
       "      <td>9121</td>\n",
       "      <td>797</td>\n",
       "      <td>0.087381</td>\n",
       "    </tr>\n",
       "    <tr>\n",
       "      <th>23</th>\n",
       "      <td>2013</td>\n",
       "      <td>9183</td>\n",
       "      <td>778</td>\n",
       "      <td>0.084722</td>\n",
       "    </tr>\n",
       "    <tr>\n",
       "      <th>24</th>\n",
       "      <td>2014</td>\n",
       "      <td>11298</td>\n",
       "      <td>708</td>\n",
       "      <td>0.062666</td>\n",
       "    </tr>\n",
       "    <tr>\n",
       "      <th>25</th>\n",
       "      <td>2015</td>\n",
       "      <td>11039</td>\n",
       "      <td>699</td>\n",
       "      <td>0.063321</td>\n",
       "    </tr>\n",
       "    <tr>\n",
       "      <th>26</th>\n",
       "      <td>2016</td>\n",
       "      <td>10481</td>\n",
       "      <td>676</td>\n",
       "      <td>0.064498</td>\n",
       "    </tr>\n",
       "    <tr>\n",
       "      <th>27</th>\n",
       "      <td>2017</td>\n",
       "      <td>11186</td>\n",
       "      <td>778</td>\n",
       "      <td>0.069551</td>\n",
       "    </tr>\n",
       "    <tr>\n",
       "      <th>28</th>\n",
       "      <td>2018</td>\n",
       "      <td>12787</td>\n",
       "      <td>820</td>\n",
       "      <td>0.064128</td>\n",
       "    </tr>\n",
       "    <tr>\n",
       "      <th>29</th>\n",
       "      <td>2019</td>\n",
       "      <td>13699</td>\n",
       "      <td>868</td>\n",
       "      <td>0.063362</td>\n",
       "    </tr>\n",
       "    <tr>\n",
       "      <th>30</th>\n",
       "      <td>2021</td>\n",
       "      <td>11866</td>\n",
       "      <td>756</td>\n",
       "      <td>0.063711</td>\n",
       "    </tr>\n",
       "    <tr>\n",
       "      <th>31</th>\n",
       "      <td>2022</td>\n",
       "      <td>12062</td>\n",
       "      <td>690</td>\n",
       "      <td>0.057204</td>\n",
       "    </tr>\n",
       "    <tr>\n",
       "      <th>32</th>\n",
       "      <td>2023</td>\n",
       "      <td>17</td>\n",
       "      <td>3</td>\n",
       "      <td>0.176471</td>\n",
       "    </tr>\n",
       "  </tbody>\n",
       "</table>\n",
       "</div>"
      ],
      "text/plain": [
       "    INCIDENT_YEAR  STR_total  total_damaged  proportion_dmg\n",
       "0            1990       1186            434        0.365936\n",
       "1            1991       1762            462        0.262202\n",
       "2            1992       2050            451        0.220000\n",
       "3            1993       2098            482        0.229743\n",
       "4            1994       2386            600        0.251467\n",
       "5            1995       2592            604        0.233025\n",
       "6            1996       2532            599        0.236572\n",
       "7            1997       3267            731        0.223753\n",
       "8            1998       3356            762        0.227056\n",
       "9            1999       4890            882        0.180368\n",
       "10           2000       5656            931        0.164604\n",
       "11           2001       5392            805        0.149295\n",
       "12           2002       5722            817        0.142782\n",
       "13           2003       5998            822        0.137046\n",
       "14           2004       6583            791        0.120158\n",
       "15           2005       6929            772        0.111416\n",
       "16           2006       6764            733        0.108368\n",
       "17           2007       6882            731        0.106219\n",
       "18           2008       6414            672        0.104771\n",
       "19           2009       8652            775        0.089575\n",
       "20           2010       8371            755        0.090192\n",
       "21           2011       8497            678        0.079793\n",
       "22           2012       9121            797        0.087381\n",
       "23           2013       9183            778        0.084722\n",
       "24           2014      11298            708        0.062666\n",
       "25           2015      11039            699        0.063321\n",
       "26           2016      10481            676        0.064498\n",
       "27           2017      11186            778        0.069551\n",
       "28           2018      12787            820        0.064128\n",
       "29           2019      13699            868        0.063362\n",
       "30           2021      11866            756        0.063711\n",
       "31           2022      12062            690        0.057204\n",
       "32           2023         17              3        0.176471"
      ]
     },
     "execution_count": 85,
     "metadata": {},
     "output_type": "execute_result"
    }
   ],
   "source": [
    "grp_total = new_df.groupby('INCIDENT_YEAR',as_index=False).agg({'STR_total':'sum','total_damaged':'sum'})\n",
    "grp_total['proportion_dmg'] = grp_total['total_damaged']/grp_total['STR_total']\n",
    "grp_total"
   ]
  },
  {
   "cell_type": "code",
   "execution_count": 86,
   "id": "15b8fe5b",
   "metadata": {
    "execution": {
     "iopub.execute_input": "2023-07-26T07:17:29.296377Z",
     "iopub.status.busy": "2023-07-26T07:17:29.295369Z",
     "iopub.status.idle": "2023-07-26T07:17:29.870737Z",
     "shell.execute_reply": "2023-07-26T07:17:29.869572Z"
    },
    "papermill": {
     "duration": 0.615887,
     "end_time": "2023-07-26T07:17:29.873032",
     "exception": false,
     "start_time": "2023-07-26T07:17:29.257145",
     "status": "completed"
    },
    "tags": []
   },
   "outputs": [
    {
     "data": {
      "text/plain": [
       "<Axes: xlabel='INCIDENT_YEAR', ylabel='proportion_dmg'>"
      ]
     },
     "execution_count": 86,
     "metadata": {},
     "output_type": "execute_result"
    },
    {
     "data": {
      "image/png": "[encoded data removed]",
      "text/plain": [
       "<Figure size 2600x600 with 1 Axes>"
      ]
     },
     "metadata": {},
     "output_type": "display_data"
    }
   ],
   "source": [
    "plt.figure(figsize =(26,6))\n",
    "sns.barplot(data=grp_total,x='INCIDENT_YEAR',y='proportion_dmg')"
   ]
  },
  {
   "cell_type": "code",
   "execution_count": 87,
   "id": "0b858c4a",
   "metadata": {
    "execution": {
     "iopub.execute_input": "2023-07-26T07:17:29.950570Z",
     "iopub.status.busy": "2023-07-26T07:17:29.949617Z",
     "iopub.status.idle": "2023-07-26T07:17:30.199086Z",
     "shell.execute_reply": "2023-07-26T07:17:30.197942Z"
    },
    "papermill": {
     "duration": 0.290564,
     "end_time": "2023-07-26T07:17:30.201380",
     "exception": false,
     "start_time": "2023-07-26T07:17:29.910816",
     "status": "completed"
    },
    "tags": []
   },
   "outputs": [
    {
     "data": {
      "text/plain": [
       "<Axes: xlabel='proportion_dmg', ylabel='Density'>"
      ]
     },
     "execution_count": 87,
     "metadata": {},
     "output_type": "execute_result"
    },
    {
     "data": {
      "image/png": "[encoded data removed]",
      "text/plain": [
       "<Figure size 640x480 with 1 Axes>"
      ]
     },
     "metadata": {},
     "output_type": "display_data"
    }
   ],
   "source": [
    "sns.kdeplot(data=grp_total,x='proportion_dmg')"
   ]
  },
  {
   "cell_type": "markdown",
   "id": "7916b83a",
   "metadata": {
    "papermill": {
     "duration": 0.03737,
     "end_time": "2023-07-26T07:17:30.276706",
     "exception": false,
     "start_time": "2023-07-26T07:17:30.239336",
     "status": "completed"
    },
    "tags": []
   },
   "source": [
    "#### T-test"
   ]
  },
  {
   "cell_type": "markdown",
   "id": "4c8b1993",
   "metadata": {
    "id": "a90b8a67-ab94-49e0-b1e3-4b8caea0ed80",
    "papermill": {
     "duration": 0.037788,
     "end_time": "2023-07-26T07:17:30.352314",
     "exception": false,
     "start_time": "2023-07-26T07:17:30.314526",
     "status": "completed"
    },
    "tags": []
   },
   "source": [
    "#### Task 7.5 \n",
    "\n",
    "Apply the test you suggested in the previous task."
   ]
  },
  {
   "cell_type": "code",
   "execution_count": 88,
   "id": "24a5f5e0",
   "metadata": {
    "execution": {
     "iopub.execute_input": "2023-07-26T07:17:30.432652Z",
     "iopub.status.busy": "2023-07-26T07:17:30.431899Z",
     "iopub.status.idle": "2023-07-26T07:17:30.439283Z",
     "shell.execute_reply": "2023-07-26T07:17:30.438461Z"
    },
    "id": "8ead0a04-c284-4541-8b24-5132df2d810a",
    "papermill": {
     "duration": 0.049501,
     "end_time": "2023-07-26T07:17:30.441351",
     "exception": false,
     "start_time": "2023-07-26T07:17:30.391850",
     "status": "completed"
    },
    "tags": []
   },
   "outputs": [
    {
     "data": {
      "text/plain": [
       "Ttest_1sampResult(statistic=0.15918306281031386, pvalue=0.8745251020215477)"
      ]
     },
     "execution_count": 88,
     "metadata": {},
     "output_type": "execute_result"
    }
   ],
   "source": [
    "ttest_1samp(grp_total['proportion_dmg'], popmean=0.14)  #popmean = grp_total['proportion_dmg'].mean()"
   ]
  },
  {
   "cell_type": "markdown",
   "id": "06fa4bc8",
   "metadata": {
    "id": "e4cc2a3d-25c7-49db-9376-faafb4e1b100",
    "papermill": {
     "duration": 0.038923,
     "end_time": "2023-07-26T07:17:30.518522",
     "exception": false,
     "start_time": "2023-07-26T07:17:30.479599",
     "status": "completed"
    },
    "tags": []
   },
   "source": [
    "#### Task 7.6 \n",
    "\n",
    "Briefly interpret the results. "
   ]
  },
  {
   "cell_type": "markdown",
   "id": "9b5cf32d",
   "metadata": {
    "papermill": {
     "duration": 0.038572,
     "end_time": "2023-07-26T07:17:30.595905",
     "exception": false,
     "start_time": "2023-07-26T07:17:30.557333",
     "status": "completed"
    },
    "tags": []
   },
   "source": [
    "#### statistic=-26.34377494046113, pvalue=2.901621745837676e-23\n",
    "\n",
    "#### As you can see statistic value is less than pvalue so here we can conclude \n",
    "\n",
    "#### H0!=HA (Reject Null Hypothsis (H0))"
   ]
  },
  {
   "cell_type": "code",
   "execution_count": null,
   "id": "95ef42ae",
   "metadata": {
    "id": "42bac2d9-41c0-4cef-9aee-681900fc9ed4",
    "papermill": {
     "duration": 0.040008,
     "end_time": "2023-07-26T07:17:30.674836",
     "exception": false,
     "start_time": "2023-07-26T07:17:30.634828",
     "status": "completed"
    },
    "tags": []
   },
   "outputs": [],
   "source": []
  },
  {
   "cell_type": "markdown",
   "id": "573c49f1",
   "metadata": {
    "id": "1f9f802d-d85c-4fd6-981a-5a2682870a38",
    "jp-MarkdownHeadingCollapsed": true,
    "papermill": {
     "duration": 0.037842,
     "end_time": "2023-07-26T07:17:30.752159",
     "exception": false,
     "start_time": "2023-07-26T07:17:30.714317",
     "status": "completed"
    },
    "tags": []
   },
   "source": [
    "## Task 8 - Web scraping "
   ]
  },
  {
   "cell_type": "markdown",
   "id": "3fb7d384",
   "metadata": {
    "id": "e6de8b9e-72eb-423c-81c1-413edb6ec12b",
    "papermill": {
     "duration": 0.038082,
     "end_time": "2023-07-26T07:17:30.828979",
     "exception": false,
     "start_time": "2023-07-26T07:17:30.790897",
     "status": "completed"
    },
    "tags": []
   },
   "source": [
    "#### Task 8.1 \n",
    "How much do airplanes cost on ebay?\n",
    "\n",
    "Analyze this link: https://www.ebay.com/sch/i.html?_from=R40&_trksid=p2334524.m570.l1313&_nkw=airplanes&_sacat=0&LH_TitleDesc=0&_odkw=planes&_osacat=0&_sop=12&LH_PrefLoc=2\n",
    "\n",
    "Create a list of the **names** of all items sold on this page. No need to scroll to the next pages. \n"
   ]
  },
  {
   "cell_type": "code",
   "execution_count": 89,
   "id": "77dbe8ea",
   "metadata": {
    "execution": {
     "iopub.execute_input": "2023-07-26T07:17:30.906999Z",
     "iopub.status.busy": "2023-07-26T07:17:30.906605Z",
     "iopub.status.idle": "2023-07-26T07:17:31.247939Z",
     "shell.execute_reply": "2023-07-26T07:17:31.247019Z"
    },
    "id": "b035c48a-dbbb-46c9-bfe7-d406891ec154",
    "papermill": {
     "duration": 0.383228,
     "end_time": "2023-07-26T07:17:31.250338",
     "exception": false,
     "start_time": "2023-07-26T07:17:30.867110",
     "status": "completed"
    },
    "tags": []
   },
   "outputs": [],
   "source": [
    "import requests\n",
    "from bs4 import BeautifulSoup as bs "
   ]
  },
  {
   "cell_type": "code",
   "execution_count": 90,
   "id": "89191b26",
   "metadata": {
    "execution": {
     "iopub.execute_input": "2023-07-26T07:17:31.330071Z",
     "iopub.status.busy": "2023-07-26T07:17:31.328397Z",
     "iopub.status.idle": "2023-07-26T07:17:32.785670Z",
     "shell.execute_reply": "2023-07-26T07:17:32.784557Z"
    },
    "id": "29dcf659-e5c1-47e7-b9ea-981285743309",
    "papermill": {
     "duration": 1.499131,
     "end_time": "2023-07-26T07:17:32.787879",
     "exception": false,
     "start_time": "2023-07-26T07:17:31.288748",
     "status": "completed"
    },
    "tags": []
   },
   "outputs": [
    {
     "data": {
      "text/plain": [
       "200"
      ]
     },
     "execution_count": 90,
     "metadata": {},
     "output_type": "execute_result"
    }
   ],
   "source": [
    "url = ' https://www.ebay.com/sch/i.html?_from=R40&_trksid=p2334524.m570.l1313&_nkw=airplanes&_sacat=0&LH_TitleDesc=0&_odkw=planes&_osacat=0&_sop=12&LH_PrefLoc=2'\n",
    "\n",
    "response = requests.get(url)\n",
    "response.status_code"
   ]
  },
  {
   "cell_type": "code",
   "execution_count": 91,
   "id": "28a25cd6",
   "metadata": {
    "execution": {
     "iopub.execute_input": "2023-07-26T07:17:32.867039Z",
     "iopub.status.busy": "2023-07-26T07:17:32.866294Z",
     "iopub.status.idle": "2023-07-26T07:17:33.093000Z",
     "shell.execute_reply": "2023-07-26T07:17:33.091860Z"
    },
    "papermill": {
     "duration": 0.268188,
     "end_time": "2023-07-26T07:17:33.095093",
     "exception": false,
     "start_time": "2023-07-26T07:17:32.826905",
     "status": "completed"
    },
    "tags": []
   },
   "outputs": [
    {
     "data": {
      "text/plain": [
       "['Parkten WLtoys F949 2.4G 3CH Cessna 182 Rc Airplane RTF Outdoor 14+ Gift',\n",
       " 'MiB *Cessna RC Trainer* Foam R/C Airplane ARF by COX w/36\" WS..w/3 Engines..C@@L',\n",
       " '2.4G Radio Remote Control Airplane J3 Piper Cub Plane Beginner Glider',\n",
       " 'RC Airplanes F22 Jet Remote Control Fighter Night Flight RTF 2.4gHz Plane Model',\n",
       " 'model airplane- 1/72-   A 10 Warthog',\n",
       " 'Special Hobby 1/32 U.S. Air Force / NASA X-15A-2 Model Airplane  Kit',\n",
       " 'Profile Publications Aircraft - #1 to #204 single issues (as of 07/12/2023)',\n",
       " '1/100 Scale Macchi MC.205 Veltro Static Display Model Italy Airplane Collection',\n",
       " 'MONOGRAM REPUBLIC F-84F 5437  1/48TH SCALE  Open Box',\n",
       " 'RC RADIO REMOTE CONTROLLED 2.4G J3 PLANE AIRPLANE AEROPLANE AIRCRAFT 2 batteries',\n",
       " '60 ITALERI MIRAGE 2000 D WITH LBGs OPERATION EXTERIEURES 2011 1:48 MODEL # 2707',\n",
       " 'RC SU 57 Radio Controlled Airplane Light Hand Throwing Foam Plane Fixed Wing',\n",
       " '3 Lighted Foam Airplanes with Launcher Gun',\n",
       " 'Alloy Diecast Plane Model Airplane Model Alloy Qatar 777 Passenger',\n",
       " 'Airplane Plane Bomber Model Construction Toys Military Panzer Tank WW2 Aircraft',\n",
       " '8 LED Chaser - Strobe & Flash Effects - Speed controll - 8x 3mm LEDs HK9925C',\n",
       " 'WEST EUROTECH 36T2 2 STROKE RC AERO ENGINE WITH EXHAUST STAND OFF GOOD CONDITION',\n",
       " '1/72 T-1A Jayhawk  - SOVA-M New  72042 !',\n",
       " 'Sterling Models Piper Cub Airplane J-3 54\" Wingspan Kit FS-6 Decals Complete?',\n",
       " '1/72 Sova-M 72042 T-1A \"Jayhawk\" jet trainer (USAF)  plastic kit',\n",
       " 'Vintage Sig Liberty Sport Bipe R/C Airplane Kit NOS',\n",
       " 'F-RSIN ATR72 Azul Model Kit Scale 1/144',\n",
       " 'Model aircraft berth jig stand holder plane 1/48 1/72 1/144 kit building MPB1',\n",
       " 'Revell #4024 LTV A-7A Corsair II US Attack Jet Fighter 1/100 Scale Model Kit',\n",
       " 'Decals  1/48,  Israel & Egypt & Syrian  AF',\n",
       " '1:32 Kit Vintage 1969 Revell No. H-296 REPUBLIC P-47D THUNDERBOLT - NEW',\n",
       " '1/72 FROG Vintage Model Aircraft kits planes LARGE COLLECTION choose models',\n",
       " 'Lot Of 6 Vintage Military Airplane Model Kits Unused Complete Revell, Monogram,',\n",
       " 'Large Luggage Silicone Baggage Tags Label letter Name Address ID Suitcase  UK',\n",
       " 'Petwear, Strollers, Toys, Vehicles',\n",
       " \"6 Pack Children's Character Buttons, Baby Buttons, 15mm, Lots OF Bright Designs\",\n",
       " '1/144 Scale OTAKI Vintage Model Aircraft Kits Choose Models Planes Ohtaki Japan',\n",
       " '\"Mitsubishi F1M Reconnaissance Floatplane\"  Famous Airplanes Of The World No.136',\n",
       " 'Top RC WWII Gyro Stablised Ready To Fly RC Plane, Complete W/Handset, Bat, Crgr',\n",
       " 'Premium Hobbies F-14A \"VF-142 Ghostriders\" 1:72 Plastic Model Airplane Kit 125V',\n",
       " 'Hobby Zone Hobbyzone Carbon Cub S2 1.3M RTF Ready To Fly SAFE Technology',\n",
       " 'RC Plane C-17 RC Model Jet Fighter Remote Control Aircraft RC Airplane',\n",
       " 'TAKARA Ships of the World 1/700 1966 SOVIET RUSSIA KM REAR ENGINE airplane model',\n",
       " 'Airplane Watch',\n",
       " '\"Pilot Call Signs\" Metal Sign Epic Flight Academy Military Airplane Wall Decor',\n",
       " '1/24 Scale 24 inch wingspan DeHavilland Beaver Floatplane Model Canadian Mist\\xa0',\n",
       " 'HobbyZone Sport Cub S 2 BNF Basic Electric Airplane w/SAFE (616mm) [HBZ44500]',\n",
       " 'Trumpeter 02406 1/24 Messerschmitt Bf109 G-2',\n",
       " 'Decals  1/48, MIG-15 ,,Fagot\"',\n",
       " 'KP Models 0237 1/72 Cessna C-180 (U-17) Military plastic kit',\n",
       " 'Vintage Matchbox PK-503 Douglass Dauntless SBD-5 Model Airplane Kit ~ NOS ~ #30',\n",
       " 'Seagull Cessna 182 Turbo Skylane (69\") ARTF RC Model Plane',\n",
       " 'Curtiss SC-1 Seahawk Floatplane (1/72 model kit, Smer 0866)',\n",
       " 'F-toys 1/144 Grumman F-14A TOMCAT Islamic 73rd TFS Imperial Iranian Air Force #5',\n",
       " '1:32 ITALERI Macchi Mc.202 Folgore Airplane Wwii Italia 1940 Kit IT2518 Model',\n",
       " '1/144 Douglas C-47D  Spooky USAF GUNSHIP VIETNAM WAR CafeReo BIG BIRD 4. (3B)',\n",
       " 'Plane Kids Gifts Foam Aeroplane Hand Throw Airplane Foam Gliders Fly Aeromodelo',\n",
       " 'REVELL  USCG C-130  FREE SHIPPING !!!!!!!!!!!',\n",
       " 'Airfix North American B-25 Mitchell Mk.II 1:72 Scale Model Airplane A06018',\n",
       " 'Academy Hobby 12528 USAAF B-29A Enola Gay & Bockscar 1/72',\n",
       " '1/72 Model Kit Douglas TBD-1 Devastator Air Combat Collection MPC Bagged Kit',\n",
       " 'InAir E-Z Build Model Kit - YF-23 Black Widow - 1:72 Scale',\n",
       " 'DeAGOSTINI WW2 Aircraft Collection #29 Kawasaki Ki45 Toryu 1/72 model unopend',\n",
       " 'Handley Page HP.42W (3D fabricated 1/72 kit) ',\n",
       " \"Airfix Vintage Classics Aichi D3A1 'Val' 1:72 Scale Model Airplane Kit A02014V\",\n",
       " 'TOP BF109 2.4G 4CH Fighter RC Airplanes Remote 6-Axis Brown RTF Aerobatic Glider',\n",
       " 'Academy Hobby 12620 USAF B-1B 34th BS \"Thunderbirds\" 1/144',\n",
       " 'Revell Airbus A320neo British Airways Aircraft Model Kit Set 63840 Scale 1:144',\n",
       " 'Model Makers Aircraft Stand Berth Jig Holder Plane 1/48 1/72 1/144 Kit Builder',\n",
       " 'RAAF and Nationalist Chinese P-40s. 1/32nd scale (V3283)',\n",
       " '1/144 H6-K , C-130 plane,8pcs Small Air Force Fighter KITS!4D UNASSEMBLED!NO BOX',\n",
       " 'SWORD 1/72 SW72140 F-3B/C Demon plastic kit',\n",
       " 'BPK 7230 1/72 Bayraktar TB.2  plastic kits',\n",
       " 'New! Mach 2 GP.111TWA TWA (Trans World Airlines) Boeing 727-200 - 1:72 scale kit',\n",
       " 'Eachine P-47 Thunderbolt 400mm Wingspan RC Warbird With Two Batteries AU Stock',\n",
       " 'Erickson Air-Crane Sikorsky S-64E. Airplane Repro Print on Canvas or Paper']"
      ]
     },
     "execution_count": 91,
     "metadata": {},
     "output_type": "execute_result"
    }
   ],
   "source": [
    "title_list = []\n",
    "soup = bs(response.text)\n",
    "all_title = soup.find_all('div', class_='s-item__title')[1:]\n",
    "for i in all_title:\n",
    "    title_list.append(i.text)\n",
    "    \n",
    "title_list"
   ]
  },
  {
   "cell_type": "markdown",
   "id": "c39244bb",
   "metadata": {
    "id": "b598ec93-f552-4ff4-9557-5a5f9ee6ab2a",
    "papermill": {
     "duration": 0.038201,
     "end_time": "2023-07-26T07:17:33.172100",
     "exception": false,
     "start_time": "2023-07-26T07:17:33.133899",
     "status": "completed"
    },
    "tags": []
   },
   "source": [
    "#### Task 8.2 \n",
    "\n",
    "Create a list of all the **item prices** sold on this page. Again, focus only on this first page of results. "
   ]
  },
  {
   "cell_type": "code",
   "execution_count": 92,
   "id": "b3a8bc33",
   "metadata": {
    "execution": {
     "iopub.execute_input": "2023-07-26T07:17:33.250999Z",
     "iopub.status.busy": "2023-07-26T07:17:33.250630Z",
     "iopub.status.idle": "2023-07-26T07:17:33.285630Z",
     "shell.execute_reply": "2023-07-26T07:17:33.284554Z"
    },
    "papermill": {
     "duration": 0.076934,
     "end_time": "2023-07-26T07:17:33.287936",
     "exception": false,
     "start_time": "2023-07-26T07:17:33.211002",
     "status": "completed"
    },
    "tags": []
   },
   "outputs": [
    {
     "data": {
      "text/plain": [
       "['NT$ 2,192',\n",
       " 'NT$ 2,850',\n",
       " 'NT$ 1,206',\n",
       " 'NT$ 942',\n",
       " 'NT$ 626',\n",
       " 'NT$ 2,126',\n",
       " 'NT$ 122',\n",
       " 'NT$ 470',\n",
       " 'NT$ 94',\n",
       " 'NT$ 1,328',\n",
       " 'NT$ 1,065',\n",
       " 'NT$ 842 to NT$ 1,440',\n",
       " 'NT$ 157',\n",
       " 'NT$ 463',\n",
       " 'NT$ 80 to NT$ 826',\n",
       " 'NT$ 523',\n",
       " 'NT$ 0',\n",
       " 'NT$ 940',\n",
       " 'NT$ 939',\n",
       " 'NT$ 1,157',\n",
       " 'NT$ 6,264',\n",
       " 'NT$ 783',\n",
       " 'NT$ 966',\n",
       " 'NT$ 188',\n",
       " 'NT$ 564',\n",
       " 'NT$ 783',\n",
       " 'NT$ 483 to NT$ 3,986',\n",
       " 'NT$ 1,409',\n",
       " 'NT$ 64 to NT$ 76',\n",
       " 'NT$ 31 to NT$ 861',\n",
       " 'NT$ 88',\n",
       " 'NT$ 725',\n",
       " 'NT$ 620',\n",
       " 'NT$ 3,321 to NT$ 3,501',\n",
       " 'NT$ 626',\n",
       " 'NT$ 10,961',\n",
       " 'NT$ 1,328 to NT$ 1,731',\n",
       " 'NT$ 1,237',\n",
       " 'NT$ 1,722',\n",
       " 'NT$ 1,096',\n",
       " 'NT$ 1,722',\n",
       " 'NT$ 3,758',\n",
       " 'NT$ 1,771',\n",
       " 'NT$ 362',\n",
       " 'NT$ 562',\n",
       " 'NT$ 1,879',\n",
       " 'NT$ 11,895',\n",
       " 'NT$ 374',\n",
       " 'NT$ 498',\n",
       " 'NT$ 2,929',\n",
       " 'NT$ 2,815',\n",
       " 'NT$ 190 to NT$ 217',\n",
       " 'NT$ 939',\n",
       " 'NT$ 720',\n",
       " 'NT$ 1,177',\n",
       " 'NT$ 282',\n",
       " 'NT$ 687',\n",
       " 'NT$ 2,035',\n",
       " 'NT$ 3,132',\n",
       " 'NT$ 376',\n",
       " 'NT$ 3,091',\n",
       " 'NT$ 1,118',\n",
       " 'NT$ 889',\n",
       " 'NT$ 966',\n",
       " 'NT$ 470',\n",
       " 'NT$ 250 to NT$ 360',\n",
       " 'NT$ 781',\n",
       " 'NT$ 875',\n",
       " 'NT$ 3,129',\n",
       " 'NT$ 3,362 to NT$ 3,554',\n",
       " 'NT$ 708 to NT$ 1,896']"
      ]
     },
     "execution_count": 92,
     "metadata": {},
     "output_type": "execute_result"
    }
   ],
   "source": [
    "price_list=[]\n",
    "all_price = soup.find_all('span', class_='s-item__price')[1:]\n",
    "for i in all_price:\n",
    "    price_list.append(i.text)\n",
    "    \n",
    "price_list"
   ]
  },
  {
   "cell_type": "markdown",
   "id": "5dafff0f",
   "metadata": {
    "id": "7f308e60-87ed-49ba-b19c-da7b7252cd7b",
    "papermill": {
     "duration": 0.039598,
     "end_time": "2023-07-26T07:17:33.366541",
     "exception": false,
     "start_time": "2023-07-26T07:17:33.326943",
     "status": "completed"
    },
    "tags": []
   },
   "source": [
    "#### Task 8.3 \n",
    "\n",
    "Combine both lists into a dataframe and print the dataframe. It should show the item names and prices. "
   ]
  },
  {
   "cell_type": "code",
   "execution_count": 93,
   "id": "cbd36ded",
   "metadata": {
    "execution": {
     "iopub.execute_input": "2023-07-26T07:17:33.447335Z",
     "iopub.status.busy": "2023-07-26T07:17:33.446962Z",
     "iopub.status.idle": "2023-07-26T07:17:33.453963Z",
     "shell.execute_reply": "2023-07-26T07:17:33.452856Z"
    },
    "id": "f55d76ea-94a4-4fd0-bfe2-883433660b0d",
    "papermill": {
     "duration": 0.049671,
     "end_time": "2023-07-26T07:17:33.456078",
     "exception": false,
     "start_time": "2023-07-26T07:17:33.406407",
     "status": "completed"
    },
    "tags": []
   },
   "outputs": [],
   "source": [
    "shop_df = pd.DataFrame(title_list, columns=['Name'])\n",
    "shop_df['Price_NT$']=price_list\n",
    "shop_df['Price_NT$'].replace(r'\\$','',regex=True, inplace = True)"
   ]
  },
  {
   "cell_type": "code",
   "execution_count": 94,
   "id": "989e4976",
   "metadata": {
    "execution": {
     "iopub.execute_input": "2023-07-26T07:17:33.536407Z",
     "iopub.status.busy": "2023-07-26T07:17:33.535258Z",
     "iopub.status.idle": "2023-07-26T07:17:33.547108Z",
     "shell.execute_reply": "2023-07-26T07:17:33.546041Z"
    },
    "papermill": {
     "duration": 0.053786,
     "end_time": "2023-07-26T07:17:33.549127",
     "exception": false,
     "start_time": "2023-07-26T07:17:33.495341",
     "status": "completed"
    },
    "tags": []
   },
   "outputs": [
    {
     "data": {
      "text/html": [
       "<div>\n",
       "<style scoped>\n",
       "    .dataframe tbody tr th:only-of-type {\n",
       "        vertical-align: middle;\n",
       "    }\n",
       "\n",
       "    .dataframe tbody tr th {\n",
       "        vertical-align: top;\n",
       "    }\n",
       "\n",
       "    .dataframe thead th {\n",
       "        text-align: right;\n",
       "    }\n",
       "</style>\n",
       "<table border=\"1\" class=\"dataframe\">\n",
       "  <thead>\n",
       "    <tr style=\"text-align: right;\">\n",
       "      <th></th>\n",
       "      <th>Name</th>\n",
       "      <th>Price_NT$</th>\n",
       "    </tr>\n",
       "  </thead>\n",
       "  <tbody>\n",
       "    <tr>\n",
       "      <th>0</th>\n",
       "      <td>Parkten WLtoys F949 2.4G 3CH Cessna 182 Rc Air...</td>\n",
       "      <td>NT 2,192</td>\n",
       "    </tr>\n",
       "    <tr>\n",
       "      <th>1</th>\n",
       "      <td>MiB *Cessna RC Trainer* Foam R/C Airplane ARF ...</td>\n",
       "      <td>NT 2,850</td>\n",
       "    </tr>\n",
       "    <tr>\n",
       "      <th>2</th>\n",
       "      <td>2.4G Radio Remote Control Airplane J3 Piper Cu...</td>\n",
       "      <td>NT 1,206</td>\n",
       "    </tr>\n",
       "    <tr>\n",
       "      <th>3</th>\n",
       "      <td>RC Airplanes F22 Jet Remote Control Fighter Ni...</td>\n",
       "      <td>NT 942</td>\n",
       "    </tr>\n",
       "    <tr>\n",
       "      <th>4</th>\n",
       "      <td>model airplane- 1/72-   A 10 Warthog</td>\n",
       "      <td>NT 626</td>\n",
       "    </tr>\n",
       "    <tr>\n",
       "      <th>...</th>\n",
       "      <td>...</td>\n",
       "      <td>...</td>\n",
       "    </tr>\n",
       "    <tr>\n",
       "      <th>66</th>\n",
       "      <td>SWORD 1/72 SW72140 F-3B/C Demon plastic kit</td>\n",
       "      <td>NT 781</td>\n",
       "    </tr>\n",
       "    <tr>\n",
       "      <th>67</th>\n",
       "      <td>BPK 7230 1/72 Bayraktar TB.2  plastic kits</td>\n",
       "      <td>NT 875</td>\n",
       "    </tr>\n",
       "    <tr>\n",
       "      <th>68</th>\n",
       "      <td>New! Mach 2 GP.111TWA TWA (Trans World Airline...</td>\n",
       "      <td>NT 3,129</td>\n",
       "    </tr>\n",
       "    <tr>\n",
       "      <th>69</th>\n",
       "      <td>Eachine P-47 Thunderbolt 400mm Wingspan RC War...</td>\n",
       "      <td>NT 3,362 to NT 3,554</td>\n",
       "    </tr>\n",
       "    <tr>\n",
       "      <th>70</th>\n",
       "      <td>Erickson Air-Crane Sikorsky S-64E. Airplane Re...</td>\n",
       "      <td>NT 708 to NT 1,896</td>\n",
       "    </tr>\n",
       "  </tbody>\n",
       "</table>\n",
       "<p>71 rows × 2 columns</p>\n",
       "</div>"
      ],
      "text/plain": [
       "                                                 Name             Price_NT$\n",
       "0   Parkten WLtoys F949 2.4G 3CH Cessna 182 Rc Air...              NT 2,192\n",
       "1   MiB *Cessna RC Trainer* Foam R/C Airplane ARF ...              NT 2,850\n",
       "2   2.4G Radio Remote Control Airplane J3 Piper Cu...              NT 1,206\n",
       "3   RC Airplanes F22 Jet Remote Control Fighter Ni...                NT 942\n",
       "4                model airplane- 1/72-   A 10 Warthog                NT 626\n",
       "..                                                ...                   ...\n",
       "66        SWORD 1/72 SW72140 F-3B/C Demon plastic kit                NT 781\n",
       "67         BPK 7230 1/72 Bayraktar TB.2  plastic kits                NT 875\n",
       "68  New! Mach 2 GP.111TWA TWA (Trans World Airline...              NT 3,129\n",
       "69  Eachine P-47 Thunderbolt 400mm Wingspan RC War...  NT 3,362 to NT 3,554\n",
       "70  Erickson Air-Crane Sikorsky S-64E. Airplane Re...    NT 708 to NT 1,896\n",
       "\n",
       "[71 rows x 2 columns]"
      ]
     },
     "execution_count": 94,
     "metadata": {},
     "output_type": "execute_result"
    }
   ],
   "source": [
    "shop_df"
   ]
  },
  {
   "cell_type": "code",
   "execution_count": null,
   "id": "38f27f14",
   "metadata": {
    "papermill": {
     "duration": 0.038488,
     "end_time": "2023-07-26T07:17:33.626944",
     "exception": false,
     "start_time": "2023-07-26T07:17:33.588456",
     "status": "completed"
    },
    "tags": []
   },
   "outputs": [],
   "source": []
  }
 ],
 "metadata": {
  "kernelspec": {
   "display_name": "Python 3",
   "language": "python",
   "name": "python3"
  },
  "language_info": {
   "codemirror_mode": {
    "name": "ipython",
    "version": 3
   },
   "file_extension": ".py",
   "mimetype": "text/x-python",
   "name": "python",
   "nbconvert_exporter": "python",
   "pygments_lexer": "ipython3",
   "version": "3.10.12"
  },
  "papermill": {
   "default_parameters": {},
   "duration": 83.905644,
   "end_time": "2023-07-26T07:17:34.888691",
   "environment_variables": {},
   "exception": null,
   "input_path": "__notebook__.ipynb",
   "output_path": "__notebook__.ipynb",
   "parameters": {},
   "start_time": "2023-07-26T07:16:10.983047",
   "version": "2.4.0"
  }
 },
 "nbformat": 4,
 "nbformat_minor": 5
}
