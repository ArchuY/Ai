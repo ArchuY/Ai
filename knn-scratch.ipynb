{
 "cells": [
  {
   "cell_type": "markdown",
   "id": "9de3644a",
   "metadata": {
    "papermill": {
     "duration": 0.004525,
     "end_time": "2023-07-28T17:08:24.721806",
     "exception": false,
     "start_time": "2023-07-28T17:08:24.717281",
     "status": "completed"
    },
    "tags": []
   },
   "source": [
    "### Distance formula\n",
    "1. Euclidean Formula(((x0−x1)\\*\\*2)+((y0−y1)\\*\\*2))\\*\\*0.5\n",
    "2. Manhattan Distance: |(x0−x1)|+|(y0−y1)|\n",
    "\n",
    "3. Minkowski Distance: ∑ni=1(|Xi−Yi|\\*\\*p)\\*\\*1/p\n",
    "\n",
    "\n",
    "### Rules to choose K (integer value, >0)\n",
    "\n",
    "1. Never choose K=1 and K is even number\n",
    "\n",
    "    1.1 If we have K=1: a query point surrounded by different data points then our assumption K=1 might give us wrong results.\n",
    "       \n",
    "\n",
    "    1.2 If K is even, then there are more chances of tie.\n",
    "    \n",
    "\n",
    "2. Never choose K equal to number of classes\n",
    "\n",
    "    K should (generally, not always) be greater than number of classes. A data point equidistance for \n",
    "    all data points from different class can cause a tie.\n",
    "\n",
    "3. Always K is odd >1\n",
    "\n",
    "    In this case we usually make K an odd number to have a tiebreaker.\n",
    "    \n",
    "\n",
    "### Working of KNN¶\n",
    "\n",
    "1. Load the data\n",
    "\n",
    "2. Initialize K to your chosen number of neighbors\n",
    "\n",
    "3. For each example in the data\n",
    "\n",
    "    3.1 Calculate the distance between the query example and the current example from the data.\n",
    "\n",
    "    3.2 Add the distance and the index of the example to an ordered collection.\n",
    "\n",
    "4. Sort the ordered collection of distances and indices from smallest to largest (in ascending order) by the distances.\n",
    "\n",
    "5. Pick the first K entries from the sorted collection.\n",
    "\n",
    "6. Get the labels of the selected K entries\n",
    "\n",
    "7. Return the mode/mean of the K labels\n",
    " \n"
   ]
  },
  {
   "cell_type": "code",
   "execution_count": 1,
   "id": "9c40ecff",
   "metadata": {
    "_cell_guid": "b1076dfc-b9ad-4769-8c92-a6c4dae69d19",
    "_uuid": "8f2839f25d086af736a60e9eeb907d3b93b6e0e5",
    "execution": {
     "iopub.execute_input": "2023-07-28T17:08:24.732386Z",
     "iopub.status.busy": "2023-07-28T17:08:24.731425Z",
     "iopub.status.idle": "2023-07-28T17:08:26.700456Z",
     "shell.execute_reply": "2023-07-28T17:08:26.699155Z"
    },
    "papermill": {
     "duration": 1.977628,
     "end_time": "2023-07-28T17:08:26.703526",
     "exception": false,
     "start_time": "2023-07-28T17:08:24.725898",
     "status": "completed"
    },
    "tags": []
   },
   "outputs": [
    {
     "name": "stderr",
     "output_type": "stream",
     "text": [
      "/opt/conda/lib/python3.10/site-packages/scipy/__init__.py:146: UserWarning: A NumPy version >=1.16.5 and <1.23.0 is required for this version of SciPy (detected version 1.23.5\n",
      "  warnings.warn(f\"A NumPy version >={np_minversion} and <{np_maxversion}\"\n"
     ]
    }
   ],
   "source": [
    "import pandas as pd\n",
    "import numpy as np\n",
    "import matplotlib.pyplot as plt\n",
    "import seaborn as sns\n",
    "from sklearn.neighbors import KNeighborsClassifier\n",
    "\n",
    "%matplotlib inline"
   ]
  },
  {
   "cell_type": "code",
   "execution_count": 2,
   "id": "73642708",
   "metadata": {
    "execution": {
     "iopub.execute_input": "2023-07-28T17:08:26.713359Z",
     "iopub.status.busy": "2023-07-28T17:08:26.712873Z",
     "iopub.status.idle": "2023-07-28T17:08:26.722284Z",
     "shell.execute_reply": "2023-07-28T17:08:26.721010Z"
    },
    "papermill": {
     "duration": 0.017213,
     "end_time": "2023-07-28T17:08:26.724757",
     "exception": false,
     "start_time": "2023-07-28T17:08:26.707544",
     "status": "completed"
    },
    "tags": []
   },
   "outputs": [
    {
     "name": "stdout",
     "output_type": "stream",
     "text": [
      "55.0\n",
      "55\n"
     ]
    }
   ],
   "source": [
    "a = np.arange(1,6)\n",
    "b = np.arange(10,20,2)\n",
    "\n",
    "\n",
    "e = np.sum(((a-b)**2)**0.5)  # Euclidean\n",
    "print(e)\n",
    "\n",
    "m = np.sum(abs(a-b))   ## Manhattan\n",
    "print(m)"
   ]
  },
  {
   "cell_type": "code",
   "execution_count": 3,
   "id": "b607146e",
   "metadata": {
    "execution": {
     "iopub.execute_input": "2023-07-28T17:08:26.734579Z",
     "iopub.status.busy": "2023-07-28T17:08:26.734154Z",
     "iopub.status.idle": "2023-07-28T17:08:26.788579Z",
     "shell.execute_reply": "2023-07-28T17:08:26.787387Z"
    },
    "papermill": {
     "duration": 0.062546,
     "end_time": "2023-07-28T17:08:26.791263",
     "exception": false,
     "start_time": "2023-07-28T17:08:26.728717",
     "status": "completed"
    },
    "tags": []
   },
   "outputs": [
    {
     "data": {
      "text/html": [
       "<div>\n",
       "<style scoped>\n",
       "    .dataframe tbody tr th:only-of-type {\n",
       "        vertical-align: middle;\n",
       "    }\n",
       "\n",
       "    .dataframe tbody tr th {\n",
       "        vertical-align: top;\n",
       "    }\n",
       "\n",
       "    .dataframe thead th {\n",
       "        text-align: right;\n",
       "    }\n",
       "</style>\n",
       "<table border=\"1\" class=\"dataframe\">\n",
       "  <thead>\n",
       "    <tr style=\"text-align: right;\">\n",
       "      <th></th>\n",
       "      <th>sepal_lenght</th>\n",
       "      <th>sepal_width</th>\n",
       "      <th>petal_lenght</th>\n",
       "      <th>petal_width</th>\n",
       "      <th>class</th>\n",
       "    </tr>\n",
       "  </thead>\n",
       "  <tbody>\n",
       "    <tr>\n",
       "      <th>145</th>\n",
       "      <td>6.7</td>\n",
       "      <td>3.0</td>\n",
       "      <td>5.2</td>\n",
       "      <td>2.3</td>\n",
       "      <td>Iris-virginica</td>\n",
       "    </tr>\n",
       "    <tr>\n",
       "      <th>146</th>\n",
       "      <td>6.3</td>\n",
       "      <td>2.5</td>\n",
       "      <td>5.0</td>\n",
       "      <td>1.9</td>\n",
       "      <td>Iris-virginica</td>\n",
       "    </tr>\n",
       "    <tr>\n",
       "      <th>147</th>\n",
       "      <td>6.5</td>\n",
       "      <td>3.0</td>\n",
       "      <td>5.2</td>\n",
       "      <td>2.0</td>\n",
       "      <td>Iris-virginica</td>\n",
       "    </tr>\n",
       "    <tr>\n",
       "      <th>148</th>\n",
       "      <td>6.2</td>\n",
       "      <td>3.4</td>\n",
       "      <td>5.4</td>\n",
       "      <td>2.3</td>\n",
       "      <td>Iris-virginica</td>\n",
       "    </tr>\n",
       "    <tr>\n",
       "      <th>149</th>\n",
       "      <td>5.9</td>\n",
       "      <td>3.0</td>\n",
       "      <td>5.1</td>\n",
       "      <td>1.8</td>\n",
       "      <td>Iris-virginica</td>\n",
       "    </tr>\n",
       "  </tbody>\n",
       "</table>\n",
       "</div>"
      ],
      "text/plain": [
       "     sepal_lenght  sepal_width  petal_lenght  petal_width           class\n",
       "145           6.7          3.0           5.2          2.3  Iris-virginica\n",
       "146           6.3          2.5           5.0          1.9  Iris-virginica\n",
       "147           6.5          3.0           5.2          2.0  Iris-virginica\n",
       "148           6.2          3.4           5.4          2.3  Iris-virginica\n",
       "149           5.9          3.0           5.1          1.8  Iris-virginica"
      ]
     },
     "execution_count": 3,
     "metadata": {},
     "output_type": "execute_result"
    }
   ],
   "source": [
    "iris = pd.read_csv('/kaggle/input/iris-data/iris.csv', index_col=0)\n",
    "iris.tail()"
   ]
  },
  {
   "cell_type": "code",
   "execution_count": 4,
   "id": "d97356f5",
   "metadata": {
    "execution": {
     "iopub.execute_input": "2023-07-28T17:08:26.802616Z",
     "iopub.status.busy": "2023-07-28T17:08:26.801370Z",
     "iopub.status.idle": "2023-07-28T17:08:26.808776Z",
     "shell.execute_reply": "2023-07-28T17:08:26.807669Z"
    },
    "papermill": {
     "duration": 0.015559,
     "end_time": "2023-07-28T17:08:26.811282",
     "exception": false,
     "start_time": "2023-07-28T17:08:26.795723",
     "status": "completed"
    },
    "tags": []
   },
   "outputs": [],
   "source": [
    "X = iris.drop('class', axis=1) # features\n",
    "y = iris['class'] # labels"
   ]
  },
  {
   "cell_type": "code",
   "execution_count": 5,
   "id": "d20faa8f",
   "metadata": {
    "execution": {
     "iopub.execute_input": "2023-07-28T17:08:26.821544Z",
     "iopub.status.busy": "2023-07-28T17:08:26.821160Z",
     "iopub.status.idle": "2023-07-28T17:08:26.828609Z",
     "shell.execute_reply": "2023-07-28T17:08:26.827223Z"
    },
    "papermill": {
     "duration": 0.015378,
     "end_time": "2023-07-28T17:08:26.830879",
     "exception": false,
     "start_time": "2023-07-28T17:08:26.815501",
     "status": "completed"
    },
    "tags": []
   },
   "outputs": [],
   "source": [
    "point = iris.sample(3)   # \n",
    "x1 = point.drop('class',axis=1)\n",
    "y1 = point['class']"
   ]
  },
  {
   "cell_type": "code",
   "execution_count": 6,
   "id": "6c77e0e5",
   "metadata": {
    "execution": {
     "iopub.execute_input": "2023-07-28T17:08:26.841616Z",
     "iopub.status.busy": "2023-07-28T17:08:26.840540Z",
     "iopub.status.idle": "2023-07-28T17:08:26.869475Z",
     "shell.execute_reply": "2023-07-28T17:08:26.868347Z"
    },
    "papermill": {
     "duration": 0.037076,
     "end_time": "2023-07-28T17:08:26.872186",
     "exception": false,
     "start_time": "2023-07-28T17:08:26.835110",
     "status": "completed"
    },
    "tags": []
   },
   "outputs": [
    {
     "data": {
      "text/plain": [
       "['Iris-setosa', 'Iris-versicolor', 'Iris-setosa']"
      ]
     },
     "execution_count": 6,
     "metadata": {},
     "output_type": "execute_result"
    }
   ],
   "source": [
    "class kNearestNeighbors:\n",
    "    def __init__(self,X,y):\n",
    "        self.X = X\n",
    "        self.y = y\n",
    "        \n",
    "    def knn(self,matric='minkowski',k=5):\n",
    "        self.matric = matric\n",
    "        self.k = k\n",
    "        self.y_pre = []\n",
    "        self.p=1\n",
    "        \n",
    "        if self.matric=='Manhattan':\n",
    "            self.p=1\n",
    "        elif self.matric=='Euclidean':\n",
    "            self.p==2\n",
    "        else:\n",
    "            self.p = int(input('Enter p value : '))\n",
    "\n",
    "\n",
    "        for i in range(len(point)):\n",
    "\n",
    "            if  self.p==1:\n",
    "                idx = np.sum(abs(self.X-x1.values[i]),axis=1).sort_values(ascending= True).index[:self.k]\n",
    "                self.y_pre.append(pd.Series.mode(self.y[idx]).values[0])\n",
    "\n",
    "            elif self.p==2:\n",
    "                idx = ((np.sum(((self.X-x1.values[i])**2),axis=1))**0.5).sort_values(ascending= True).index[:self.k]\n",
    "                self.y_pre.append(pd.Series.mode(self.y[idx]).values[0])\n",
    "\n",
    "            else:\n",
    "                idx = np.sum(abs(self.X-x1.values[i])**p,axis=1).sort_values(ascending= True).index[:self.k]\n",
    "                self.y_pre.append(pd.Series.mode(self.y[idx]).values[0])\n",
    "\n",
    "        return self.y_pre\n",
    "\n",
    "\n",
    "    def model_score(self):\n",
    "        return np.sum(self.y_pre==y1)/len(y1)\n",
    "        \n",
    "\n",
    "k = kNearestNeighbors(X,y)\n",
    "k.knn('Euclidean',7)"
   ]
  },
  {
   "cell_type": "code",
   "execution_count": 7,
   "id": "012491ed",
   "metadata": {
    "execution": {
     "iopub.execute_input": "2023-07-28T17:08:26.882904Z",
     "iopub.status.busy": "2023-07-28T17:08:26.882522Z",
     "iopub.status.idle": "2023-07-28T17:08:26.889559Z",
     "shell.execute_reply": "2023-07-28T17:08:26.888694Z"
    },
    "papermill": {
     "duration": 0.015086,
     "end_time": "2023-07-28T17:08:26.891738",
     "exception": false,
     "start_time": "2023-07-28T17:08:26.876652",
     "status": "completed"
    },
    "tags": []
   },
   "outputs": [
    {
     "data": {
      "text/plain": [
       "1.0"
      ]
     },
     "execution_count": 7,
     "metadata": {},
     "output_type": "execute_result"
    }
   ],
   "source": [
    "k.model_score()"
   ]
  }
 ],
 "metadata": {
  "kernelspec": {
   "display_name": "Python 3",
   "language": "python",
   "name": "python3"
  },
  "language_info": {
   "codemirror_mode": {
    "name": "ipython",
    "version": 3
   },
   "file_extension": ".py",
   "mimetype": "text/x-python",
   "name": "python",
   "nbconvert_exporter": "python",
   "pygments_lexer": "ipython3",
   "version": "3.10.12"
  },
  "papermill": {
   "default_parameters": {},
   "duration": 15.925335,
   "end_time": "2023-07-28T17:08:27.918711",
   "environment_variables": {},
   "exception": null,
   "input_path": "__notebook__.ipynb",
   "output_path": "__notebook__.ipynb",
   "parameters": {},
   "start_time": "2023-07-28T17:08:11.993376",
   "version": "2.4.0"
  }
 },
 "nbformat": 4,
 "nbformat_minor": 5
}
